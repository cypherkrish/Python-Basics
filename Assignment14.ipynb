{
 "cells": [
  {
   "cell_type": "markdown",
   "id": "cb1d5465-a1b0-4a10-bd83-7e7a56cdef59",
   "metadata": {},
   "source": [
    "## 1. What does RGBA stand for?"
   ]
  },
  {
   "cell_type": "markdown",
   "id": "474d2971-31e4-4cd0-b052-21209d7c3382",
   "metadata": {},
   "source": [
    "An RGBA value is a group of numbers that specify the amount of red, green, \n",
    "blue, and alpha (or transparency) in a color\n",
    "\n",
    "An RGBA value is a tuple of 4 integers, each ranging from 0 to 255"
   ]
  },
  {
   "cell_type": "markdown",
   "id": "765b567c-c28b-4e55-9a99-4523441521e1",
   "metadata": {
    "tags": []
   },
   "source": [
    "## 2. From the Pillow module, how do you get the RGBA value of any images?"
   ]
  },
  {
   "cell_type": "markdown",
   "id": "5eb2b09b-dc2c-41f7-a3c3-83fa82acd02b",
   "metadata": {},
   "source": [
    " function call to ImageColor.getcolor() will provide the RGBA values of an image"
   ]
  },
  {
   "cell_type": "markdown",
   "id": "60999e2d-091c-44fa-9766-9913e9b619dd",
   "metadata": {},
   "source": [
    "## 3. What is a box tuple, and how does it work?"
   ]
  },
  {
   "cell_type": "markdown",
   "id": "7054dd85-a3b3-426a-acdf-2984d0a48106",
   "metadata": {},
   "source": [
    "A box tuple is a tuple value of four integers: the left edge x-coordinate, \n",
    "the top edge y-coordinate, the width, and the height, respectively"
   ]
  },
  {
   "cell_type": "markdown",
   "id": "26aa207f-16c4-41d0-a057-c81d5714a3d2",
   "metadata": {},
   "source": [
    "## 4. Use your image and load in notebook then, How can you find out the width and height of an Image object?"
   ]
  },
  {
   "cell_type": "code",
   "execution_count": 1,
   "id": "33d0328f-0bff-49a0-be55-53dee5474609",
   "metadata": {},
   "outputs": [],
   "source": [
    "from PIL import Image"
   ]
  },
  {
   "cell_type": "code",
   "execution_count": 13,
   "id": "a347b214-81cf-4d51-8223-19e23fb7aad9",
   "metadata": {},
   "outputs": [],
   "source": [
    "catIm = Image.open(f'lion.PNG')"
   ]
  },
  {
   "cell_type": "code",
   "execution_count": 14,
   "id": "9868244a-8691-4712-a7b8-686161214c00",
   "metadata": {},
   "outputs": [
    {
     "data": {
      "text/plain": [
       "(310, 214)"
      ]
     },
     "execution_count": 14,
     "metadata": {},
     "output_type": "execute_result"
    }
   ],
   "source": [
    "catIm.size"
   ]
  },
  {
   "cell_type": "code",
   "execution_count": 15,
   "id": "b7c4cd46-61a9-493e-8ca5-e3281b639cb1",
   "metadata": {},
   "outputs": [],
   "source": [
    " width, height = catIm.size"
   ]
  },
  {
   "cell_type": "code",
   "execution_count": 16,
   "id": "09c297c7-bea7-4959-96d4-cabcf5d3041d",
   "metadata": {},
   "outputs": [
    {
     "data": {
      "text/plain": [
       "310"
      ]
     },
     "execution_count": 16,
     "metadata": {},
     "output_type": "execute_result"
    }
   ],
   "source": [
    "width"
   ]
  },
  {
   "cell_type": "code",
   "execution_count": 17,
   "id": "ad6c6101-457a-42ff-9e9a-cc9a5edc754f",
   "metadata": {},
   "outputs": [
    {
     "data": {
      "text/plain": [
       "214"
      ]
     },
     "execution_count": 17,
     "metadata": {},
     "output_type": "execute_result"
    }
   ],
   "source": [
    "height"
   ]
  },
  {
   "cell_type": "markdown",
   "id": "ab92903b-c394-4e23-8fdb-f75522d92bce",
   "metadata": {},
   "source": [
    "## 5. What method would you call to get Image object for a 100×100 image, excluding the lower-left quarter of it?"
   ]
  },
  {
   "cell_type": "markdown",
   "id": "1fc35837-f3f4-4c16-b0f1-244f0d744af8",
   "metadata": {},
   "source": [
    "imageObj.crop((0, 50, 50, 50)). Notice that you are passing a box tuple to \n",
    "crop(), not four separate integer arguments."
   ]
  },
  {
   "cell_type": "markdown",
   "id": "d31fb578-2b90-4676-8390-71c04f4ed7f7",
   "metadata": {},
   "source": [
    "## 6. After making changes to an Image object, how could you save it as an image file?"
   ]
  },
  {
   "cell_type": "markdown",
   "id": "ad27b705-5693-4788-a4c5-44a677c44d09",
   "metadata": {},
   "source": [
    "Call the imageObj.save('new_filename.png') method of the Image object"
   ]
  },
  {
   "cell_type": "markdown",
   "id": "5445e7ff-2c0a-4efb-adb8-3ad48cc846f3",
   "metadata": {},
   "source": [
    "## 7. What module contains Pillow’s shape-drawing code?"
   ]
  },
  {
   "cell_type": "markdown",
   "id": "5fc63172-bfe4-4a94-a076-f2ab0b64c9f5",
   "metadata": {},
   "source": [
    "The ImageDraw module contains code to draw on images"
   ]
  },
  {
   "cell_type": "markdown",
   "id": "56c17135-e588-44dc-a9f1-7d3ae711a514",
   "metadata": {},
   "source": [
    "## 8. Image objects do not have drawing methods. What kind of object does? How do you get this kind of object?"
   ]
  },
  {
   "cell_type": "markdown",
   "id": "40ad0068-15a8-4358-8ac8-534a5b7358c0",
   "metadata": {},
   "source": [
    "ImageDraw objects have shape-drawing methods such as point(), line(), \n",
    "or rectangle(). They are returned by passing the Image object to the \n",
    "ImageDraw.Draw() function."
   ]
  },
  {
   "cell_type": "code",
   "execution_count": null,
   "id": "f38bb79d-9fb2-42c5-9bf4-90d97d5fde06",
   "metadata": {},
   "outputs": [],
   "source": []
  }
 ],
 "metadata": {
  "kernelspec": {
   "display_name": "Python 3 (ipykernel)",
   "language": "python",
   "name": "python3"
  },
  "language_info": {
   "codemirror_mode": {
    "name": "ipython",
    "version": 3
   },
   "file_extension": ".py",
   "mimetype": "text/x-python",
   "name": "python",
   "nbconvert_exporter": "python",
   "pygments_lexer": "ipython3",
   "version": "3.10.6"
  }
 },
 "nbformat": 4,
 "nbformat_minor": 5
}
