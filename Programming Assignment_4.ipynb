{
 "cells": [
  {
   "cell_type": "markdown",
   "id": "490f4f4b-6b83-4188-b215-70e79e8760db",
   "metadata": {},
   "source": [
    "## 1. Write a Python Program to Find the Factorial of a Number?"
   ]
  },
  {
   "cell_type": "code",
   "execution_count": 11,
   "id": "b5200032-e912-4ce6-9256-edab19d5b2da",
   "metadata": {},
   "outputs": [
    {
     "name": "stdin",
     "output_type": "stream",
     "text": [
      "Factorial of:  9\n"
     ]
    },
    {
     "name": "stdout",
     "output_type": "stream",
     "text": [
      "Factorial of 9 is 362880\n"
     ]
    }
   ],
   "source": [
    "n  = int(input(\"Factorial of: \"))\n",
    "fact = 1\n",
    "\n",
    "if n == 0:\n",
    "    print(\"Factorial of {0} is 1\".format(n))\n",
    "\n",
    "if n == 1:\n",
    "    print(\"Factorial of {0} is 1\".format(n))\n",
    "\n",
    "if n > 1:  \n",
    "    for i in range (1, n+1):\n",
    "        fact = fact * i\n",
    "    print(\"Factorial of {0} is {1}\".format(n, fact))"
   ]
  },
  {
   "cell_type": "markdown",
   "id": "aaf0a0b4-931c-4a19-8593-be100253d9fc",
   "metadata": {},
   "source": [
    "## 2. Write a Python Program to Display the multiplication Table?"
   ]
  },
  {
   "cell_type": "code",
   "execution_count": 15,
   "id": "f47ae17a-be40-4889-8d44-858103e3c7ad",
   "metadata": {},
   "outputs": [
    {
     "name": "stdin",
     "output_type": "stream",
     "text": [
      "Table number:  50\n"
     ]
    },
    {
     "name": "stdout",
     "output_type": "stream",
     "text": [
      "50 * 1 = 50\n",
      "50 * 2 = 100\n",
      "50 * 3 = 150\n",
      "50 * 4 = 200\n",
      "50 * 5 = 250\n",
      "50 * 6 = 300\n",
      "50 * 7 = 350\n",
      "50 * 8 = 400\n",
      "50 * 9 = 450\n",
      "50 * 10 = 500\n"
     ]
    }
   ],
   "source": [
    "num = int(input(\"Table number: \"))\n",
    "          \n",
    "for i in range (1, 11):\n",
    "    print(f\"{num} * {i} = { num*i}\" )"
   ]
  },
  {
   "cell_type": "markdown",
   "id": "9c94fec3-0059-4287-9cd1-52de10f57398",
   "metadata": {},
   "source": [
    "## 3. Write a Python Program to Print the Fibonacci sequence?"
   ]
  },
  {
   "cell_type": "code",
   "execution_count": 29,
   "id": "be52cb44-d023-4c12-8db7-a9daac1ed64f",
   "metadata": {},
   "outputs": [
    {
     "name": "stdin",
     "output_type": "stream",
     "text": [
      "Enter number of fib elemets required:  5\n"
     ]
    },
    {
     "name": "stdout",
     "output_type": "stream",
     "text": [
      "0 th fib element: 0\n",
      "1 th fib element: 1\n",
      "2 th fib element: 1\n",
      "3 th fib element: 2\n",
      "4 th fib element: 3\n"
     ]
    }
   ],
   "source": [
    "num = int(input(\"Enter number of fib elemets required: \"))\n",
    "a = 0\n",
    "b = 1\n",
    "i = 0\n",
    "\n",
    "if num == 0:\n",
    "    print(\"Please enter valid number\")\n",
    "else:\n",
    "    while i < num:\n",
    "        print (f\"{i} th fib element: {a}\")\n",
    "        a , b = b, a\n",
    "        b = b + a\n",
    "        i += 1"
   ]
  },
  {
   "cell_type": "markdown",
   "id": "b18fd457-ca91-4482-8b7c-73caf5b4ee5b",
   "metadata": {},
   "source": [
    "## 4. Write a Python Program to Check Armstrong Number?"
   ]
  },
  {
   "cell_type": "code",
   "execution_count": 77,
   "id": "d1d02374-7448-47a6-9910-087cfb8550e0",
   "metadata": {},
   "outputs": [
    {
     "name": "stdin",
     "output_type": "stream",
     "text": [
      "Number:  153\n"
     ]
    },
    {
     "name": "stdout",
     "output_type": "stream",
     "text": [
      "153\n",
      "153 is Armstrong Number\n"
     ]
    }
   ],
   "source": [
    "n = str(input(\"Number: \"))\n",
    "num = int(n)\n",
    "b = num\n",
    "s = 0\n",
    "\n",
    "if n == 0:\n",
    "    print(\"Enter valid number\")\n",
    "elif (len(n) != 3):\n",
    "    print(\"Enter a 3 digit number\")\n",
    "else:\n",
    "    j = len(n)\n",
    "    while j > 0:\n",
    "        a = b % 10\n",
    "        b = b // 10\n",
    "        s = s + a ** len(n)\n",
    "        j = j - 1\n",
    "    print(s)\n",
    "    if s == num:\n",
    "        print(f\"{num} is Armstrong Number\")\n",
    "    else:\n",
    "        print(f\"{num} is NOT Armstrong Number\")\n"
   ]
  },
  {
   "cell_type": "markdown",
   "id": "f28b6f1c-4c13-4aab-a107-9810ad0f09f5",
   "metadata": {},
   "source": [
    "## 5. Write a Python Program to Find Armstrong Number in an Interval?"
   ]
  },
  {
   "cell_type": "code",
   "execution_count": 88,
   "id": "55d27816-4a2c-41a8-b63b-a9fb62edde61",
   "metadata": {},
   "outputs": [
    {
     "name": "stdin",
     "output_type": "stream",
     "text": [
      "Start range:  100\n",
      "End range:  999\n"
     ]
    },
    {
     "name": "stdout",
     "output_type": "stream",
     "text": [
      "153 is Armstrong Number\n",
      "370 is Armstrong Number\n",
      "371 is Armstrong Number\n",
      "407 is Armstrong Number\n"
     ]
    }
   ],
   "source": [
    "start   = int(input(\"Start range: \"))\n",
    "end = int(input(\"End range: \"))\n",
    "\n",
    "if end < start:\n",
    "    print(\"End shound be greater than start\")\n",
    "for i in range(start, end+1):\n",
    "    n = str(i)\n",
    "    num = int(n)\n",
    "    b = num\n",
    "    s = 0\n",
    "\n",
    "    if n == 0:\n",
    "        print(\"Enter valid number\")\n",
    "    elif (len(n) != 3):\n",
    "        print(f\"{num} is not a 3 digit number\")\n",
    "    else:\n",
    "        j = len(n)\n",
    "        while j > 0:\n",
    "            a = b % 10\n",
    "            b = b // 10\n",
    "            s = s + a ** len(n)\n",
    "            j = j - 1\n",
    "        if s == num:\n",
    "            print(f\"{num} is Armstrong Number\")"
   ]
  },
  {
   "cell_type": "markdown",
   "id": "07fe7455-509b-4b6f-8819-d883e3489687",
   "metadata": {},
   "source": [
    "## 6. Write a Python Program to Find the Sum of Natural Numbers?"
   ]
  },
  {
   "cell_type": "code",
   "execution_count": null,
   "id": "26aa871b-0526-4d62-836a-0288981c9c99",
   "metadata": {},
   "outputs": [],
   "source": [
    "n = int(input(\"n: \"))\n",
    "\n",
    "nsum = n * (n + 1 ) /2\n",
    "\n",
    "print(f\"Sum of {n} Natural Numbers is: {nsum} \")\n",
    "\n",
    "s = 0\n",
    "for i in range(0, n+1):\n",
    "    s = s + i\n",
    "print(f\"Sum of {n} Natural Numbers is: {s} \")"
   ]
  },
  {
   "cell_type": "code",
   "execution_count": null,
   "id": "c8fdd923-c31b-4762-b670-6754b17b1994",
   "metadata": {},
   "outputs": [],
   "source": []
  }
 ],
 "metadata": {
  "kernelspec": {
   "display_name": "Python 3 (ipykernel)",
   "language": "python",
   "name": "python3"
  },
  "language_info": {
   "codemirror_mode": {
    "name": "ipython",
    "version": 3
   },
   "file_extension": ".py",
   "mimetype": "text/x-python",
   "name": "python",
   "nbconvert_exporter": "python",
   "pygments_lexer": "ipython3",
   "version": "3.10.6"
  }
 },
 "nbformat": 4,
 "nbformat_minor": 5
}
