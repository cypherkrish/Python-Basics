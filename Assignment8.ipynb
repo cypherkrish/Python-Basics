{
 "cells": [
  {
   "cell_type": "markdown",
   "id": "68e310af-5fcd-42e3-a905-212ffd6a7890",
   "metadata": {},
   "source": [
    "## Q: 1. Is the Python Standard Library included with PyInputPlus?"
   ]
  },
  {
   "cell_type": "markdown",
   "id": "c0b8ca5b-ec3d-4813-9390-4c43f1ddebb3",
   "metadata": {},
   "source": [
    "#### Ans:\n",
    "\n",
    "PyInputPlus is not a part of the Python Standard Library, we must install it separately using Pip."
   ]
  },
  {
   "cell_type": "markdown",
   "id": "6513fec7-0d7c-4cab-aae5-34a05deaf071",
   "metadata": {},
   "source": [
    "## Q: 2. Why is PyInputPlus commonly imported with import pyinputplus as pypi?"
   ]
  },
  {
   "cell_type": "markdown",
   "id": "8756c383-d250-43a7-8cce-57fbeee8d95f",
   "metadata": {},
   "source": [
    "User can import the module with any alias name.\n",
    "\n",
    "Usually we use the shorter name as it will be use multiple times in the programme.\n",
    "\n",
    "You can import the module with import pyinputplus as pyip so that you can enter a shorter name when calling the module’s functions"
   ]
  },
  {
   "cell_type": "markdown",
   "id": "bd35bc69-1d3b-4931-be2f-7a2d0e9f6e9c",
   "metadata": {},
   "source": [
    "## Q 3. How do you distinguish between inputInt() and inputFloat()?"
   ]
  },
  {
   "cell_type": "markdown",
   "id": "d64b1082-e71f-43c9-81a3-c5885d538c43",
   "metadata": {},
   "source": [
    "#### Ans:\n",
    "\n",
    "The difference is in the data-type that these functions accept.\n",
    "\n",
    "inputInt() => Expects the integer value as the input\n",
    "\n",
    "inputfloat() => Expectes a float value as an input."
   ]
  },
  {
   "cell_type": "markdown",
   "id": "e6f13704-5228-48d0-ab22-eb4a5032efc4",
   "metadata": {},
   "source": [
    "## Q: 4. Using PyInputPlus, how do you ensure that the user enters a whole number between 0 and 99?"
   ]
  },
  {
   "cell_type": "markdown",
   "id": "4729db7b-f4e8-44fd-8326-230dbefbc544",
   "metadata": {},
   "source": [
    "import PyInputPlus as pyip\n",
    "\n",
    "pyip.inputint(min=0, max=99)"
   ]
  },
  {
   "cell_type": "markdown",
   "id": "e6b7004f-4ae5-458a-b25b-722aae0ba74a",
   "metadata": {},
   "source": [
    "## Q: 5. What is transferred to the keyword arguments allowRegexes and blockRegexes?"
   ]
  },
  {
   "cell_type": "markdown",
   "id": "172c82c4-f890-4b52-8990-71e07dd2768d",
   "metadata": {},
   "source": [
    "### Ans: \n",
    "The allowRegexes and blockRegexes keyword arguments take a list of regular expression strings to determine what the PyInputPlus function will accept or reject as valid input."
   ]
  },
  {
   "cell_type": "markdown",
   "id": "24fc3c05-5f6d-4aa1-8edb-a3f621b52f50",
   "metadata": {},
   "source": [
    "## Q: 6. If a blank input is entered three times, what does inputStr(limit=3) do?"
   ]
  },
  {
   "cell_type": "markdown",
   "id": "434ea4f1-df19-4b5f-9996-5725288c20cc",
   "metadata": {},
   "source": [
    "The function will raise RetryLimitException."
   ]
  },
  {
   "cell_type": "markdown",
   "id": "e7d65456-595c-454d-94c8-3ef04283014a",
   "metadata": {},
   "source": [
    "## Q: 7. If blank input is entered three times, what does inputStr(limit=3, default=&#39;hello&#39;) do?"
   ]
  },
  {
   "cell_type": "markdown",
   "id": "46f3b5d1-a629-46e3-8694-0bae4c16a52c",
   "metadata": {},
   "source": [
    "The function returns the value 'hello'"
   ]
  },
  {
   "cell_type": "code",
   "execution_count": null,
   "id": "9f3e7141-780d-43c0-b35f-0c626fbc2bbc",
   "metadata": {},
   "outputs": [],
   "source": []
  }
 ],
 "metadata": {
  "kernelspec": {
   "display_name": "Python 3 (ipykernel)",
   "language": "python",
   "name": "python3"
  },
  "language_info": {
   "codemirror_mode": {
    "name": "ipython",
    "version": 3
   },
   "file_extension": ".py",
   "mimetype": "text/x-python",
   "name": "python",
   "nbconvert_exporter": "python",
   "pygments_lexer": "ipython3",
   "version": "3.10.6"
  }
 },
 "nbformat": 4,
 "nbformat_minor": 5
}
