{
 "cells": [
  {
   "cell_type": "markdown",
   "id": "05eebdd8-3606-410c-a0c3-6dc537d4eb9d",
   "metadata": {},
   "source": [
    "## 1. Write a Python Program to Find LCM?"
   ]
  },
  {
   "cell_type": "code",
   "execution_count": 5,
   "id": "04cd76b0-b77c-4991-a1c1-660beb9d96a3",
   "metadata": {},
   "outputs": [
    {
     "name": "stdin",
     "output_type": "stream",
     "text": [
      "a :  10\n",
      "b :  5\n"
     ]
    },
    {
     "name": "stdout",
     "output_type": "stream",
     "text": [
      "10 is the LCM of 10 and 5\n"
     ]
    }
   ],
   "source": [
    "a = int(input(\"a : \"))\n",
    "b = int(input(\"b : \"))\n",
    "\n",
    "minimum = 0\n",
    "\n",
    "if a > b:\n",
    "    minimum = b\n",
    "\n",
    "if a < b:\n",
    "    minimum = a\n",
    "    \n",
    "while (1):\n",
    "    if ( minimum % a == 0 and  minimum % b==0):\n",
    "        print(f\"{minimum} is the LCM of {a} and {b}\")\n",
    "        break\n",
    "    minimum = minimum + 1"
   ]
  },
  {
   "cell_type": "markdown",
   "id": "4ef2c605-ce38-4670-9caf-83cc4297e154",
   "metadata": {},
   "source": [
    "## 2. Write a Python Program to Find HCF?"
   ]
  },
  {
   "cell_type": "code",
   "execution_count": 5,
   "id": "dd267cf7-a334-4dce-acdd-c406b267af7c",
   "metadata": {},
   "outputs": [
    {
     "name": "stdin",
     "output_type": "stream",
     "text": [
      "a :  9\n",
      "b :  7\n"
     ]
    },
    {
     "name": "stdout",
     "output_type": "stream",
     "text": [
      "HCF of 9 and 7 is : 1\n"
     ]
    }
   ],
   "source": [
    "a = int(input(\"a : \"))\n",
    "b = int(input(\"b : \"))\n",
    "hcf = 1\n",
    "\n",
    "for i in range(1, min(a, b)):\n",
    "    if a % i == 0 and b % i == 0:\n",
    "        hcf = i\n",
    "\n",
    "print('HCF of {0} and {1} is : {2}'.format(a, b, hcf))"
   ]
  },
  {
   "cell_type": "markdown",
   "id": "e4dd8282-6be3-4455-9348-baeb0e9dd338",
   "metadata": {},
   "source": [
    "## 3. Write a Python Program to Convert Decimal to Binary, Octal and Hexadecimal?"
   ]
  },
  {
   "cell_type": "code",
   "execution_count": 32,
   "id": "bdb1596b-9ea2-4f85-b4f2-977dcdbeb443",
   "metadata": {},
   "outputs": [
    {
     "name": "stdin",
     "output_type": "stream",
     "text": [
      "Enter decimal number:  25\n"
     ]
    },
    {
     "name": "stdout",
     "output_type": "stream",
     "text": [
      "Binary number for the given decimal 25 is : 11001\n",
      "Octal number for the given decimal 25 is : 31\n",
      "Hexadecimal number for the given decimal 25 is : 19\n"
     ]
    }
   ],
   "source": [
    "decimal = int(input(\"Enter decimal number: \"))\n",
    "\n",
    "def dec2bin(decimal):\n",
    "    p = 0\n",
    "    binary = 0\n",
    "    temp = decimal\n",
    "    \n",
    "    while (temp > 0):\n",
    "        binary = ((temp % 2) * (10 ** p)) + binary\n",
    "        temp = int(temp//2)\n",
    "        p = p + 1\n",
    "    return binary\n",
    "\n",
    "def dec2oct(decimal):\n",
    "    o = 0\n",
    "    octal = 0\n",
    "    tempOct = decimal\n",
    "    while (tempOct > 0):\n",
    "        octal = ((tempOct % 8) * (10 ** o)) + octal\n",
    "        tempOct = int(tempOct//8)\n",
    "        o = o + 1\n",
    "    return octal\n",
    "    \n",
    "\n",
    "def dec2hexa(decimal):\n",
    "\n",
    "    conversion = { 0: '0', 1: '1', 2:'2', 3:'3', 4: '4', 5 :'5', 6:'6', 7:'7', 8:'8', 9:'9', 10:'A', 11:'B', 12:'C', 13:'D', 14:'E', 14:'F'}\n",
    "\n",
    "    h = 0\n",
    "    hexa = ''\n",
    "    tempHexa = decimal\n",
    "    while (tempHexa > 0):\n",
    "        hexa = conversion[int(tempHexa % 16)] + hexa\n",
    "        tempHexa = int(tempHexa//16)\n",
    "        h = h + 1\n",
    "    return hexa\n",
    "\n",
    "print(\"Binary number for the given decimal {0} is : {1}\".format(decimal,dec2bin(decimal)))\n",
    "\n",
    "print(\"Octal number for the given decimal {0} is : {1}\".format(decimal,dec2oct(decimal)))  \n",
    "\n",
    "print(\"Hexadecimal number for the given decimal {0} is : {1}\".format(decimal,dec2hexa(decimal)))  "
   ]
  },
  {
   "cell_type": "markdown",
   "id": "6838e9f9-993d-4ad3-9065-e824552c2076",
   "metadata": {},
   "source": [
    "## 4. Write a Python Program To Find ASCII value of a character?"
   ]
  },
  {
   "cell_type": "code",
   "execution_count": 42,
   "id": "8b4967b0-1947-4aed-bae3-58c7ad5ebc3b",
   "metadata": {},
   "outputs": [
    {
     "name": "stdin",
     "output_type": "stream",
     "text": [
      "Enter character:  8\n"
     ]
    },
    {
     "name": "stdout",
     "output_type": "stream",
     "text": [
      "ASCII character of 8 is : 56\n"
     ]
    }
   ],
   "source": [
    "char = input(\"Enter character: \")\n",
    "\n",
    "if len(char) == 1:\n",
    "    print(\"ASCII character of {a} is : {b}\".format(a = char, b = ord(char)))\n",
    "else:\n",
    "    print(\"Input should be a silngle character. Please try again\")"
   ]
  },
  {
   "cell_type": "markdown",
   "id": "54ab3497-c6f7-4d41-84d0-c6283ee28b16",
   "metadata": {},
   "source": [
    "## 5. Write a Python Program to Make a Simple Calculator with 4 basic mathematical operations?"
   ]
  },
  {
   "cell_type": "code",
   "execution_count": 44,
   "id": "064a576a-b225-4465-9800-b835293a24dc",
   "metadata": {},
   "outputs": [
    {
     "name": "stdin",
     "output_type": "stream",
     "text": [
      "Enter a:  50\n",
      "Enter b:  25\n"
     ]
    },
    {
     "name": "stdout",
     "output_type": "stream",
     "text": [
      "Addition of 50 and 25: 75\n",
      "Subtraction of 50 and 25: 25\n",
      "Multiplication of 50 and 25: 1250\n",
      "Division of 50 and 25: 2.0\n"
     ]
    }
   ],
   "source": [
    "a = int(input(\"Enter a: \"))\n",
    "\n",
    "b = int(input(\"Enter b: \"))\n",
    "\n",
    "def addition(a, b):\n",
    "    return a + b\n",
    "\n",
    "def subtract(a, b):\n",
    "    return a-b\n",
    "\n",
    "def multiplication(a, b):\n",
    "    return a * b\n",
    "\n",
    "def division(a, b):\n",
    "    return a/b\n",
    "\n",
    "print(\"Addition of {a} and {b}: {c}\".format(a=a, b=b, c= addition(a, b)))\n",
    "\n",
    "print(\"Subtraction of {a} and {b}: {c}\".format(a=a, b=b, c= subtract(a, b)))\n",
    "\n",
    "print(\"Multiplication of {a} and {b}: {c}\".format(a=a, b=b, c= multiplication(a, b)))\n",
    "\n",
    "print(\"Division of {a} and {b}: {c}\".format(a=a, b=b, c= division(a, b)))\n",
    "\n"
   ]
  },
  {
   "cell_type": "code",
   "execution_count": null,
   "id": "a02ff3ba-5bdb-4052-acd4-37d8d203ee7a",
   "metadata": {},
   "outputs": [],
   "source": []
  }
 ],
 "metadata": {
  "kernelspec": {
   "display_name": "Python 3 (ipykernel)",
   "language": "python",
   "name": "python3"
  },
  "language_info": {
   "codemirror_mode": {
    "name": "ipython",
    "version": 3
   },
   "file_extension": ".py",
   "mimetype": "text/x-python",
   "name": "python",
   "nbconvert_exporter": "python",
   "pygments_lexer": "ipython3",
   "version": "3.10.6"
  }
 },
 "nbformat": 4,
 "nbformat_minor": 5
}
