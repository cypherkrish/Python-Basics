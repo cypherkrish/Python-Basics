{
 "cells": [
  {
   "cell_type": "markdown",
   "id": "170663d0-5e88-4b1b-964b-8f998d5cd25f",
   "metadata": {},
   "source": [
    "## 1. Write a Python program to check if the given number is a Disarium Number?"
   ]
  },
  {
   "cell_type": "code",
   "execution_count": 28,
   "id": "e9a91cb4-fc26-4e51-8cdb-6a1f398c17d7",
   "metadata": {},
   "outputs": [
    {
     "name": "stdin",
     "output_type": "stream",
     "text": [
      "Enter the number:  123\n"
     ]
    },
    {
     "name": "stdout",
     "output_type": "stream",
     "text": [
      "The number 123 is NOT a Disarium Number\n"
     ]
    }
   ],
   "source": [
    "n = str(input(\"Enter the number: \"))\n",
    "num = int (n)\n",
    "l = len(n)\n",
    "\n",
    "temp = 0\n",
    "while (l > 0):\n",
    "    temp = temp + (int(n[l-1]) ** l)\n",
    "    l -= 1\n",
    "    \n",
    "if ( num == temp):\n",
    "    print(f\"The number {num} is a Disarium Number\")\n",
    "else:\n",
    "    print(f\"The number {num} is NOT a Disarium Number\")\n",
    "\n",
    "    "
   ]
  },
  {
   "cell_type": "markdown",
   "id": "4fea1d66-aa43-4553-8d43-9fc6fe627606",
   "metadata": {},
   "source": [
    "## 2. Write a Python program to print all disarium numbers between 1 to 100?"
   ]
  },
  {
   "cell_type": "code",
   "execution_count": 32,
   "id": "1237c706-52d6-4071-8b3c-8309301f0e8e",
   "metadata": {},
   "outputs": [],
   "source": [
    "def disarium (n):\n",
    "    num = int (n)\n",
    "    l = len(n)\n",
    "\n",
    "    temp = 0\n",
    "    while (l > 0):\n",
    "        temp = temp + (int(n[l-1]) ** l)\n",
    "        l -= 1\n",
    "\n",
    "    if ( num == temp):\n",
    "        return True\n",
    "    else:\n",
    "        return False"
   ]
  },
  {
   "cell_type": "code",
   "execution_count": 35,
   "id": "972fe0b9-f7c4-45c5-b87d-370191201ca7",
   "metadata": {
    "jupyter": {
     "source_hidden": true
    },
    "tags": []
   },
   "outputs": [
    {
     "name": "stdout",
     "output_type": "stream",
     "text": [
      "Disarium numbers between 1 to 100: \n",
      "1 2 3 4 5 6 7 8 9 89 "
     ]
    }
   ],
   "source": [
    "print(\"Disarium numbers between 1 to 100: \")\n",
    "for i in range(1, 101):\n",
    "    if disarium(str(i)):\n",
    "        print(i, end = ' ')"
   ]
  },
  {
   "cell_type": "markdown",
   "id": "5cf5e591-a0c6-47e4-b15e-8134b7b59ee3",
   "metadata": {
    "tags": []
   },
   "source": [
    "## 3. Write a Python program to check if the given number is Happy Number?"
   ]
  },
  {
   "cell_type": "code",
   "execution_count": 43,
   "id": "6f1c1509-b427-48f8-898b-21edb205f8db",
   "metadata": {},
   "outputs": [],
   "source": [
    "def happynum(n):\n",
    "    if n == 1:\n",
    "        return True\n",
    "    if len(str(n)) == 1 and n != 1:\n",
    "        return False\n",
    "    \n",
    "    temp = 0\n",
    "    num = n\n",
    "    for i in range(len(str(n))):\n",
    "        a = num % 10\n",
    "        temp = temp + a ** 2\n",
    "        num = num // 10\n",
    "    return happynum(temp)"
   ]
  },
  {
   "cell_type": "code",
   "execution_count": 44,
   "id": "3e4212bf-d223-40b2-adf9-144f9a2f4e27",
   "metadata": {},
   "outputs": [
    {
     "name": "stdin",
     "output_type": "stream",
     "text": [
      "Enter then number:  120\n"
     ]
    },
    {
     "name": "stdout",
     "output_type": "stream",
     "text": [
      "The number 120 is NOT a Happy Number\n"
     ]
    }
   ],
   "source": [
    "n = int(input(\"Enter then number: \"))\n",
    "\n",
    "if happynum(n):\n",
    "    print(f'The number {n} is a Happy Number')\n",
    "else:\n",
    "    print(f'The number {n} is NOT a Happy Number')"
   ]
  },
  {
   "cell_type": "markdown",
   "id": "c9ee5c27-2844-4da8-a0f7-e2764461ca68",
   "metadata": {},
   "source": [
    "## 4. Write a Python program to print all happy numbers between 1 and 100?"
   ]
  },
  {
   "cell_type": "code",
   "execution_count": 46,
   "id": "713c334b-db4b-4f09-9c4a-0761d3606300",
   "metadata": {
    "jupyter": {
     "source_hidden": true
    },
    "tags": []
   },
   "outputs": [
    {
     "name": "stdout",
     "output_type": "stream",
     "text": [
      "Happy numbers between 1 and 100\n",
      "1 10 13 19 23 28 31 32 44 49 68 70 79 82 86 91 94 97 100 "
     ]
    }
   ],
   "source": [
    "print('Happy numbers between 1 and 100')\n",
    "for i in range(1, 101):\n",
    "    if happynum(i):\n",
    "        print(i, end = ' ')\n",
    "        "
   ]
  },
  {
   "cell_type": "markdown",
   "id": "8c84592e-25e8-4d79-b1fe-d4237cb00218",
   "metadata": {
    "tags": []
   },
   "source": [
    "## 5. Write a Python program to determine whether the given number is a Harshad Number?"
   ]
  },
  {
   "cell_type": "code",
   "execution_count": 53,
   "id": "348d07d4-9577-440c-afef-8d9590dd4f2c",
   "metadata": {},
   "outputs": [
    {
     "name": "stdin",
     "output_type": "stream",
     "text": [
      "Enter number:  156\n"
     ]
    },
    {
     "name": "stdout",
     "output_type": "stream",
     "text": [
      "156 is a Harshad Number\n"
     ]
    }
   ],
   "source": [
    "n = int(input(\"Enter number: \"))\n",
    "lst = []\n",
    "num = n\n",
    "\n",
    "i = len(str(n))\n",
    "\n",
    "while(num > 0):\n",
    "    lst.append(num % 10)\n",
    "    num = num // 10\n",
    "    \n",
    "sum = 0\n",
    "for i in lst:\n",
    "    sum = sum + i\n",
    "\n",
    "if (n % sum == 0):\n",
    "    print(f'{n} is a Harshad Number')\n",
    "else:\n",
    "    print(f'{n} is NOT a Harshad Number')\n",
    "    "
   ]
  },
  {
   "cell_type": "markdown",
   "id": "1a329c1e-0333-47c7-91c3-14cc80f48bfd",
   "metadata": {},
   "source": [
    "## 6. Write a Python program to print all pronic numbers between 1 and 100?"
   ]
  },
  {
   "cell_type": "code",
   "execution_count": 61,
   "id": "1645a5d9-3600-4425-8113-e7541d3ec6fc",
   "metadata": {},
   "outputs": [
    {
     "name": "stdout",
     "output_type": "stream",
     "text": [
      "Pronic numbers between 1 and 100: \n",
      "\n",
      "2 6 12 20 30 42 56 72 90 "
     ]
    }
   ],
   "source": [
    "def pronicnumber(n):\n",
    "    for i in range(n):\n",
    "        if i * (i+1) == n:\n",
    "            return True\n",
    "        \n",
    "print('Pronic numbers between 1 and 100: \\n')\n",
    "for i in range(101):\n",
    "    if pronicnumber(i):\n",
    "        print(i, end= ' ')"
   ]
  }
 ],
 "metadata": {
  "kernelspec": {
   "display_name": "Python 3 (ipykernel)",
   "language": "python",
   "name": "python3"
  },
  "language_info": {
   "codemirror_mode": {
    "name": "ipython",
    "version": 3
   },
   "file_extension": ".py",
   "mimetype": "text/x-python",
   "name": "python",
   "nbconvert_exporter": "python",
   "pygments_lexer": "ipython3",
   "version": "3.10.6"
  }
 },
 "nbformat": 4,
 "nbformat_minor": 5
}
