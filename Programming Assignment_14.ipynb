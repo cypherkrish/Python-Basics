{
 "cells": [
  {
   "cell_type": "markdown",
   "id": "200041da-d6ec-4e13-b60c-745e11570251",
   "metadata": {},
   "source": [
    "## Question 1:\n",
    "Define a class with a generator which can iterate the numbers, which are divisible by\n",
    "7, between a given range 0 and n."
   ]
  },
  {
   "cell_type": "code",
   "execution_count": 6,
   "id": "71810988-73cf-4083-9fb9-032f9b36e57d",
   "metadata": {},
   "outputs": [],
   "source": [
    "class itreatorClass:\n",
    "    def __init__ (self, n):\n",
    "        self.n = n\n",
    "        \n",
    "    def divByseven(self):\n",
    "        for i in range(self.n):\n",
    "            if i % 7 ==0:\n",
    "                yield i"
   ]
  },
  {
   "cell_type": "code",
   "execution_count": 19,
   "id": "6c7c1f1d-9929-4a16-aba4-3333361fac7d",
   "metadata": {},
   "outputs": [
    {
     "name": "stdin",
     "output_type": "stream",
     "text": [
      "Enter the number:  25\n"
     ]
    },
    {
     "name": "stdout",
     "output_type": "stream",
     "text": [
      "\n",
      "Numbers, which are divisible by 7, between a given range 0 and 25:\n",
      "0\n",
      "7\n",
      "14\n",
      "21\n"
     ]
    }
   ],
   "source": [
    "n = int(input(\"Enter the number: \"))\n",
    "\n",
    "divby7 = itreatorClass(n)\n",
    "\n",
    "print(f'\\nNumbers, which are divisible by 7, between a given range 0 and {n}:')\n",
    "for i in divby7.divByseven():\n",
    "    print(i)\n",
    "    "
   ]
  },
  {
   "cell_type": "markdown",
   "id": "5fe6cba1-32f1-484c-ad73-737adf0f6c98",
   "metadata": {},
   "source": [
    "## Question 2:\n",
    "\n",
    "Write a program to compute the frequency of the words from the input. The output\n",
    "should output after sorting the key alphanumerically.\n",
    "\n",
    "\n",
    "Suppose the following input is supplied to the program:\n",
    "    \n",
    "New to Python or choosing between Python 2 and Python 3? Read Python 2 or Python 3.\n",
    "\n",
    "Then, the output should be:\n",
    "    \n",
    "2:2\n",
    "\n",
    "3.:1\n",
    "\n",
    "3?:1\n",
    "\n",
    "New:1\n",
    "\n",
    "Python:5\n",
    "\n",
    "Read:1\n",
    "\n",
    "and:1\n",
    "\n",
    "between:1\n",
    "\n",
    "choosing:1\n",
    "\n",
    "or:2\n",
    "\n",
    "to:1"
   ]
  },
  {
   "cell_type": "code",
   "execution_count": 23,
   "id": "8c0bf926-cb0f-4676-b27c-650fdf4b0cef",
   "metadata": {},
   "outputs": [],
   "source": [
    "import collections"
   ]
  },
  {
   "cell_type": "code",
   "execution_count": 24,
   "id": "df9df82c-ed98-4712-a1ad-5e554c2419b6",
   "metadata": {},
   "outputs": [],
   "source": [
    "string = 'New to Python or choosing between Python 2 and Python 3? Read Python 2 or Python 3.'.split(' ')"
   ]
  },
  {
   "cell_type": "code",
   "execution_count": 25,
   "id": "c49a0b49-f0f6-4a91-b43f-bd49f753405c",
   "metadata": {},
   "outputs": [
    {
     "data": {
      "text/plain": [
       "['New',\n",
       " 'to',\n",
       " 'Python',\n",
       " 'or',\n",
       " 'choosing',\n",
       " 'between',\n",
       " 'Python',\n",
       " '2',\n",
       " 'and',\n",
       " 'Python',\n",
       " '3?',\n",
       " 'Read',\n",
       " 'Python',\n",
       " '2',\n",
       " 'or',\n",
       " 'Python',\n",
       " '3.']"
      ]
     },
     "execution_count": 25,
     "metadata": {},
     "output_type": "execute_result"
    }
   ],
   "source": [
    "string"
   ]
  },
  {
   "cell_type": "code",
   "execution_count": 27,
   "id": "633bcd20-6c5c-4795-ae3f-1fd2a8de79a9",
   "metadata": {},
   "outputs": [],
   "source": [
    "dic = collections.Counter(string)"
   ]
  },
  {
   "cell_type": "code",
   "execution_count": 28,
   "id": "0197f286-60c8-4f7d-8ad7-305e7fcd8e71",
   "metadata": {},
   "outputs": [
    {
     "data": {
      "text/plain": [
       "Counter({'New': 1,\n",
       "         'to': 1,\n",
       "         'Python': 5,\n",
       "         'or': 2,\n",
       "         'choosing': 1,\n",
       "         'between': 1,\n",
       "         '2': 2,\n",
       "         'and': 1,\n",
       "         '3?': 1,\n",
       "         'Read': 1,\n",
       "         '3.': 1})"
      ]
     },
     "execution_count": 28,
     "metadata": {},
     "output_type": "execute_result"
    }
   ],
   "source": [
    "dic"
   ]
  },
  {
   "cell_type": "code",
   "execution_count": 41,
   "id": "880b176f-f978-4250-bc00-30fa1e3d7968",
   "metadata": {},
   "outputs": [
    {
     "name": "stdout",
     "output_type": "stream",
     "text": [
      "2 : 2\n",
      "3. : 1\n",
      "3? : 1\n",
      "New : 1\n",
      "Python : 5\n",
      "Read : 1\n",
      "and : 1\n",
      "between : 1\n",
      "choosing : 1\n",
      "or : 2\n",
      "to : 1\n"
     ]
    }
   ],
   "source": [
    "for i in sorted(dic):\n",
    "    print(i,':', dic[i])"
   ]
  },
  {
   "cell_type": "markdown",
   "id": "ee1ecdb4-2ae4-4717-8400-f0a318a382a0",
   "metadata": {},
   "source": [
    "## Question 3:\n",
    "\n",
    "Define a class Person and its two child classes: Male and Female. \n",
    "All classes have a method &quot;getGender&quot; which can print &quot;Male&quot; for Male class and &quot;Female&quot; for Female \n",
    "class."
   ]
  },
  {
   "cell_type": "code",
   "execution_count": 47,
   "id": "3f2464bd-d277-4f25-9684-c65dc4a3ac37",
   "metadata": {},
   "outputs": [],
   "source": [
    "class Person:\n",
    "    def getGender(self):\n",
    "        pass"
   ]
  },
  {
   "cell_type": "code",
   "execution_count": 48,
   "id": "511bdcc9-7991-4032-83d3-af0c188cf30f",
   "metadata": {},
   "outputs": [],
   "source": [
    "class Man (Person):\n",
    "    def getGender(self):\n",
    "        print('Male')"
   ]
  },
  {
   "cell_type": "code",
   "execution_count": 49,
   "id": "e0bdfe52-4614-4ff9-97b9-48418f2d98b0",
   "metadata": {},
   "outputs": [],
   "source": [
    "class Female (Person):\n",
    "    def getGender(self):\n",
    "        print('Female')\n",
    "        "
   ]
  },
  {
   "cell_type": "code",
   "execution_count": 50,
   "id": "34cb8515-f760-49b5-893e-61b9b33c17bb",
   "metadata": {},
   "outputs": [],
   "source": [
    "m = Man()"
   ]
  },
  {
   "cell_type": "code",
   "execution_count": 51,
   "id": "605d5021-9e94-4635-8c3a-0dc863b7a0c4",
   "metadata": {},
   "outputs": [],
   "source": [
    "f = Female()"
   ]
  },
  {
   "cell_type": "code",
   "execution_count": 52,
   "id": "13f2a5d9-5221-4d74-a96a-68c747e63e18",
   "metadata": {},
   "outputs": [
    {
     "name": "stdout",
     "output_type": "stream",
     "text": [
      "Male\n"
     ]
    }
   ],
   "source": [
    "m.getGender()"
   ]
  },
  {
   "cell_type": "code",
   "execution_count": 53,
   "id": "27c9d07e-ac73-4b00-912a-28aa3223fe89",
   "metadata": {},
   "outputs": [
    {
     "name": "stdout",
     "output_type": "stream",
     "text": [
      "Female\n"
     ]
    }
   ],
   "source": [
    "f.getGender()"
   ]
  },
  {
   "cell_type": "markdown",
   "id": "7d00cf4e-6489-4a97-82d3-55cc0e0fa17d",
   "metadata": {},
   "source": [
    "## Question 4:\n",
    "Please write a program to generate all sentences where subject is in [&quot;I&quot;, &quot;You&quot;] and\n",
    "verb is in [&quot;Play&quot;, &quot;Love&quot;] and the object is in [&quot;Hockey&quot;,&quot;Football&quot;]."
   ]
  },
  {
   "cell_type": "code",
   "execution_count": 55,
   "id": "d29d494c-d0f1-4175-8c12-ae104b3dddf1",
   "metadata": {},
   "outputs": [],
   "source": [
    "subject=[\"I\", \"You\"]\n",
    "verb=[\"Play\", \"Love\"]\n",
    "objects=[\"Hockey\",\"Football\"]"
   ]
  },
  {
   "cell_type": "code",
   "execution_count": 58,
   "id": "62c20d1e-f253-448f-be4e-a3b0cc7ef1da",
   "metadata": {},
   "outputs": [],
   "source": [
    "sentence = [(sub + ' ' + veb + ' ' + obj) for sub in subject for veb in verb for obj in objects]"
   ]
  },
  {
   "cell_type": "code",
   "execution_count": 60,
   "id": "7673a5ff-9492-4b07-8cf6-48c21fd718b2",
   "metadata": {},
   "outputs": [
    {
     "name": "stdout",
     "output_type": "stream",
     "text": [
      "I Play Hockey\n",
      "I Play Football\n",
      "I Love Hockey\n",
      "I Love Football\n",
      "You Play Hockey\n",
      "You Play Football\n",
      "You Love Hockey\n",
      "You Love Football\n"
     ]
    }
   ],
   "source": [
    "for i in sentence:\n",
    "    print(i)"
   ]
  },
  {
   "cell_type": "markdown",
   "id": "c3f444ca-0d01-4f96-ba94-b27ba028fb42",
   "metadata": {},
   "source": [
    "## Question 5:\n",
    "Please write a program to compress and decompress the string &quot;hello world!hello\n",
    "world!hello world!hello world!&quot;."
   ]
  },
  {
   "cell_type": "code",
   "execution_count": 1,
   "id": "a54a54b0-c66b-4222-8207-b294acc2bcaf",
   "metadata": {},
   "outputs": [],
   "source": [
    "import zlib"
   ]
  },
  {
   "cell_type": "code",
   "execution_count": 2,
   "id": "4146c2e3-e0a3-4a2a-88a5-1b7946e80d04",
   "metadata": {},
   "outputs": [],
   "source": [
    "string = \"hello world!hello world!hello world!hello world!\""
   ]
  },
  {
   "cell_type": "code",
   "execution_count": 15,
   "id": "253671e8-914a-4822-94b0-4d34bfb84a4e",
   "metadata": {},
   "outputs": [],
   "source": [
    "comp = zlib.compress(string.encode())"
   ]
  },
  {
   "cell_type": "code",
   "execution_count": 16,
   "id": "11bcdb97-a082-4d6b-b820-b89516dbf817",
   "metadata": {},
   "outputs": [
    {
     "name": "stdout",
     "output_type": "stream",
     "text": [
      "compressed string:  b'x\\x9c\\xcbH\\xcd\\xc9\\xc9W(\\xcf/\\xcaIQ\\xcc \\x82\\r\\x00\\xbd[\\x11\\xf5'\n"
     ]
    }
   ],
   "source": [
    "print('compressed string: ', comp)"
   ]
  },
  {
   "cell_type": "code",
   "execution_count": 24,
   "id": "f34c896e-daeb-444d-9ec1-7fa70a29e911",
   "metadata": {},
   "outputs": [],
   "source": [
    "decom = zlib.decompress(comp)"
   ]
  },
  {
   "cell_type": "code",
   "execution_count": 25,
   "id": "afa66db1-7c57-440c-b682-20a6656573a4",
   "metadata": {},
   "outputs": [
    {
     "name": "stdout",
     "output_type": "stream",
     "text": [
      "b'hello world!hello world!hello world!hello world!'\n"
     ]
    }
   ],
   "source": [
    "print(decom)"
   ]
  },
  {
   "cell_type": "markdown",
   "id": "20bff53d-6c7b-4761-aeb7-6bc11ee02a9a",
   "metadata": {},
   "source": [
    "## Question 6:\n",
    "Please write a binary search function which searches an item in a sorted list. The\n",
    "function should return the index of element to be searched in the list."
   ]
  },
  {
   "cell_type": "code",
   "execution_count": 33,
   "id": "23f8b538-b979-402a-894d-e351dfc50590",
   "metadata": {},
   "outputs": [],
   "source": [
    "import bisect"
   ]
  },
  {
   "cell_type": "code",
   "execution_count": 37,
   "id": "78d5d045-6f7e-4550-8134-77c2c62349aa",
   "metadata": {},
   "outputs": [],
   "source": [
    "def binarySearch(lst, x):\n",
    "    for i in range(len(lst)):\n",
    "        if lst[i] == x:\n",
    "            return i\n",
    "    return False"
   ]
  },
  {
   "cell_type": "code",
   "execution_count": 44,
   "id": "61729eb1-09d3-4775-9dd5-14ab17d1cef2",
   "metadata": {},
   "outputs": [
    {
     "name": "stdin",
     "output_type": "stream",
     "text": [
      "No. of elements in the list:  8\n",
      "1 th element:  45\n",
      "2 th element:  15\n",
      "3 th element:  25\n",
      "4 th element:  65\n",
      "5 th element:  35\n",
      "6 th element:  95\n",
      "7 th element:  75\n",
      "8 th element:  55\n"
     ]
    },
    {
     "name": "stdout",
     "output_type": "stream",
     "text": [
      "Sorted list:  [15, 25, 35, 45, 55, 65, 75, 95]\n"
     ]
    },
    {
     "name": "stdin",
     "output_type": "stream",
     "text": [
      "Element for search:  55\n"
     ]
    },
    {
     "name": "stdout",
     "output_type": "stream",
     "text": [
      "4 is the index of 55 in the SORTED LIST\n"
     ]
    }
   ],
   "source": [
    "n = int(input('No. of elements in the list: '))\n",
    "\n",
    "lst = []\n",
    "\n",
    "for i in range(n):\n",
    "    lst.append(int(input(f'{i+1} th element: ')))\n",
    "    \n",
    "print('Sorted list: ', sorted(lst))\n",
    "\n",
    "serch = int(input('Element for search: '))\n",
    "\n",
    "if binarySearch(lst, serch):\n",
    "    print(f'{binarySearch(sorted(lst), serch)} is the index of {serch} in the SORTED LIST')\n",
    "else:\n",
    "    print(f'The {serch} is not present in the list') \n"
   ]
  },
  {
   "cell_type": "code",
   "execution_count": null,
   "id": "446c3584-247c-4153-9e12-e58348c25b8f",
   "metadata": {},
   "outputs": [],
   "source": []
  }
 ],
 "metadata": {
  "kernelspec": {
   "display_name": "Python 3 (ipykernel)",
   "language": "python",
   "name": "python3"
  },
  "language_info": {
   "codemirror_mode": {
    "name": "ipython",
    "version": 3
   },
   "file_extension": ".py",
   "mimetype": "text/x-python",
   "name": "python",
   "nbconvert_exporter": "python",
   "pygments_lexer": "ipython3",
   "version": "3.10.6"
  }
 },
 "nbformat": 4,
 "nbformat_minor": 5
}
