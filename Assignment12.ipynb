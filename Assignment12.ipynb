{
 "cells": [
  {
   "cell_type": "markdown",
   "id": "2fde31dc-c3e1-4bd4-a59d-c834e75c31d4",
   "metadata": {},
   "source": [
    "## Q: 1. In what modes should the PdfFileReader() and PdfFileWriter() File objects will be opened?"
   ]
  },
  {
   "cell_type": "markdown",
   "id": "f24f0e73-f61b-44e1-a55b-10d45a6400d7",
   "metadata": {},
   "source": [
    "The module is PyPDF2"
   ]
  },
  {
   "cell_type": "markdown",
   "id": "09cfffce-cb44-4489-8912-7dfcd120e697",
   "metadata": {},
   "source": [
    "## Q: 2. From a PdfFileReader object, how do you get a Page object for page 5?"
   ]
  },
  {
   "cell_type": "markdown",
   "id": "14a8b30b-fb68-4fed-a0ee-ef3bce1db9c4",
   "metadata": {},
   "source": [
    "pdfReader.getPage(4) object give the page object for page 5"
   ]
  },
  {
   "cell_type": "markdown",
   "id": "f1e6d961-f728-4fed-af7c-1807a50261bf",
   "metadata": {},
   "source": [
    "## Q: 3. What PdfFileReader variable stores the number of pages in the PDF document?"
   ]
  },
  {
   "cell_type": "markdown",
   "id": "af704adc-3f95-4a34-86c3-fc48c0a5d06b",
   "metadata": {},
   "source": [
    "The numPages variable stores an integer of the number of pages in the \n",
    "PdfFileReader object"
   ]
  },
  {
   "cell_type": "markdown",
   "id": "f52ef513-fb7f-417d-ba28-88e3dfea5f0d",
   "metadata": {},
   "source": [
    "## Q: 4. If a PdfFileReader object’s PDF is encrypted with the password swordfish, what must you do before you can obtain Page objects from it?"
   ]
  },
  {
   "cell_type": "markdown",
   "id": "5fdada1b-2afb-4e7a-8655-4ceac6c67ee1",
   "metadata": {},
   "source": [
    "Call decrypt('swordfish')"
   ]
  },
  {
   "cell_type": "markdown",
   "id": "e8697e65-c791-4781-938f-0fb7336376ce",
   "metadata": {},
   "source": [
    "## Q: 5. What methods do you use to rotate a page?"
   ]
  },
  {
   "cell_type": "markdown",
   "id": "449e95e1-3e1b-48b1-8de2-f274133c5130",
   "metadata": {},
   "source": [
    "The rotateClockwise() and rotateCounterClockwise() methods. The \n",
    "degrees to rotate is passed as an integer argument"
   ]
  },
  {
   "cell_type": "markdown",
   "id": "c72a6a89-04ea-4fc4-94d2-af251d674616",
   "metadata": {},
   "source": [
    "## Q: 6. What is the difference between a Run object and a Paragraph object?"
   ]
  },
  {
   "cell_type": "markdown",
   "id": "7dcdbdca-8438-406a-bd13-ea73dd5ac414",
   "metadata": {},
   "source": [
    "A document contains multiple paragraphs. A paragraph begins on a new line and contains multiple run objects. \n",
    "\n",
    "Run objects are contiguous groups of characters within a paragraph and they will format the text."
   ]
  },
  {
   "cell_type": "markdown",
   "id": "aa73811b-d7cb-41bb-9f8b-62fb08592c9c",
   "metadata": {},
   "source": [
    "## Q: 7. How do you obtain a list of Paragraph objects for a Document object that’s stored in a variable named doc?"
   ]
  },
  {
   "cell_type": "markdown",
   "id": "5496f74e-7575-4537-90a2-2b29e038ec34",
   "metadata": {},
   "source": [
    "Use doc.paragraphs."
   ]
  },
  {
   "cell_type": "markdown",
   "id": "0e5b3813-7a96-48e5-a9e2-151a73b276fc",
   "metadata": {},
   "source": [
    "## Q: 8. What type of object has bold, underline, italic, strike, and outline variables?"
   ]
  },
  {
   "cell_type": "markdown",
   "id": "3d5003e6-261d-48c0-bf05-83365579124b",
   "metadata": {},
   "source": [
    " Only Run object has these variable"
   ]
  },
  {
   "cell_type": "markdown",
   "id": "ed6019c8-cbaa-4206-8d6f-49e2c849258c",
   "metadata": {},
   "source": [
    "## Q: 9. What is the difference between False, True, and None for the bold variable?"
   ]
  },
  {
   "cell_type": "markdown",
   "id": "d827e892-b72c-43f7-b420-0ff4b4068926",
   "metadata": {},
   "source": [
    "1.  True always makes the Run object bolded and \n",
    "2. False makes it always not bolded, no matter what the style’s bold setting is.\n",
    "3. None will make the Run object just use the style’s bold setting."
   ]
  },
  {
   "cell_type": "markdown",
   "id": "89ba8a67-be6e-4918-97af-b508a7ff9e42",
   "metadata": {},
   "source": [
    "## Q: 10. How do you create a Document object for a new Word document?"
   ]
  },
  {
   "cell_type": "markdown",
   "id": "427ad997-d439-46f0-b8b3-05fda1b6e841",
   "metadata": {},
   "source": [
    "Call the docx.Document() function."
   ]
  },
  {
   "cell_type": "markdown",
   "id": "d7e3faf6-402c-4fed-b636-2d7feacb1eb6",
   "metadata": {},
   "source": [
    "## Q: 11. How do you add a paragraph with the text &#39;Hello, there!&#39; to a Document object stored in a variable named doc?"
   ]
  },
  {
   "cell_type": "markdown",
   "id": "35b16fd5-fb98-46e3-9aee-7ef1eb17d207",
   "metadata": {},
   "source": [
    "doc.add_paragraph('Hello there!')"
   ]
  },
  {
   "cell_type": "markdown",
   "id": "77ce219e-f567-4f11-9ab1-904e1a076903",
   "metadata": {},
   "source": [
    "## Q: 12. What integers represent the levels of headings available in Word documents?"
   ]
  },
  {
   "cell_type": "markdown",
   "id": "788907d1-9407-4bb0-9a5d-9063e3538800",
   "metadata": {},
   "source": [
    "The integers 0, 1, 2, 3, and 4"
   ]
  },
  {
   "cell_type": "code",
   "execution_count": null,
   "id": "40370c92-c6bc-4d24-8522-0534b74be773",
   "metadata": {},
   "outputs": [],
   "source": []
  }
 ],
 "metadata": {
  "kernelspec": {
   "display_name": "Python 3 (ipykernel)",
   "language": "python",
   "name": "python3"
  },
  "language_info": {
   "codemirror_mode": {
    "name": "ipython",
    "version": 3
   },
   "file_extension": ".py",
   "mimetype": "text/x-python",
   "name": "python",
   "nbconvert_exporter": "python",
   "pygments_lexer": "ipython3",
   "version": "3.10.6"
  }
 },
 "nbformat": 4,
 "nbformat_minor": 5
}
