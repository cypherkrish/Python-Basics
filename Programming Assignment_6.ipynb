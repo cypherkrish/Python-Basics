{
 "cells": [
  {
   "cell_type": "markdown",
   "id": "32803c45-8ea2-45d5-b4de-d7314a97f525",
   "metadata": {},
   "source": [
    "## 1. Write a Python Program to Display Fibonacci Sequence Using Recursion?"
   ]
  },
  {
   "cell_type": "code",
   "execution_count": 8,
   "id": "5756afdd-473e-4357-a324-06864a8c106c",
   "metadata": {},
   "outputs": [
    {
     "name": "stdin",
     "output_type": "stream",
     "text": [
      "No.of Fibonacci elements:  15\n"
     ]
    },
    {
     "name": "stdout",
     "output_type": "stream",
     "text": [
      "Fibonacci Sequence:\n",
      "0 1 1 2 3 5 8 13 21 34 55 89 144 233 377 "
     ]
    }
   ],
   "source": [
    "def fibonacci(n):\n",
    "    if n <= 1:\n",
    "        return n\n",
    "    else:\n",
    "        return (fibonacci(n-1) + fibonacci(n-2))\n",
    "    \n",
    "\n",
    "n = int(input(\"No.of Fibonacci elements: \"))\n",
    "\n",
    "\n",
    "print(\"Fibonacci Sequence:\")\n",
    "for i in range(n):\n",
    "    print(fibonacci(i), end = ' ')\n",
    "    "
   ]
  },
  {
   "cell_type": "markdown",
   "id": "b116a311-9732-4e69-b739-658aa28f0776",
   "metadata": {},
   "source": [
    "## 2. Write a Python Program to Find Factorial of Number Using Recursion?"
   ]
  },
  {
   "cell_type": "code",
   "execution_count": 13,
   "id": "4b898973-073c-483e-8d67-d59d75cdbd1c",
   "metadata": {},
   "outputs": [
    {
     "name": "stdin",
     "output_type": "stream",
     "text": [
      "Facotira of a number:  10\n"
     ]
    },
    {
     "name": "stdout",
     "output_type": "stream",
     "text": [
      "Factorial of 10 is 3628800\n"
     ]
    }
   ],
   "source": [
    "def fact(n):\n",
    "    if n == 0:\n",
    "        return 1\n",
    "    else:\n",
    "        return n * fact(n-1)\n",
    "    \n",
    "n = int(input(\"Facotira of a number: \"))\n",
    "\n",
    "print(f\"Factorial of {n} is {fact(n)}\")"
   ]
  },
  {
   "cell_type": "markdown",
   "id": "6d47d24c-2bd5-4275-9f30-e8026aeba1f9",
   "metadata": {},
   "source": [
    "## 3. Write a Python Program to calculate your Body Mass Index?"
   ]
  },
  {
   "cell_type": "code",
   "execution_count": 7,
   "id": "50e9c6ec-0a99-4959-924e-396d768e2ea0",
   "metadata": {},
   "outputs": [
    {
     "name": "stdin",
     "output_type": "stream",
     "text": [
      "Enter height in meters (m):  1.75\n",
      "Enter weight in KGs :  100\n"
     ]
    },
    {
     "name": "stdout",
     "output_type": "stream",
     "text": [
      "Your BMI is:  32.6530612244898\n"
     ]
    }
   ],
   "source": [
    "height = float(input('Enter height in meters (m): '))\n",
    "\n",
    "weight = float (input('Enter weight in KGs : '))\n",
    "\n",
    "BMI = weight / (( height)** 2)\n",
    "\n",
    "print(\"Your BMI is: \", BMI)"
   ]
  },
  {
   "cell_type": "markdown",
   "id": "c40d0212-a757-4e01-bfe8-3816845e786c",
   "metadata": {},
   "source": [
    "## 4. Write a Python Program to calculate the natural logarithm of any number?"
   ]
  },
  {
   "cell_type": "code",
   "execution_count": 15,
   "id": "fabec293-5e9f-4442-91de-84a252428771",
   "metadata": {},
   "outputs": [
    {
     "name": "stdin",
     "output_type": "stream",
     "text": [
      "Need natural log for the value:  10\n"
     ]
    },
    {
     "name": "stdout",
     "output_type": "stream",
     "text": [
      "\n",
      "Natural log of 10.0 is 2.302585092994046\n"
     ]
    }
   ],
   "source": [
    "import math\n",
    "\n",
    "n = float(input(\"Need natural log for the value: \"))\n",
    "\n",
    "print(\"\\n\",\"\\rNatural log of {n} is {nl}\".format(n = n , nl = math.log(n)))"
   ]
  },
  {
   "cell_type": "markdown",
   "id": "9b9bff09-b3ee-491b-a7f6-c0d950019488",
   "metadata": {},
   "source": [
    "## 5. Write a Python Program for cube sum of first n natural numbers?"
   ]
  },
  {
   "cell_type": "code",
   "execution_count": 18,
   "id": "76940797-ae21-476f-a25f-b1c70b300275",
   "metadata": {},
   "outputs": [
    {
     "name": "stdin",
     "output_type": "stream",
     "text": [
      "Find the sum of cubes of:  5\n"
     ]
    },
    {
     "name": "stdout",
     "output_type": "stream",
     "text": [
      "Cube sum of first 5 natural numbers: 225.0\n"
     ]
    }
   ],
   "source": [
    "n = int(input(\"Find the sum of cubes of: \"))\n",
    "\n",
    "c1 = n * (n+1) / 2\n",
    "\n",
    "c2 = c1 ** 2\n",
    "\n",
    "print(\"Cube sum of first {0} natural numbers: {1}\".format(n, c2))"
   ]
  }
 ],
 "metadata": {
  "kernelspec": {
   "display_name": "Python 3 (ipykernel)",
   "language": "python",
   "name": "python3"
  },
  "language_info": {
   "codemirror_mode": {
    "name": "ipython",
    "version": 3
   },
   "file_extension": ".py",
   "mimetype": "text/x-python",
   "name": "python",
   "nbconvert_exporter": "python",
   "pygments_lexer": "ipython3",
   "version": "3.10.6"
  }
 },
 "nbformat": 4,
 "nbformat_minor": 5
}
