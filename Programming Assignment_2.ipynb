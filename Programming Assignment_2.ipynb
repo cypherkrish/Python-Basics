{
 "cells": [
  {
   "cell_type": "markdown",
   "id": "430a88b6-bc22-4bc4-b057-b632f85e9846",
   "metadata": {},
   "source": [
    "## 1. Write a Python program to convert kilometers to miles?\n"
   ]
  },
  {
   "cell_type": "code",
   "execution_count": 1,
   "id": "27cbf8da-1b77-4c5d-9add-24d23b4178a8",
   "metadata": {},
   "outputs": [
    {
     "name": "stdin",
     "output_type": "stream",
     "text": [
      "KM:  50\n"
     ]
    },
    {
     "name": "stdout",
     "output_type": "stream",
     "text": [
      "Miles:  31.069999999999997\n"
     ]
    }
   ],
   "source": [
    "km = float(input('KM: '))\n",
    "\n",
    "print('Miles: ',  0.6214 * km)"
   ]
  },
  {
   "cell_type": "markdown",
   "id": "7a4afd46-019a-4dec-99bf-0b5a486a5670",
   "metadata": {},
   "source": [
    "## 2. Write a Python program to convert Celsius to Fahrenheit?"
   ]
  },
  {
   "cell_type": "code",
   "execution_count": 2,
   "id": "b204ab8f-ec5d-4b3a-96a5-fe4c0ac58cba",
   "metadata": {},
   "outputs": [
    {
     "name": "stdin",
     "output_type": "stream",
     "text": [
      "Celsius:  35\n"
     ]
    },
    {
     "name": "stdout",
     "output_type": "stream",
     "text": [
      "Fahrenheit:  95.0\n"
     ]
    }
   ],
   "source": [
    "C = float(input('Celsius: '))\n",
    "\n",
    "F = C * 1.8000 + 32.00\n",
    "\n",
    "print('Fahrenheit: ',  F)"
   ]
  },
  {
   "cell_type": "markdown",
   "id": "cc71e229-b5aa-4545-a03f-ee3644be7efe",
   "metadata": {},
   "source": [
    "## 3. Write a Python program to display calendar?\n"
   ]
  },
  {
   "cell_type": "code",
   "execution_count": null,
   "id": "48cf4c9e-7ca0-426f-9782-1f6513b4de32",
   "metadata": {},
   "outputs": [],
   "source": [
    "import calendar\n",
    "\n",
    "year = int(input('Year: '))\n",
    "month = int (input('Month: '))\n",
    "dau = int (input('Day: '))\n",
    "\n",
    "\n",
    "print(calendar.mon"
   ]
  },
  {
   "cell_type": "markdown",
   "id": "280b7c20-1ed4-4744-b42d-b750fa920996",
   "metadata": {},
   "source": [
    "## 4. Write a Python program to solve quadratic equation?\n"
   ]
  },
  {
   "cell_type": "code",
   "execution_count": 27,
   "id": "6ec01f16-bfaa-44f0-bbc8-a43d350ed9f6",
   "metadata": {},
   "outputs": [
    {
     "name": "stdin",
     "output_type": "stream",
     "text": [
      "Enter x2 coeff:  1\n",
      "Enter x coeff:  2\n",
      "Enter constant:  3\n"
     ]
    },
    {
     "name": "stdout",
     "output_type": "stream",
     "text": [
      "****************************\n",
      "Roots are imaginary and not-equal\n",
      "****************************\n",
      "1st root:  -1.0+j1.4142135623730951\n",
      "2nd root:  -1.0-j1.4142135623730951\n",
      "****************************\n"
     ]
    }
   ],
   "source": [
    "import math\n",
    "\n",
    "a = int(input('Enter x2 coeff: ' ))\n",
    "\n",
    "if a == 0:\n",
    "    print('The is not a quadratic equation')\n",
    "    print(' TRY AGAIN ')\n",
    "    a = int(input('Enter x ** 2 coeff: ' ))\n",
    "\n",
    "    \n",
    "b = int(input('Enter x coeff: '))\n",
    "c = int(input('Enter constant: '))\n",
    "\n",
    "d = (b ** 2) - (4 * a * c)\n",
    "\n",
    "print('****************************')\n",
    "if d == 0:\n",
    "    print('Roots are real and equal')\n",
    "    print('****************************')\n",
    "    x1 = (-b /(2 * a) ) + (math.sqrt(d) /(2 * a))\n",
    "    x2 = (-b /(2 * a) ) - (math.sqrt(d) /(2 * a))\n",
    "    print('1st root: ', x1)\n",
    "    print('2nd root: ', x2) \n",
    "\n",
    "\n",
    "if d > 0: \n",
    "    print('Roots are real and not-equal')\n",
    "    print('****************************')\n",
    "    x1 = (-b /(2 * a) ) + (math.sqrt(d) /(2 * a))\n",
    "    x2 = (-b /(2 * a) ) - (math.sqrt(d) /(2 * a))\n",
    "    print('1st root: ', x1)\n",
    "    print('2nd root: ', x2) \n",
    "\n",
    "if d < 0:\n",
    "    d = d * -1\n",
    "    print('Roots are imaginary and not-equal')\n",
    "    print('****************************')\n",
    "    x1 = str((-b /(2 * a) )) + '+j' + str( (math.sqrt(d) /(2 * a)) )\n",
    "    x2 = str ((-b /(2 * a) )) + '-j' + str( (math.sqrt(d) /(2 * a)))\n",
    "    print('1st root: ', x1)\n",
    "    print('2nd root: ', x2) \n",
    "\n",
    "\n",
    "    \n",
    "print('****************************')"
   ]
  },
  {
   "cell_type": "markdown",
   "id": "d9b91be9-fb44-4ec7-b3f5-db1683087da6",
   "metadata": {},
   "source": [
    "## 5. Write a Python program to swap two variables without temp variable?"
   ]
  },
  {
   "cell_type": "code",
   "execution_count": 29,
   "id": "7cf450a7-a569-4b17-9bae-35008afefb68",
   "metadata": {},
   "outputs": [
    {
     "name": "stdin",
     "output_type": "stream",
     "text": [
      "1st:  56\n",
      "2nd:  98\n"
     ]
    },
    {
     "name": "stdout",
     "output_type": "stream",
     "text": [
      "Before swap:\n",
      "a :56 and b: 98\n",
      "After swap:\n",
      "a :98 and b: 56\n"
     ]
    }
   ],
   "source": [
    "a = input('1st: ')\n",
    "b = input('2nd: ')\n",
    "\n",
    "print('Before swap:')\n",
    "print(f'a :{a} and b: {b}')\n",
    "\n",
    "a, b = b, a \n",
    "\n",
    "print('After swap:')\n",
    "print(f'a :{a} and b: {b}')"
   ]
  },
  {
   "cell_type": "code",
   "execution_count": null,
   "id": "35d6a30a-ee9f-46a3-a494-1ae4353cfb6c",
   "metadata": {},
   "outputs": [],
   "source": []
  }
 ],
 "metadata": {
  "kernelspec": {
   "display_name": "Python 3 (ipykernel)",
   "language": "python",
   "name": "python3"
  },
  "language_info": {
   "codemirror_mode": {
    "name": "ipython",
    "version": 3
   },
   "file_extension": ".py",
   "mimetype": "text/x-python",
   "name": "python",
   "nbconvert_exporter": "python",
   "pygments_lexer": "ipython3",
   "version": "3.10.6"
  }
 },
 "nbformat": 4,
 "nbformat_minor": 5
}
