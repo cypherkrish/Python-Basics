{
 "cells": [
  {
   "cell_type": "markdown",
   "id": "50152253-296a-4a49-a013-fbdf11a48963",
   "metadata": {},
   "source": [
    "## Q: 1. How do you distinguish between shutil.copy() and shutil.copytree()?"
   ]
  },
  {
   "cell_type": "markdown",
   "id": "eaa0e223-c25d-400a-88a4-103f392dcdc5",
   "metadata": {},
   "source": [
    "shutil.copy() => will copy a single file.\n",
    "\n",
    "shutil.copytree() => will copy an entire folder and every folder and file contained in it."
   ]
  },
  {
   "cell_type": "markdown",
   "id": "ca7a4fa0-61cb-4929-bc93-b9308ffd6706",
   "metadata": {},
   "source": [
    "## Q: 2. What function is used to rename files??"
   ]
  },
  {
   "cell_type": "markdown",
   "id": "b5156780-c593-465f-8bd2-a6498f98fd87",
   "metadata": {},
   "source": [
    "Q: 2. What function is used to rename files??\n",
    "\n",
    "shutil.move(filename, directory path) => will move or rename file path."
   ]
  },
  {
   "cell_type": "markdown",
   "id": "7e2a5ece-97c6-49bc-9a47-e4c4af834500",
   "metadata": {},
   "source": [
    "## Q: 3. What is the difference between the delete functions in the send2trash and shutil modules?"
   ]
  },
  {
   "cell_type": "markdown",
   "id": "1be3d05e-6b52-48a1-905e-68a49b72723b",
   "metadata": {},
   "source": [
    "shutil.rmtree() function irreversibly deletes files and folders. send2trash will send folders and files to computer's trash or recycle bin instead of permanently deleting them"
   ]
  },
  {
   "cell_type": "markdown",
   "id": "fadd65f2-87bf-4bc5-be9f-8e77c2c15d95",
   "metadata": {},
   "source": [
    "## Q: 4.ZipFile objects have a close() method just like File objects’ close() method. What ZipFile method is equivalent to File objects’ open() method?"
   ]
  },
  {
   "cell_type": "markdown",
   "id": "2cec31ad-37a9-4e3e-8e47-464974a95734",
   "metadata": {},
   "source": [
    "ZipFile method is equivalant to File objects' open() method."
   ]
  },
  {
   "cell_type": "markdown",
   "id": "a0cbe2b1-2a33-4148-b223-eb92e123d068",
   "metadata": {},
   "source": [
    "## Q: 5. Create a programme that searches a folder tree for files with a certain file extension (such as .pdf or .jpg). Copy these files from whatever location they are in to a new folder.\n"
   ]
  },
  {
   "cell_type": "code",
   "execution_count": 3,
   "id": "19570f80-36f7-4393-940f-2af43780b3b9",
   "metadata": {},
   "outputs": [],
   "source": [
    "extensions = ['.php', '.py']"
   ]
  },
  {
   "cell_type": "code",
   "execution_count": 4,
   "id": "2e061859-14ef-4ca0-8dab-1c8c76df3c6e",
   "metadata": {},
   "outputs": [
    {
     "data": {
      "text/plain": [
       "'.php, .py'"
      ]
     },
     "execution_count": 4,
     "metadata": {},
     "output_type": "execute_result"
    }
   ],
   "source": [
    "', '.join(extensions)"
   ]
  },
  {
   "cell_type": "code",
   "execution_count": 1,
   "id": "1d94f116-6e40-42ed-a3ee-3ccd00b9e058",
   "metadata": {},
   "outputs": [
    {
     "data": {
      "text/plain": [
       "['Assignment6.ipynb',\n",
       " 'lambdafunction.ipynb',\n",
       " 'README.md',\n",
       " 'Assignment9.ipynb',\n",
       " 'sample-code.ipynb',\n",
       " 'Assignment5.ipynb',\n",
       " 'questions.ipynb',\n",
       " '.git',\n",
       " '19thNOVQuestions.ipynb',\n",
       " 'Assignment2.ipynb',\n",
       " 'Assignment1.ipynb',\n",
       " 'Assignment4.ipynb',\n",
       " 'decorators-functions.ipynb',\n",
       " '.ipynb_checkpoints',\n",
       " 'Assignment10.ipynb',\n",
       " 'Assignment3.ipynb',\n",
       " 'Assignment8.ipynb',\n",
       " 'Assignment7.ipynb',\n",
       " 'public_1.txt']"
      ]
     },
     "execution_count": 1,
     "metadata": {},
     "output_type": "execute_result"
    }
   ],
   "source": [
    "import os\n",
    "\n",
    "os.listdir()"
   ]
  },
  {
   "cell_type": "code",
   "execution_count": 2,
   "id": "83bd68f0-746e-4546-897b-5a7e7ecaa686",
   "metadata": {},
   "outputs": [
    {
     "name": "stdout",
     "output_type": "stream",
     "text": [
      "Looking in /home/jovyan/work/randomFolder for files with extensions of .php, .py\n"
     ]
    }
   ],
   "source": [
    "import os, shutil\n",
    "\n",
    "def selectiveCopy(folder, extensions, destFolder):\n",
    "    folder = os.path.abspath(folder)\n",
    "    destFolder = os.path.abspath(destFolder)\n",
    "    print('Looking in', folder, 'for files with extensions of', ', '.join(extensions))\n",
    "    for foldername, subfolders, filenames in os.walk(folder):\n",
    "        for filename in filenames:\n",
    "            name, extension = os.path.splitext(filename)\n",
    "            if extension in extensions:\n",
    "                fileAbsPath = foldername + os.path.sep + filename\n",
    "                print('Coping', fileAbsPath, 'to', destFolder)\n",
    "                shutil.copy(fileAbsPath, destFolder)\n",
    "\n",
    "extensions = ['.php', '.py']\n",
    "folder = 'randomFolder'\n",
    "destFolder = 'selectiveFolder'\n",
    "selectiveCopy(folder, extensions, destFolder)"
   ]
  },
  {
   "cell_type": "code",
   "execution_count": null,
   "id": "90d29cde-4b43-447f-9108-0abf744f85aa",
   "metadata": {},
   "outputs": [],
   "source": []
  }
 ],
 "metadata": {
  "kernelspec": {
   "display_name": "Python 3 (ipykernel)",
   "language": "python",
   "name": "python3"
  },
  "language_info": {
   "codemirror_mode": {
    "name": "ipython",
    "version": 3
   },
   "file_extension": ".py",
   "mimetype": "text/x-python",
   "name": "python",
   "nbconvert_exporter": "python",
   "pygments_lexer": "ipython3",
   "version": "3.10.6"
  }
 },
 "nbformat": 4,
 "nbformat_minor": 5
}
