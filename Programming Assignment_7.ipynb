{
 "cells": [
  {
   "cell_type": "markdown",
   "id": "452ec169-e90e-45ae-a10f-007fffdede29",
   "metadata": {},
   "source": [
    "## 1. Write a Python Program to find sum of array?"
   ]
  },
  {
   "cell_type": "code",
   "execution_count": 24,
   "id": "2d5975a3-8f13-4fa7-813f-c28426d985d0",
   "metadata": {},
   "outputs": [
    {
     "name": "stdin",
     "output_type": "stream",
     "text": [
      "Enter array:  1   2 3 3 \n"
     ]
    },
    {
     "name": "stdout",
     "output_type": "stream",
     "text": [
      "Error:  invalid literal for int() with base 10: ''\n"
     ]
    }
   ],
   "source": [
    "import array as ar\n",
    "\n",
    "\n",
    "try:\n",
    "    ip = input(\"Enter array: \").split(\" \")\n",
    "\n",
    "    iparray = list(map(lambda x : int(x), ip))\n",
    "    summ = 0\n",
    "\n",
    "    for i in ip:\n",
    "        summ = summ + int(i)\n",
    "\n",
    "    print(\"\\n\\rGiven array: \", iparray)\n",
    "    print(\"\\n\\rSum of the give array elements : \", summ)\n",
    "\n",
    "except Exception as e:\n",
    "    print(\"Error: \", e)\n",
    "    "
   ]
  },
  {
   "cell_type": "markdown",
   "id": "2eeac7f7-96a3-4ccc-9d47-a300996fff52",
   "metadata": {},
   "source": [
    "## 2. Write a Python Program to find largest element in an array?"
   ]
  },
  {
   "cell_type": "code",
   "execution_count": 52,
   "id": "2270b7b8-f382-41d5-b006-f485e9a957c7",
   "metadata": {},
   "outputs": [
    {
     "name": "stdin",
     "output_type": "stream",
     "text": [
      "Enter the numbers seperated by single space:  1 2 3 9\n"
     ]
    },
    {
     "name": "stdout",
     "output_type": "stream",
     "text": [
      "\n",
      "Give array of elements:  [1, 2, 3]\n",
      "\n",
      "Max value of the array:  9\n"
     ]
    }
   ],
   "source": [
    "import array\n",
    "try:\n",
    "    ip = input(\"Enter the numbers seperated by single space: \").split(' ')\n",
    "    \n",
    "    ipvls = array.array( 'i', list(map(lambda x: int(x), ip)))\n",
    "    print('\\n\\rGive array of elements: ', ipvalues)\n",
    "    \n",
    "    maxvalue = ipvalues[0]\n",
    "    for j in ipvls:\n",
    "        if j > maxvalue:\n",
    "            maxvalue = j\n",
    "    \n",
    "    print(\"\\n\\rMax value of the array: \", maxvalue)\n",
    "    \n",
    "except Exception as e:\n",
    "    print(\"Error: \", e)"
   ]
  },
  {
   "cell_type": "markdown",
   "id": "81fb6dca-f9c4-4fc9-8bce-c5a71a25e903",
   "metadata": {},
   "source": [
    "## 3. Write a Python Program for array rotation?"
   ]
  },
  {
   "cell_type": "code",
   "execution_count": 2,
   "id": "9cf81174-a9b1-400c-a289-b96870b2bcf3",
   "metadata": {},
   "outputs": [],
   "source": [
    "def rotatearray(array, n):\n",
    "    ls1 = array\n",
    "    ls2 = ls1[:n]\n",
    "    ls3 = ls1[n:]\n",
    "    \n",
    "    return ls3 + ls2"
   ]
  },
  {
   "cell_type": "code",
   "execution_count": 10,
   "id": "104b1123-7e6a-4903-a5b9-4d817f8ecaab",
   "metadata": {},
   "outputs": [
    {
     "name": "stdin",
     "output_type": "stream",
     "text": [
      "Enter numer of array elements you have:  5\n",
      "1 th element: 1\n",
      "2 th element: 2\n",
      "3 th element: 3\n",
      "4 th element: 5\n",
      "5 th element: 6\n"
     ]
    },
    {
     "name": "stdout",
     "output_type": "stream",
     "text": [
      "\n",
      "Given array:  [1, 2, 3, 5, 6]\n"
     ]
    },
    {
     "name": "stdin",
     "output_type": "stream",
     "text": [
      "No of elemets to be rotated:  3\n"
     ]
    },
    {
     "name": "stdout",
     "output_type": "stream",
     "text": [
      "\n",
      "Array after Rotation by 3 elements is: [5, 6, 1, 2, 3]\n"
     ]
    }
   ],
   "source": [
    "import array\n",
    "\n",
    "try:\n",
    "    ipArray = array.array( 'i', [])\n",
    "    \n",
    "    n = int(input(\"Enter numer of array elements you have: \"))\n",
    "    \n",
    "    for i in range(n):\n",
    "        ipArray.append(int(input(f'{i+1} th element:')))\n",
    "    \n",
    "    print('\\n\\rGiven array: ', ipArray.tolist())\n",
    "    rot = int(input('No of elemets to be rotated: '))\n",
    "    \n",
    "    if rot > len(ipArray.tolist()):\n",
    "        print(\"This should be less than {0}\".format(len(ipArray.tolist())))\n",
    "    else:\n",
    "        print(\"\\n\\rArray after Rotation by {0} elements is: {1}\".format(rot, rotatearray(ipArray.tolist(), rot)))\n",
    "\n",
    "except Exception as e:\n",
    "    print(\"Error: \", e)"
   ]
  },
  {
   "cell_type": "markdown",
   "id": "3cc66709-8519-4a04-a5ce-efe656f4701f",
   "metadata": {},
   "source": [
    "## 4. Write a Python Program to Split the array and add the first part to the end?"
   ]
  },
  {
   "cell_type": "code",
   "execution_count": 11,
   "id": "46514c1a-436a-46b8-ac86-7817191f62e3",
   "metadata": {},
   "outputs": [],
   "source": [
    "def arraysplit(array, n):\n",
    "    ls1 = array[:n]\n",
    "    ls2 = array[n:]\n",
    "    \n",
    "    return ls2 + ls1"
   ]
  },
  {
   "cell_type": "code",
   "execution_count": 12,
   "id": "e9d69195-d43e-43d4-a325-81a877ace9b6",
   "metadata": {},
   "outputs": [
    {
     "name": "stdin",
     "output_type": "stream",
     "text": [
      "Enter numer of array elements you have:  9\n",
      "1 th element: 1\n",
      "2 th element: 2\n",
      "3 th element: 3\n",
      "4 th element: 4\n",
      "5 th element: 5\n",
      "6 th element: 6\n",
      "7 th element: 7\n",
      "8 th element: 8\n",
      "9 th element: 9\n"
     ]
    },
    {
     "name": "stdout",
     "output_type": "stream",
     "text": [
      "\n",
      "Given array:  [1, 2, 3, 4, 5, 6, 7, 8, 9]\n"
     ]
    },
    {
     "name": "stdin",
     "output_type": "stream",
     "text": [
      "No of elemets to be added at the end:  3\n"
     ]
    },
    {
     "name": "stdout",
     "output_type": "stream",
     "text": [
      "\n",
      "Array after adding 3 elements at the end is: [4, 5, 6, 7, 8, 9, 1, 2, 3]\n"
     ]
    }
   ],
   "source": [
    "import array\n",
    "\n",
    "try:\n",
    "    ipArray = array.array( 'i', [])\n",
    "    \n",
    "    n = int(input(\"Enter numer of array elements you have: \"))\n",
    "    \n",
    "    for i in range(n):\n",
    "        ipArray.append(int(input(f'{i+1} th element:')))\n",
    "    \n",
    "    print('\\n\\rGiven array: ', ipArray.tolist())\n",
    "    rot = int(input('No of elemets to be added at the end: '))\n",
    "    \n",
    "    if rot > len(ipArray.tolist()):\n",
    "        print(\"This should be less than {0}\".format(len(ipArray.tolist())))\n",
    "    else:\n",
    "        print(\"\\n\\rArray after adding {0} elements at the end is: {1}\".format(rot, rotatearray(ipArray.tolist(), rot)))\n",
    "\n",
    "except Exception as e:\n",
    "    print(\"Error: \", e)"
   ]
  },
  {
   "cell_type": "markdown",
   "id": "8ccbcf0c-bda0-4e45-96ef-c34c2cc547e6",
   "metadata": {},
   "source": [
    "## 5. Write a Python Program to check if given array is Monotonic?"
   ]
  },
  {
   "cell_type": "code",
   "execution_count": 34,
   "id": "2f342dc6-946d-4094-8cd3-96e2554917f6",
   "metadata": {},
   "outputs": [],
   "source": [
    "def monotone(lst):\n",
    "    if len(lst) == 1:\n",
    "        return True\n",
    "    else:\n",
    "        i = 0\n",
    "        j = 0\n",
    "        if (all (lst[i] >= lst[i+1] for i in range(len(lst)-1)) or all (lst[j] <= lst[j+1] for j in range(len(lst)-1))):\n",
    "            return True\n",
    "        else:\n",
    "            return False"
   ]
  },
  {
   "cell_type": "code",
   "execution_count": 41,
   "id": "525763ef-7ef1-4962-a640-452b437a5fb0",
   "metadata": {},
   "outputs": [
    {
     "name": "stdin",
     "output_type": "stream",
     "text": [
      "No.of array elements:  10\n",
      "1 th element:  2\n",
      "2 th element:  3\n",
      "3 th element:  4\n",
      "4 th element:  5\n",
      "5 th element:  6\n",
      "6 th element:  9\n",
      "7 th element:  78\n",
      "8 th element:  159\n",
      "9 th element:  2369\n",
      "10 th element:  78965\n"
     ]
    },
    {
     "name": "stdout",
     "output_type": "stream",
     "text": [
      "array('i', [2, 3, 4, 5, 6, 9, 78, 159, 2369, 78965])\n",
      "\n",
      "Is the given array is Monotonic? : True\n"
     ]
    }
   ],
   "source": [
    "import array\n",
    "\n",
    "try:\n",
    "    n = int(input(\"No.of array elements: \"))\n",
    "    \n",
    "    arr = array.array( 'i', [])\n",
    "    \n",
    "    for i in range(n):\n",
    "        arr.append(int(input(f\"{i+1} th element: \")))\n",
    "    print(arr)\n",
    "    \n",
    "    print('\\n\\rIs the given array is Monotonic? :', monotone(arr.tolist()))\n",
    "\n",
    "except Exception as e:\n",
    "    print(\"Error : \", e)\n",
    "        "
   ]
  },
  {
   "cell_type": "code",
   "execution_count": null,
   "id": "424f6f6f-eb00-4e6d-8a2e-89041eb3e23a",
   "metadata": {},
   "outputs": [],
   "source": []
  }
 ],
 "metadata": {
  "kernelspec": {
   "display_name": "Python 3 (ipykernel)",
   "language": "python",
   "name": "python3"
  },
  "language_info": {
   "codemirror_mode": {
    "name": "ipython",
    "version": 3
   },
   "file_extension": ".py",
   "mimetype": "text/x-python",
   "name": "python",
   "nbconvert_exporter": "python",
   "pygments_lexer": "ipython3",
   "version": "3.10.6"
  }
 },
 "nbformat": 4,
 "nbformat_minor": 5
}
