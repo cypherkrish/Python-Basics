{
 "cells": [
  {
   "cell_type": "markdown",
   "id": "6c7b1cc7-098a-42ec-8b75-602df95bb599",
   "metadata": {},
   "source": [
    "## Question 1:\n",
    "Write a program that calculates and prints the value according to the given formula:\n",
    "\n",
    "Q = Square root of [(2 * C * D)/H]\n",
    "\n",
    "Following are the fixed values of C and H:\n",
    "\n",
    "C is 50. H is 30.\n",
    "\n",
    "D is the variable whose values should be input to your program in a comma-separated sequence.\n",
    "\n",
    "Example\n",
    "\n",
    "Let us assume the following comma separated input sequence is given to the program:\n",
    "100,150,180\n",
    "\n",
    "The output of the program should be:\n",
    "18,22,24"
   ]
  },
  {
   "cell_type": "code",
   "execution_count": 8,
   "id": "e996bde6-eecb-4ba3-8d34-c500532eae16",
   "metadata": {},
   "outputs": [
    {
     "name": "stdin",
     "output_type": "stream",
     "text": [
      "D:  180\n"
     ]
    },
    {
     "name": "stdout",
     "output_type": "stream",
     "text": [
      "24.49489742783178\n"
     ]
    }
   ],
   "source": [
    "import math\n",
    "C = 50\n",
    "H = 30\n",
    "\n",
    "D = int (input(\"D: \"))\n",
    "\n",
    "Q = math.sqrt((2 * C * D) /H)\n",
    "\n",
    "print(Q)"
   ]
  },
  {
   "cell_type": "markdown",
   "id": "9582055b-ea03-47d1-b97a-8844f3263527",
   "metadata": {},
   "source": [
    "## Question 2:\n",
    "Write a program which takes 2 digits, X,Y as input and generates a 2-dimensional array. \n",
    "The element value in the i-th row and j-th column of the array should be i*j.\n",
    "\n",
    "Note: i=0,1.., X-1; j=0,1,¡Y-1.\n",
    "\n",
    "Example\n",
    "\n",
    "Suppose the following inputs are given to the program:\n",
    "\n",
    "3,5\n",
    "Then, the output of the program should be:\n",
    "\n",
    "[[0, 0, 0, 0, 0], [0, 1, 2, 3, 4], [0, 2, 4, 6, 8]]"
   ]
  },
  {
   "cell_type": "code",
   "execution_count": 21,
   "id": "22f6a897-d5cf-4e56-a8e8-ae6249384205",
   "metadata": {},
   "outputs": [
    {
     "name": "stdin",
     "output_type": "stream",
     "text": [
      "X:  3\n",
      "Y:  5\n"
     ]
    },
    {
     "name": "stdout",
     "output_type": "stream",
     "text": [
      "[[0, 0, 0, 0, 0], [0, 1, 2, 3, 4], [0, 2, 4, 6, 8]]\n"
     ]
    }
   ],
   "source": [
    "X = int(input('X: '))\n",
    "Y = int(input('Y: '))\n",
    "\n",
    "a = []\n",
    "\n",
    "for i in range(X):\n",
    "    b = []\n",
    "    for j in range(Y):\n",
    "        b.append(i*j)\n",
    "    a.append(b)\n",
    "print(a)"
   ]
  },
  {
   "cell_type": "markdown",
   "id": "069495a2-43f9-4afd-a538-ded09107b94a",
   "metadata": {},
   "source": [
    "## Question 3:\n",
    "Write a program that accepts a comma separated sequence of words as input and prints the\n",
    "words in a comma-separated sequence after sorting them alphabetically.\n",
    "\n",
    "Suppose the following input is supplied to the program:\n",
    "\n",
    "without,hello,bag,world\n",
    "\n",
    "Then, the output should be:\n",
    "\n",
    "bag,hello,without,world"
   ]
  },
  {
   "cell_type": "code",
   "execution_count": 28,
   "id": "136f606d-d39c-4df6-ad93-60127953db97",
   "metadata": {},
   "outputs": [
    {
     "name": "stdin",
     "output_type": "stream",
     "text": [
      "Enter the comma seperated squeunce of words:  without,hello,bag,world\n"
     ]
    },
    {
     "name": "stdout",
     "output_type": "stream",
     "text": [
      "\n",
      "\n",
      "bag,hello,without,world\n"
     ]
    }
   ],
   "source": [
    "string = input('Enter the comma seperated squeunce of words: ').split(',')\n",
    "\n",
    "op = sorted(string)\n",
    "print('\\n\\r')\n",
    "print(','.join(op))"
   ]
  },
  {
   "cell_type": "markdown",
   "id": "50852cc8-1914-48cd-9354-7e70cb838639",
   "metadata": {},
   "source": [
    "## Question 4:\n",
    "Write a program that accepts a sequence of whitespace separated words as input and prints\n",
    "the words after removing all duplicate words and sorting them alphanumerically.\n",
    "\n",
    "Suppose the following input is supplied to the program:\n",
    "\n",
    "hello world and practice makes perfect and hello world again\n",
    "\n",
    "Then, the output should be:\n",
    "\n",
    "again and hello makes perfect practice world"
   ]
  },
  {
   "cell_type": "code",
   "execution_count": 41,
   "id": "3ef6bad1-5b9a-43c8-bb9b-5f2888b205e4",
   "metadata": {},
   "outputs": [
    {
     "name": "stdin",
     "output_type": "stream",
     "text": [
      "Enter the comma seperated squeunce of words:  hello world and practice makes perfect and hello world again\n"
     ]
    },
    {
     "name": "stdout",
     "output_type": "stream",
     "text": [
      "Given string: \n",
      "hello world and practice makes perfect and hello world again\n",
      "\n",
      "Output:\n",
      "again and hello makes perfect practice world\n"
     ]
    }
   ],
   "source": [
    "stringSpaces = input('Enter the comma seperated squeunce of words: ').split(' ')\n",
    "\n",
    "print('Given string: ')\n",
    "print(' '.join(stringSpaces))\n",
    "stringSet = set()\n",
    "\n",
    "for i in stringSpaces:\n",
    "    stringSet.add(i)\n",
    "\n",
    "sort = sorted(stringSet)\n",
    "print('\\nOutput:')\n",
    "print(' '.join(sort))\n"
   ]
  },
  {
   "cell_type": "markdown",
   "id": "cfd90e7a-4467-4eb0-90de-df87d93b8163",
   "metadata": {},
   "source": [
    "## Question 5:\n",
    "Write a program that accepts a sentence and calculate the number of letters and digits.\n",
    "\n",
    "Suppose the following input is supplied to the program:\n",
    "\n",
    "hello world! 123\n",
    "\n",
    "Then, the output should be:\n",
    "\n",
    "LETTERS 10\n",
    "\n",
    "DIGITS 3"
   ]
  },
  {
   "cell_type": "code",
   "execution_count": 53,
   "id": "4fd147ba-fdd8-4ccc-85da-eb09437b741d",
   "metadata": {},
   "outputs": [
    {
     "name": "stdin",
     "output_type": "stream",
     "text": [
      "Enter a string:  hello world! 123\n"
     ]
    },
    {
     "name": "stdout",
     "output_type": "stream",
     "text": [
      "LETTERS 10\n",
      "DIGITS 3\n"
     ]
    }
   ],
   "source": [
    "string = str(input('Enter a string: '))\n",
    "\n",
    "alphaCount = 0\n",
    "\n",
    "digitCount = 0\n",
    "\n",
    "for i in string:\n",
    "    if i.isalpha():\n",
    "        alphaCount = alphaCount + 1\n",
    "\n",
    "for j in string:\n",
    "    if j.isdigit(): \n",
    "        digitCount = digitCount + 1\n",
    "\n",
    "print('LETTERS',alphaCount)\n",
    "print('DIGITS',digitCount)"
   ]
  },
  {
   "cell_type": "markdown",
   "id": "b9ce0edf-e35d-409c-88a6-9df33cede2b1",
   "metadata": {},
   "source": [
    "## Question 6:\n",
    "A website requires the users to input username and password to register. \n",
    "Write a program to check the validity of password input by users.\n",
    "Following are the criteria for checking the password:\n",
    "1. At least 1 letter between [a-z]\n",
    "2. At least 1 number between [0-9]\n",
    "1. At least 1 letter between [A-Z]\n",
    "3. At least 1 character from [$#@]\n",
    "4. Minimum length of transaction password: 6\n",
    "5. Maximum length of transaction password: 12\n",
    "\n",
    "Your program should accept a sequence of comma separated passwords and will check them\n",
    "according to the above criteria. Passwords that match the criteria are to be printed, each\n",
    "separated by a comma\n",
    "\n",
    "Example\n",
    "\n",
    "If the following passwords are given as input to the program:\n",
    "\n",
    "ABd1234@1,a F1#,2w3E*,2We3345\n",
    "\n",
    "Then, the output of the program should be:\n",
    "\n",
    "ABd1234@1"
   ]
  },
  {
   "cell_type": "code",
   "execution_count": 55,
   "id": "b54a5799-92b4-4f1e-8359-a77d2be86bb6",
   "metadata": {},
   "outputs": [],
   "source": [
    "import re"
   ]
  },
  {
   "cell_type": "code",
   "execution_count": 67,
   "id": "e1f484f6-3d15-436b-9d8d-70ee49e58255",
   "metadata": {},
   "outputs": [
    {
     "name": "stdin",
     "output_type": "stream",
     "text": [
      "Enter the pws seperated by comma:  ABd1234@1,a F1#,2w3E*,2We3345\n"
     ]
    }
   ],
   "source": [
    "password = input('Enter the pws seperated by comma: ').split(',')"
   ]
  },
  {
   "cell_type": "code",
   "execution_count": 64,
   "id": "f357b64f-f4b3-4f69-9fb9-00cc6d0d080a",
   "metadata": {},
   "outputs": [],
   "source": [
    "password_pattern = \"^(?=.*?[A-Z])(?=.*?[a-z])(?=.*?[0-9])(?=.*?[$#@]).{6,}$\""
   ]
  },
  {
   "cell_type": "code",
   "execution_count": 71,
   "id": "b1a934a0-deb5-454c-9920-132511566b18",
   "metadata": {},
   "outputs": [
    {
     "name": "stdout",
     "output_type": "stream",
     "text": [
      "ABd1234@1 -is Valid password\n"
     ]
    }
   ],
   "source": [
    "for i in password:\n",
    "    if re.match(password_pattern, i):\n",
    "        print(i, '-is Valid password')"
   ]
  },
  {
   "cell_type": "code",
   "execution_count": null,
   "id": "e9338667-a29f-45b1-97c5-652f97d85d85",
   "metadata": {},
   "outputs": [],
   "source": []
  }
 ],
 "metadata": {
  "kernelspec": {
   "display_name": "Python 3 (ipykernel)",
   "language": "python",
   "name": "python3"
  },
  "language_info": {
   "codemirror_mode": {
    "name": "ipython",
    "version": 3
   },
   "file_extension": ".py",
   "mimetype": "text/x-python",
   "name": "python",
   "nbconvert_exporter": "python",
   "pygments_lexer": "ipython3",
   "version": "3.10.6"
  }
 },
 "nbformat": 4,
 "nbformat_minor": 5
}
