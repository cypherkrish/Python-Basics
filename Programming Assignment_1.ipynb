{
 "cells": [
  {
   "cell_type": "markdown",
   "id": "5c05f34c-fb72-49b8-80d4-8788e3d3034b",
   "metadata": {},
   "source": [
    "## 1. Write a Python program to print &quot;Hello Python&quot;?"
   ]
  },
  {
   "cell_type": "code",
   "execution_count": 1,
   "id": "cbbfe769-5e65-42ec-a4a7-859400e0b878",
   "metadata": {},
   "outputs": [
    {
     "name": "stdout",
     "output_type": "stream",
     "text": [
      "Hello Python\n"
     ]
    }
   ],
   "source": [
    "print(\"Hello Python\")"
   ]
  },
  {
   "cell_type": "markdown",
   "id": "4f3651d7-866b-4529-a7b9-8f44f91ecd33",
   "metadata": {},
   "source": [
    "## 2. Write a Python program to do arithmetical operations addition and division.?"
   ]
  },
  {
   "cell_type": "code",
   "execution_count": 4,
   "id": "639f1090-79e2-434a-8ba6-79cdcdb1d7c3",
   "metadata": {},
   "outputs": [
    {
     "name": "stdin",
     "output_type": "stream",
     "text": [
      "a:  23\n",
      "b:  10\n"
     ]
    },
    {
     "name": "stdout",
     "output_type": "stream",
     "text": [
      "Addotion:  33\n",
      "Subtraction:  13\n",
      "Multiplication:  230\n",
      "Division:  2.3\n",
      "Modulus:  3\n",
      "Exponential:  41426511213649\n",
      "Integer divission:  2\n"
     ]
    }
   ],
   "source": [
    "a = int (input('a: '))\n",
    "b = int (input('b: '))\n",
    "\n",
    "print('Addotion: ', a + b)\n",
    "print('Subtraction: ', a - b)\n",
    "print('Multiplication: ', a * b)\n",
    "print ('Division: ', a / b)\n",
    "print('Modulus: ', a % b)\n",
    "print('Exponential: ', a ** b)\n",
    "print('Integer divission: ', a // b)"
   ]
  },
  {
   "cell_type": "markdown",
   "id": "3d1280ae-394f-43a7-9987-7f82efa91867",
   "metadata": {},
   "source": [
    "## 3. Write a Python program to find the area of a triangle?"
   ]
  },
  {
   "cell_type": "code",
   "execution_count": 5,
   "id": "c5180ae4-c284-4840-994f-7be102cb1cdc",
   "metadata": {},
   "outputs": [
    {
     "name": "stdin",
     "output_type": "stream",
     "text": [
      "Base:  2\n",
      "Hight:  6\n"
     ]
    },
    {
     "name": "stdout",
     "output_type": "stream",
     "text": [
      "Are of the triangle:  6.0\n"
     ]
    }
   ],
   "source": [
    "b = float(input('Base: '))\n",
    "h = float(input('Hight: '))\n",
    "\n",
    "print('Are of the triangle: ', b * h * 0.5)"
   ]
  },
  {
   "cell_type": "markdown",
   "id": "131c56d8-cd62-483b-be07-d95b5895ae14",
   "metadata": {},
   "source": [
    "## 4. Write a Python program to swap two variables?"
   ]
  },
  {
   "cell_type": "code",
   "execution_count": 10,
   "id": "ed207580-0dd5-4170-9b21-94eff9aabb45",
   "metadata": {},
   "outputs": [
    {
     "name": "stdin",
     "output_type": "stream",
     "text": [
      "a : wrdf\n",
      "b :  5652\n"
     ]
    },
    {
     "name": "stdout",
     "output_type": "stream",
     "text": [
      "a :  wrdf\n",
      "b :  5652\n",
      "a :  5652\n",
      "b :  wrdf\n"
     ]
    }
   ],
   "source": [
    "a = input ('a :')\n",
    "b = input ('b : ')\n",
    "\n",
    "\n",
    "print('a: ', a)\n",
    "print('b: ', b)\n",
    "\n",
    "a , b = b, a \n",
    "\n",
    "print('a: ', a)\n",
    "print('b: ', b)"
   ]
  },
  {
   "cell_type": "markdown",
   "id": "fff73913-6efe-46b9-82cf-c7426377ccb2",
   "metadata": {},
   "source": [
    "## 5. Write a Python program to generate a random number?"
   ]
  },
  {
   "cell_type": "code",
   "execution_count": 11,
   "id": "e45317c0-a179-4f83-88f3-fa65d0f6692c",
   "metadata": {},
   "outputs": [],
   "source": [
    "import random"
   ]
  },
  {
   "cell_type": "code",
   "execution_count": 19,
   "id": "d0846abd-ea4d-4eb4-bf5e-7484a0812d50",
   "metadata": {},
   "outputs": [
    {
     "data": {
      "text/plain": [
       "97"
      ]
     },
     "execution_count": 19,
     "metadata": {},
     "output_type": "execute_result"
    }
   ],
   "source": [
    "random.randint(1, 100)"
   ]
  },
  {
   "cell_type": "code",
   "execution_count": 20,
   "id": "dd96a61f-5e81-4de1-a3aa-858dbf9c7831",
   "metadata": {},
   "outputs": [
    {
     "data": {
      "text/plain": [
       "0.6008504106747552"
      ]
     },
     "execution_count": 20,
     "metadata": {},
     "output_type": "execute_result"
    }
   ],
   "source": [
    "random.random()"
   ]
  },
  {
   "cell_type": "code",
   "execution_count": null,
   "id": "198217f4-f35f-47cd-bc7c-2125209dce6e",
   "metadata": {},
   "outputs": [],
   "source": []
  }
 ],
 "metadata": {
  "kernelspec": {
   "display_name": "Python 3 (ipykernel)",
   "language": "python",
   "name": "python3"
  },
  "language_info": {
   "codemirror_mode": {
    "name": "ipython",
    "version": 3
   },
   "file_extension": ".py",
   "mimetype": "text/x-python",
   "name": "python",
   "nbconvert_exporter": "python",
   "pygments_lexer": "ipython3",
   "version": "3.10.6"
  }
 },
 "nbformat": 4,
 "nbformat_minor": 5
}
