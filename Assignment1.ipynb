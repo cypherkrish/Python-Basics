{
 "cells": [
  {
   "cell_type": "markdown",
   "id": "97dd17b5-ed36-4383-8dd6-42a8f4f9c918",
   "metadata": {},
   "source": [
    "## 1. In the below elements which of them are values or an expression? eg:- values can be\n",
    "## integer or string and expressions will be mathematical operators.\n",
    "\n",
    "\n"
   ]
  },
  {
   "cell_type": "code",
   "execution_count": 6,
   "id": "6825f71f-f48a-4ba0-89fc-2a16ed144764",
   "metadata": {},
   "outputs": [],
   "source": [
    "#### *  = expession\n",
    "#### 'hello' = value\n",
    "#### -87.8 = value\n",
    "#### - = expession\n",
    "#### / = expession\n",
    "#### + = expession\n",
    "#### 6 = value"
   ]
  },
  {
   "cell_type": "markdown",
   "id": "6c04a49d-7cba-41c2-99b4-87b0235161ee",
   "metadata": {},
   "source": [
    "## 2. What is the difference between string and variable?\n",
    "\n"
   ]
  },
  {
   "cell_type": "code",
   "execution_count": 7,
   "id": "6d4ef7eb-ec74-4572-8860-0671e5a2086f",
   "metadata": {},
   "outputs": [],
   "source": [
    "### string is a data type for a variable and also it is a data that will be stored in  a variabld\n",
    "\n",
    "### variable holds the data that is of the specified type like int, str, float, book, etc"
   ]
  },
  {
   "cell_type": "markdown",
   "id": "b099c87f-ecde-4969-a82d-45fa7c1685db",
   "metadata": {},
   "source": [
    "## 3. Describe three different data types.\n",
    "\n",
    "\n"
   ]
  },
  {
   "cell_type": "markdown",
   "id": "0d6dea7d-96cb-4ca0-bd9c-572f166c8d25",
   "metadata": {},
   "source": [
    "##### int - integer, \n",
    "######      example : 3, 5645, 8654, -2560 etc\n",
    "##### str - string\n",
    "###### Example: 'krishna', 'Tushar', 'Chakri', 'Ram', 'Q23sdf45' etc\n",
    "##### float - decimal numners\n",
    "###### example: 45.68, 3.7425698, -0.2562, -5.012 etc\n",
    "##### bool - Boolean \n",
    "###### True, False"
   ]
  },
  {
   "cell_type": "markdown",
   "id": "9cb3b0e7-f0b7-40f8-8be1-6bd15cef95a3",
   "metadata": {},
   "source": [
    "### 4. What is an expression made up of? What do all expressions do?"
   ]
  },
  {
   "cell_type": "markdown",
   "id": "8998c403-1032-4261-8b0a-2b8d8fce0f62",
   "metadata": {},
   "source": [
    "##### '''An expression is a combination of operators and operands that is \n",
    "##### interpreted to produce some other value.'''"
   ]
  },
  {
   "cell_type": "markdown",
   "id": "a63d7957-4890-4b06-a073-fc2ed974ed22",
   "metadata": {},
   "source": [
    "## 5. This assignment statements, like spam = 10. What is the difference between an expression and a statement?"
   ]
  },
  {
   "cell_type": "markdown",
   "id": "fa94c49d-2d5d-46d2-aa20-5976c25d91ce",
   "metadata": {},
   "source": [
    "spam = 10\n",
    "\n",
    "Here spam is a variable\n",
    "\n",
    "= is an expression\n",
    "\n",
    "10 is value"
   ]
  },
  {
   "cell_type": "code",
   "execution_count": 3,
   "id": "63e4bd4c-adde-452e-8758-e18b062c405e",
   "metadata": {},
   "outputs": [
    {
     "data": {
      "text/plain": [
       "23"
      ]
     },
     "execution_count": 3,
     "metadata": {},
     "output_type": "execute_result"
    }
   ],
   "source": [
    "## 6. After running the following code, what does the variable bacon contain?\n",
    "bacon = 22\n",
    "bacon + 1"
   ]
  },
  {
   "cell_type": "markdown",
   "id": "d703ee7f-fad3-4747-834e-4ac661934f84",
   "metadata": {},
   "source": [
    "## 7. What should the values of the following two terms be?\n",
    "#### 'spam' + 'spamspam'\n",
    "#### 'spam' * 3"
   ]
  },
  {
   "cell_type": "code",
   "execution_count": 5,
   "id": "11598d55-656c-4535-99ab-469ef20024d9",
   "metadata": {},
   "outputs": [
    {
     "data": {
      "text/plain": [
       "'spamspamspam'"
      ]
     },
     "execution_count": 5,
     "metadata": {},
     "output_type": "execute_result"
    }
   ],
   "source": [
    "'spam' + 'spamspam'\n"
   ]
  },
  {
   "cell_type": "code",
   "execution_count": 6,
   "id": "681ea017-79e9-42ff-bf9d-5ebc173d8f55",
   "metadata": {},
   "outputs": [
    {
     "data": {
      "text/plain": [
       "'spamspamspam'"
      ]
     },
     "execution_count": 6,
     "metadata": {},
     "output_type": "execute_result"
    }
   ],
   "source": [
    "'spam' * 3"
   ]
  },
  {
   "cell_type": "markdown",
   "id": "a5afc0e2-2542-408e-9532-85c657bbeeb4",
   "metadata": {},
   "source": [
    "### 8. Why is eggs a valid variable name while 100 is invalid?"
   ]
  },
  {
   "cell_type": "markdown",
   "id": "fdd3aa76-85d8-488c-a901-b4104ad8ecc8",
   "metadata": {},
   "source": [
    "A variable name must start with a letter or the underscore character\n",
    "A variable name cannot start with a number\n",
    "A variable name can only contain alpha-numeric characters and underscores (A-z, 0-9, and _ )\n",
    "Variable names are case-sensitive (age, Age and AGE are three different variables)"
   ]
  },
  {
   "cell_type": "markdown",
   "id": "35b9998f-38d5-4ca8-93f3-c05565cec70d",
   "metadata": {},
   "source": [
    "### 9. What three functions can be used to get the integer, floating-point number, or string version of a value?"
   ]
  },
  {
   "cell_type": "markdown",
   "id": "0695dd9d-5725-4c69-8c85-a4734fcad330",
   "metadata": {},
   "source": [
    "##### int() - for integer values\n",
    "##### float() - for floaging values\n",
    "##### str() - for string values"
   ]
  },
  {
   "cell_type": "markdown",
   "id": "beff82ae-69cd-4e15-9a03-a87c479c02a2",
   "metadata": {},
   "source": [
    "### 10. Why does this expression cause an error? How can you fix it?\n",
    "##### 'I have eaten' + 99 + 'burritos.'\n",
    "\n",
    "##### Here both string and integers are concatenated. This is the reason for the error"
   ]
  },
  {
   "cell_type": "code",
   "execution_count": 11,
   "id": "02f00d2a-5561-4b97-86d2-7f10c5ac0094",
   "metadata": {},
   "outputs": [
    {
     "ename": "TypeError",
     "evalue": "can only concatenate str (not \"int\") to str",
     "output_type": "error",
     "traceback": [
      "\u001b[0;31m---------------------------------------------------------------------------\u001b[0m",
      "\u001b[0;31mTypeError\u001b[0m                                 Traceback (most recent call last)",
      "Cell \u001b[0;32mIn [11], line 1\u001b[0m\n\u001b[0;32m----> 1\u001b[0m \u001b[38;5;124;43m'\u001b[39;49m\u001b[38;5;124;43mI have eaten\u001b[39;49m\u001b[38;5;124;43m'\u001b[39;49m\u001b[43m \u001b[49m\u001b[38;5;241;43m+\u001b[39;49m\u001b[43m \u001b[49m\u001b[38;5;241;43m99\u001b[39;49m \u001b[38;5;241m+\u001b[39m \u001b[38;5;124m'\u001b[39m\u001b[38;5;124mburritos.\u001b[39m\u001b[38;5;124m'\u001b[39m\n",
      "\u001b[0;31mTypeError\u001b[0m: can only concatenate str (not \"int\") to str"
     ]
    }
   ],
   "source": [
    "'I have eaten' + 99 + 'burritos.'"
   ]
  },
  {
   "cell_type": "code",
   "execution_count": null,
   "id": "bf3f94d4-f689-4b3c-8e0e-9218faf7ea87",
   "metadata": {},
   "outputs": [],
   "source": []
  }
 ],
 "metadata": {
  "kernelspec": {
   "display_name": "Python 3 (ipykernel)",
   "language": "python",
   "name": "python3"
  },
  "language_info": {
   "codemirror_mode": {
    "name": "ipython",
    "version": 3
   },
   "file_extension": ".py",
   "mimetype": "text/x-python",
   "name": "python",
   "nbconvert_exporter": "python",
   "pygments_lexer": "ipython3",
   "version": "3.10.6"
  }
 },
 "nbformat": 4,
 "nbformat_minor": 5
}
