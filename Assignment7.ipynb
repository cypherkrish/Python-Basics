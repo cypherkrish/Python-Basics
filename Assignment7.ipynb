{
 "cells": [
  {
   "cell_type": "markdown",
   "id": "76e66b97-2c14-4133-96c6-d51cf283271b",
   "metadata": {},
   "source": [
    "### Q: 1. What is the name of the feature responsible for generating Regex objects?"
   ]
  },
  {
   "cell_type": "markdown",
   "id": "45277e40-8bf4-4b2b-8c04-491ca87e9c3e",
   "metadata": {},
   "source": [
    "### Ans:"
   ]
  },
  {
   "cell_type": "markdown",
   "id": "9c83bd1c-8ae1-4745-bec1-6e4898721dca",
   "metadata": {},
   "source": [
    "Python has a built-in package called 're', which can be used to work with Regular Expressions."
   ]
  },
  {
   "cell_type": "markdown",
   "id": "283e174d-7492-4fa1-bb28-61588c227ece",
   "metadata": {},
   "source": [
    "re.compile() method is used to compile a regular expression"
   ]
  },
  {
   "cell_type": "markdown",
   "id": "496da8c6-37f2-4ee0-8d0a-28c53c654be8",
   "metadata": {},
   "source": [
    "## Q: 2. Why do raw strings often appear in Regex objects?"
   ]
  },
  {
   "cell_type": "markdown",
   "id": "23d2ba53-0091-4420-a732-75bbb47d8db9",
   "metadata": {},
   "source": [
    "A raw string completely ignores all escape characters and prints any\n",
    "backslash that appears in the string.\n",
    "\n",
    "Raw strings are used so that backslashes do not have to be escaped."
   ]
  },
  {
   "cell_type": "markdown",
   "id": "147e4732-06d0-4131-a5e0-3e141429af87",
   "metadata": {},
   "source": [
    "## Q: 3. What is the return value of the search() method?"
   ]
  },
  {
   "cell_type": "markdown",
   "id": "6873428b-944c-4df0-977a-105bb4c9126c",
   "metadata": {},
   "source": [
    "The search() method will return None if the regex pattern is not found in the string. \n",
    "\n",
    "If the pattern is found, the search() method returns a Match object"
   ]
  },
  {
   "cell_type": "markdown",
   "id": "4f002700-e4be-4de2-814e-8b85e5cc2839",
   "metadata": {},
   "source": [
    "## Q: 4. From a Match item, how do you get the actual strings that match the pattern?"
   ]
  },
  {
   "cell_type": "markdown",
   "id": "3c7f5e05-7a6f-448c-921c-c2a14001cb17",
   "metadata": {},
   "source": [
    "### Ans: \n",
    "\n",
    "The group() method returns strings of the matched text."
   ]
  },
  {
   "cell_type": "markdown",
   "id": "2a4edcd7-1674-4c38-9a7c-f1b93f1431dc",
   "metadata": {},
   "source": [
    "## Q: 5. In the regex which created from the r&#39;(\\d\\d\\d)-(\\d\\d\\d-\\d\\d\\d\\d)&#39;, what does group zero cover? Group 2? Group 1?"
   ]
  },
  {
   "cell_type": "markdown",
   "id": "51e45f2f-a549-4266-b52c-c9df86231b50",
   "metadata": {},
   "source": [
    "### Ans:\n",
    "\n",
    "Group 0 is the entire match, group 1 covers the first set of parentheses, and group 2 covers the second set of parentheses."
   ]
  },
  {
   "cell_type": "code",
   "execution_count": 21,
   "id": "a9eb0207-1296-41ba-a7cf-2f0a174d6b52",
   "metadata": {},
   "outputs": [],
   "source": [
    "import re"
   ]
  },
  {
   "cell_type": "code",
   "execution_count": 22,
   "id": "205e43cc-1a5d-42fc-8bfa-715b98927a4c",
   "metadata": {},
   "outputs": [],
   "source": [
    "phoneNumRegex = re.compile(r'(\\d\\d\\d)-(\\d\\d\\d-\\d\\d\\d\\d)')"
   ]
  },
  {
   "cell_type": "code",
   "execution_count": 23,
   "id": "2657366f-32f9-468a-9698-ad3a8e70cf4f",
   "metadata": {},
   "outputs": [
    {
     "data": {
      "text/plain": [
       "re.compile(r'(\\d\\d\\d)-(\\d\\d\\d-\\d\\d\\d\\d)', re.UNICODE)"
      ]
     },
     "execution_count": 23,
     "metadata": {},
     "output_type": "execute_result"
    }
   ],
   "source": [
    "phoneNumRegex"
   ]
  },
  {
   "cell_type": "code",
   "execution_count": 24,
   "id": "ace409da-c2ed-4d99-94f2-a99e62bb881b",
   "metadata": {},
   "outputs": [],
   "source": [
    "mo = phoneNumRegex.search('My number is 415-555-4242.')"
   ]
  },
  {
   "cell_type": "code",
   "execution_count": 25,
   "id": "a9404fe3-1c5d-4868-8107-d671d8437ce6",
   "metadata": {},
   "outputs": [
    {
     "data": {
      "text/plain": [
       "('415', '555-4242')"
      ]
     },
     "execution_count": 25,
     "metadata": {},
     "output_type": "execute_result"
    }
   ],
   "source": [
    "mo.groups()"
   ]
  },
  {
   "cell_type": "code",
   "execution_count": 27,
   "id": "f1493afc-e294-46bd-aafa-688cfc8ef284",
   "metadata": {},
   "outputs": [
    {
     "data": {
      "text/plain": [
       "'415'"
      ]
     },
     "execution_count": 27,
     "metadata": {},
     "output_type": "execute_result"
    }
   ],
   "source": [
    "mo.group(1)"
   ]
  },
  {
   "cell_type": "code",
   "execution_count": 28,
   "id": "e7a1e0b0-5c5a-46ef-ae30-35b1cdc94e62",
   "metadata": {},
   "outputs": [
    {
     "data": {
      "text/plain": [
       "'555-4242'"
      ]
     },
     "execution_count": 28,
     "metadata": {},
     "output_type": "execute_result"
    }
   ],
   "source": [
    "mo.group(2)"
   ]
  },
  {
   "cell_type": "code",
   "execution_count": 29,
   "id": "223794f5-1e2c-4229-8a91-486feb0c4bab",
   "metadata": {},
   "outputs": [
    {
     "data": {
      "text/plain": [
       "'415-555-4242'"
      ]
     },
     "execution_count": 29,
     "metadata": {},
     "output_type": "execute_result"
    }
   ],
   "source": [
    "mo.group(0)"
   ]
  },
  {
   "cell_type": "markdown",
   "id": "e674cdf4-fa5f-4a98-8862-1405e0d014d8",
   "metadata": {},
   "source": [
    "## Q: 6. In standard expression syntax, parentheses and intervals have distinct meanings. How can you tell a regex that you want it to fit real parentheses and periods?"
   ]
  },
  {
   "cell_type": "markdown",
   "id": "2f5d2c49-b6b4-48ea-843a-5fe042995402",
   "metadata": {},
   "source": [
    "### Ans:"
   ]
  },
  {
   "cell_type": "markdown",
   "id": "ae5f921b-f894-43e4-8c56-31e18fee8f4c",
   "metadata": {},
   "source": [
    "We can use the backshal (escape charagers) to specify the period and parentheses  \n",
    "\n",
    "Period: \\.\n",
    "\n",
    "parentheses: \\( and \\) \n"
   ]
  },
  {
   "cell_type": "markdown",
   "id": "d54be3d4-01e0-46a4-9a1e-fa36eae654f7",
   "metadata": {},
   "source": [
    "## Q: 7. The findall() method returns a string list or a list of string tuples. What causes it to return one of the two options?"
   ]
  },
  {
   "cell_type": "markdown",
   "id": "ff9f703f-0036-4f46-87e0-dd364dfe0fcc",
   "metadata": {},
   "source": [
    "### Ans:\n",
    "\n",
    "1. When called on a regex with no groups, such as \\d\\d\\d-\\d\\d\\d-\\d\\d\\d\\d, the method findall() returns a list of string matches, such as ['415-555-\n",
    "9999', '212-555-0000'].\n",
    "\n",
    "2. When called on a regex that has groups, such as (\\d\\d\\d)-(\\d\\d\\d)-(\\d\\d\\d\\d), the method findall() returns a list of tuples of strings (one string for each group), such as [('415', '555', '1122'), ('212', '555', '0000')]."
   ]
  },
  {
   "cell_type": "markdown",
   "id": "745b6e07-a34c-43f8-b38f-58d268ebb1c1",
   "metadata": {},
   "source": [
    "## 8. In standard expressions, what does the | character mean?"
   ]
  },
  {
   "cell_type": "markdown",
   "id": "1126ab36-a2af-4d3d-9a97-c24217d3a63e",
   "metadata": {},
   "source": [
    "## Ans:\n",
    "\n",
    "The | character signifies matching “either, or” between two groups."
   ]
  },
  {
   "cell_type": "markdown",
   "id": "bbf9b578-1fbc-444d-b0de-5715aa4b47cb",
   "metadata": {},
   "source": [
    "## Q: 9. In regular expressions, what does the character stand for?"
   ]
  },
  {
   "cell_type": "markdown",
   "id": "10317d9a-eab0-4e1b-8d52-def1468e5107",
   "metadata": {},
   "source": [
    "### Ans:\n",
    "The ? character in a regular expression “Match zero or one of the group preceding this question mark.”\n"
   ]
  },
  {
   "cell_type": "markdown",
   "id": "bdd44b06-3191-4eea-b58e-8cd5c499617b",
   "metadata": {},
   "source": [
    "## Q: 10.In regular expressions, what is the difference between the + and * characters?"
   ]
  },
  {
   "cell_type": "markdown",
   "id": "c979ad9f-3bb1-403e-bace-bcc5cc8b39dd",
   "metadata": {},
   "source": [
    "### Ans:\n",
    "\n",
    "The * matches zero or more of the preceding group.\n",
    "\n",
    "The + matches one or more of the preceding group."
   ]
  },
  {
   "cell_type": "markdown",
   "id": "9deb8e38-25a4-4494-b6a2-f20b6a79a2db",
   "metadata": {},
   "source": [
    "## Q: 11. What is the difference between {4} and {4,5} in regular expression?"
   ]
  },
  {
   "cell_type": "markdown",
   "id": "0812edda-54f0-4fcf-a667-15a5a5cf8ff6",
   "metadata": {},
   "source": [
    "The {4} matches exactly three instances of the preceding group. The {4,5} matches between four and five instances."
   ]
  },
  {
   "cell_type": "markdown",
   "id": "82a0a195-8002-4143-9227-0226f73abdd9",
   "metadata": {},
   "source": [
    "## Q: 12. What do you mean by the \\d, \\w, and \\s shorthand character classes signify in regular expressions?"
   ]
  },
  {
   "cell_type": "markdown",
   "id": "34c24d89-b05e-4f4b-a706-dc911c827244",
   "metadata": {},
   "source": [
    "\\d => to match a digit \n",
    "\n",
    "\\w => To match a word\n",
    " \n",
    "\\s => To match space character"
   ]
  },
  {
   "cell_type": "markdown",
   "id": "f766dd73-c11f-4180-bd78-d7ba5064a6fd",
   "metadata": {},
   "source": [
    "## Q: 13. What do means by \\D, \\W, and \\S shorthand character classes signify in regular expressions?"
   ]
  },
  {
   "cell_type": "markdown",
   "id": "dfed17d1-9501-404d-bc11-f00df8eb7c31",
   "metadata": {},
   "source": [
    "### Ans:\n",
    "\n",
    "\\D => will match any thing except digit\n",
    "\n",
    "\\W => will match any thing except a word\n",
    "\n",
    "\\S => Will match anything except a space character"
   ]
  },
  {
   "cell_type": "markdown",
   "id": "a2152a11-e627-4ffb-8fb8-95266ce2f386",
   "metadata": {},
   "source": [
    "## Q: 14. What is the difference between .*? and .*?"
   ]
  },
  {
   "cell_type": "markdown",
   "id": "5b820d9c-b8ed-4557-aa99-112b21dfb78e",
   "metadata": {},
   "source": [
    "### Ans: Ans\n",
    "\n",
    ".* => is to perform a greedy match\n",
    "\n",
    ".*? => is to perform a non-greedy match"
   ]
  },
  {
   "cell_type": "markdown",
   "id": "33fa52cf-f1c2-4dd4-a47b-e3e184f53de1",
   "metadata": {},
   "source": [
    "## Q: 15. What is the syntax for matching both numbers and lowercase letters with a character class?"
   ]
  },
  {
   "cell_type": "markdown",
   "id": "4e4076f4-e324-461f-90fe-8d04fbf5a26e",
   "metadata": {},
   "source": [
    "### Ans:\n",
    "\n",
    "Either [0-9a-z] or [a-z0-9]"
   ]
  },
  {
   "cell_type": "markdown",
   "id": "a2d9e459-a951-42fe-80aa-e3eae35d6d1e",
   "metadata": {},
   "source": [
    "## Q: 16. What is the procedure for making a normal expression in regax case insensitive?"
   ]
  },
  {
   "cell_type": "markdown",
   "id": "99ff0631-034c-4e6f-ae85-2413c2443247",
   "metadata": {},
   "source": [
    "### Ans:\n",
    "To make your regex case-insensitive, you can pass re.IGNORECASE or re.I as a second argument to re.compile(). "
   ]
  },
  {
   "cell_type": "markdown",
   "id": "77e85a08-3190-41f2-b58f-efb6de62c329",
   "metadata": {},
   "source": [
    "## Q: 17. What does the . character normally match? What does it match if re.DOTALL is passed as 2nd argument in re.compile()?"
   ]
  },
  {
   "cell_type": "markdown",
   "id": "98b30c82-780a-4005-8d74-c439eb67b0a2",
   "metadata": {},
   "source": [
    "### Ans:\n",
    "\n",
    "The . character normally matches any character except the newline character. If re.DOTALL is passed as the second argument to re.compile(), then the dot will also match newline characters."
   ]
  },
  {
   "cell_type": "markdown",
   "id": "2dea5432-afdc-49e5-b626-2194f2a7657f",
   "metadata": {},
   "source": [
    "## Q: 18. If numReg = re.compile(r&#39;\\d+&#39;), what will numRegex.sub(&#39;X&#39;, &#39;11 drummers, 10 pipers, five rings, 4 hen&#39;) return?"
   ]
  },
  {
   "cell_type": "code",
   "execution_count": 38,
   "id": "cae6c1fe-c4dc-4f6b-93d4-f8370dc28f43",
   "metadata": {},
   "outputs": [],
   "source": [
    "import re\n",
    "\n",
    "numRegex = re.compile(r'\\d+')"
   ]
  },
  {
   "cell_type": "code",
   "execution_count": 39,
   "id": "38fef134-d3f8-4fc6-ac61-1ae5a43ff92d",
   "metadata": {},
   "outputs": [
    {
     "data": {
      "text/plain": [
       "'X drummers, X pipers, five rings, X hen'"
      ]
     },
     "execution_count": 39,
     "metadata": {},
     "output_type": "execute_result"
    }
   ],
   "source": [
    "numRegex.sub('X', '11 drummers, 10 pipers, five rings, 4 hen') "
   ]
  },
  {
   "cell_type": "markdown",
   "id": "ef0fe26c-8186-4035-b1b3-e7c8b34710d1",
   "metadata": {},
   "source": [
    "## Q: 19. What does passing re.VERBOSE as the 2nd argument to re.compile() allow to do?"
   ]
  },
  {
   "cell_type": "markdown",
   "id": "391086b0-ebde-43a4-94d1-e7e766a0abd0",
   "metadata": {},
   "source": [
    "### Ans:\n",
    "\n",
    "The re.VERBOSE argument allows you to add whitespace and comments to the string passed to re.compile()"
   ]
  },
  {
   "cell_type": "markdown",
   "id": "f0a2933d-bcdb-424e-8682-fea6f6785073",
   "metadata": {},
   "source": [
    "## Q: 20. How would you write a regex that match a number with comma for every three digits? It must\n",
    "\n",
    "match the given following:\n",
    "\n",
    "&#39;42&#39;\n",
    "\n",
    "&#39;1,234&#39;\n",
    "\n",
    "&#39;6,368,745&#39;\n",
    "\n",
    "but not the following:\n",
    "\n",
    "&#39;12,34,567&#39; (which has only two digits between the commas)\n",
    "\n",
    "&#39;1234&#39; (which lacks commas)"
   ]
  },
  {
   "cell_type": "code",
   "execution_count": 40,
   "id": "e3015da6-77b5-4316-a40f-01cdc9892045",
   "metadata": {},
   "outputs": [],
   "source": [
    "import re"
   ]
  },
  {
   "cell_type": "code",
   "execution_count": 47,
   "id": "832ddcdc-4b4c-47b2-9d77-56ff78137530",
   "metadata": {},
   "outputs": [
    {
     "data": {
      "text/plain": [
       "re.compile(r'^\\d{1,3}(,\\d{3})*$', re.UNICODE)"
      ]
     },
     "execution_count": 47,
     "metadata": {},
     "output_type": "execute_result"
    }
   ],
   "source": [
    "re.compile(r'^\\d{1,3}(,\\d{3})*$')"
   ]
  },
  {
   "cell_type": "markdown",
   "id": "2d169596-6d16-49f7-ad21-545e2dfbba09",
   "metadata": {},
   "source": [
    "re.compile(r'^\\d{1,3}(,\\d{3})*$') will create this regex, but other regex strings can produce a similar regular expression"
   ]
  },
  {
   "cell_type": "markdown",
   "id": "43317a33-45b2-4f19-911b-81a9851fe42a",
   "metadata": {},
   "source": [
    "## Q: 21. How would you write a regex that matches the full name of someone whose last name is Watanabe? You can assume that the first name that comes before it will always be one word that begins with a capital letter. The regex must match the following:\n",
    "\n",
    "&#39;Haruto Watanabe&#39;\n",
    "\n",
    "&#39;Alice Watanabe&#39;\n",
    "\n",
    "&#39;RoboCop Watanabe&#39;\n",
    "\n",
    "but not the following:\n",
    "\n",
    "&#39;haruto Watanabe&#39; (where the first name is not capitalized)\n",
    "\n",
    "&#39;Mr. Watanabe&#39; (where the preceding word has a nonletter character)\n",
    "\n",
    "&#39;Watanabe&#39; (which has no first name)\n",
    "\n",
    "&#39;Haruto watanabe&#39; (where Watanabe is not capitalized)"
   ]
  },
  {
   "cell_type": "code",
   "execution_count": 90,
   "id": "135cadbc-d5f6-4ca1-afb2-7c06610db2b1",
   "metadata": {},
   "outputs": [],
   "source": [
    "str0 = ['Haruto Watanabe', 'Alice Watanabe', 'RoboCop Watanabe','haruto Watanabe', 'Mr. Watanabe','Watanabe','Haruto watanabe']"
   ]
  },
  {
   "cell_type": "code",
   "execution_count": 91,
   "id": "d5553b60-5fb6-43d2-8d5f-dc070bdfcb0d",
   "metadata": {},
   "outputs": [
    {
     "data": {
      "text/plain": [
       "['Haruto Watanabe',\n",
       " 'Alice Watanabe',\n",
       " 'RoboCop Watanabe',\n",
       " 'haruto Watanabe',\n",
       " 'Mr. Watanabe',\n",
       " 'Watanabe',\n",
       " 'Haruto watanabe']"
      ]
     },
     "execution_count": 91,
     "metadata": {},
     "output_type": "execute_result"
    }
   ],
   "source": [
    "str0"
   ]
  },
  {
   "cell_type": "code",
   "execution_count": 92,
   "id": "928fb1c5-b5f4-4d89-a1b1-0fc8bd272bf0",
   "metadata": {},
   "outputs": [],
   "source": [
    "import re\n",
    "\n",
    "mo = re.compile(r'[A-Z][a-z]*\\sWatanabe')"
   ]
  },
  {
   "cell_type": "code",
   "execution_count": 95,
   "id": "fe7a4b52-9a47-4978-9852-11d12f610d16",
   "metadata": {},
   "outputs": [
    {
     "name": "stdout",
     "output_type": "stream",
     "text": [
      "Haruto Watanabe   ['Haruto Watanabe']\n",
      "Alice Watanabe   ['Alice Watanabe']\n",
      "RoboCop Watanabe   ['Cop Watanabe']\n",
      "haruto Watanabe   []\n",
      "Mr. Watanabe   []\n",
      "Watanabe   []\n",
      "Haruto watanabe   []\n"
     ]
    }
   ],
   "source": [
    "for i in str0:\n",
    "    print(i,\" \", mo.findall(i))   "
   ]
  },
  {
   "cell_type": "markdown",
   "id": "5bf318be-b78b-41ab-9dc8-d39c6a7cc669",
   "metadata": {},
   "source": [
    "## Q: 22. How would you write a regex that matches a sentence where the first word is either Alice, Bob, or Carol; the second word is either eats, pets, or throws; the third word is apples, cats, or baseballs; and the sentence ends with a period? This regex should be case-insensitive. It must match the following:\n",
    "\n",
    "&#39;Alice eats apples.&#39;\n",
    "\n",
    "&#39;Bob pets cats.&#39;\n",
    "\n",
    "&#39;Carol throws baseballs.&#39;\n",
    "\n",
    "&#39;Alice throws Apples.&#39;\n",
    "\n",
    "&#39;BOB EATS CATS.&#39;\n",
    "\n",
    "but not the following:\n",
    "\n",
    "&#39;RoboCop eats apples.&#39;\n",
    "\n",
    "&#39;ALICE THROWS FOOTBALLS.&#39;\n",
    "\n",
    "&#39;Carol eats 7 cats.&#39;"
   ]
  },
  {
   "cell_type": "code",
   "execution_count": 106,
   "id": "55c61d28-d2b1-41be-bced-25e2ed1c10e7",
   "metadata": {},
   "outputs": [],
   "source": [
    "str1 = ['Alice eats apples.', 'Bob pets cats.', 'Carol throws baseballs.', 'Alice throws Apples.', 'BOB EATS CATS.', 'RoboCop eats apples.', 'ALICE THROWS FOOTBALLS.', 'Carol eats 7 cats.']"
   ]
  },
  {
   "cell_type": "code",
   "execution_count": 107,
   "id": "148f8049-262d-4027-8d79-2ec736fbadd9",
   "metadata": {},
   "outputs": [
    {
     "data": {
      "text/plain": [
       "['Alice eats apples.',\n",
       " 'Bob pets cats.',\n",
       " 'Carol throws baseballs.',\n",
       " 'Alice throws Apples.',\n",
       " 'BOB EATS CATS.',\n",
       " 'RoboCop eats apples.',\n",
       " 'ALICE THROWS FOOTBALLS.',\n",
       " 'Carol eats 7 cats.']"
      ]
     },
     "execution_count": 107,
     "metadata": {},
     "output_type": "execute_result"
    }
   ],
   "source": [
    "str1"
   ]
  },
  {
   "cell_type": "code",
   "execution_count": 108,
   "id": "9971f57a-1dda-4314-9e57-2750334c09de",
   "metadata": {},
   "outputs": [],
   "source": [
    "import re"
   ]
  },
  {
   "cell_type": "code",
   "execution_count": 109,
   "id": "aaf6b292-dc3f-434d-bd0c-ea5c3d782d32",
   "metadata": {},
   "outputs": [],
   "source": [
    "mo = re.compile(r'(Alice|Bob|Carol)\\s(eats|pets|throws)\\s(apples|cats|baseballs)\\.', re.IGNORECASE)"
   ]
  },
  {
   "cell_type": "code",
   "execution_count": 110,
   "id": "bffe6fab-550e-4e10-8bfb-5bf645069093",
   "metadata": {},
   "outputs": [
    {
     "name": "stdout",
     "output_type": "stream",
     "text": [
      "Alice eats apples.  =>  [('Alice', 'eats', 'apples')]\n",
      "Bob pets cats.  =>  [('Bob', 'pets', 'cats')]\n",
      "Carol throws baseballs.  =>  [('Carol', 'throws', 'baseballs')]\n",
      "Alice throws Apples.  =>  [('Alice', 'throws', 'Apples')]\n",
      "BOB EATS CATS.  =>  [('BOB', 'EATS', 'CATS')]\n",
      "RoboCop eats apples.  =>  []\n",
      "ALICE THROWS FOOTBALLS.  =>  []\n",
      "Carol eats 7 cats.  =>  []\n"
     ]
    }
   ],
   "source": [
    "for i in str1:\n",
    "    print (i, ' => ', mo.findall(i))"
   ]
  },
  {
   "cell_type": "code",
   "execution_count": null,
   "id": "c6b0bcca-3e7b-4c0a-9bef-ff1e30a24a76",
   "metadata": {},
   "outputs": [],
   "source": []
  }
 ],
 "metadata": {
  "kernelspec": {
   "display_name": "Python 3 (ipykernel)",
   "language": "python",
   "name": "python3"
  },
  "language_info": {
   "codemirror_mode": {
    "name": "ipython",
    "version": 3
   },
   "file_extension": ".py",
   "mimetype": "text/x-python",
   "name": "python",
   "nbconvert_exporter": "python",
   "pygments_lexer": "ipython3",
   "version": "3.10.6"
  }
 },
 "nbformat": 4,
 "nbformat_minor": 5
}
