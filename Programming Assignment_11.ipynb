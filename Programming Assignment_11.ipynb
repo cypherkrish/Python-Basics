{
 "cells": [
  {
   "cell_type": "markdown",
   "id": "9240f2aa-fafb-4e93-9598-1d376bbacaf3",
   "metadata": {},
   "source": [
    "## 1. Write a Python program to find words which are greater than given length k?"
   ]
  },
  {
   "cell_type": "code",
   "execution_count": 7,
   "id": "74b3afba-a80e-47d9-bca3-b7c83b1b4644",
   "metadata": {},
   "outputs": [
    {
     "name": "stdin",
     "output_type": "stream",
     "text": [
      "Enter words seperated by space:  sds sdff  dfhgg 454 bfghg fghhjhgjghjg fhff hjhj   fgghfg\n",
      "Length:  5\n"
     ]
    },
    {
     "name": "stdout",
     "output_type": "stream",
     "text": [
      "\n",
      "Words which are greater than given length 5\n",
      "\n",
      "fghhjhgjghjg\n",
      "fgghfg\n"
     ]
    }
   ],
   "source": [
    "try:\n",
    "    words = input('Enter words seperated by space: ').split(' ')\n",
    "    length = int(input('Length: '))\n",
    "    \n",
    "\n",
    "    print(f'\\n\\rWords which are greater than given length {length}\\n')\n",
    "    \n",
    "    for i in words:\n",
    "        if len(i) > length:\n",
    "            print(i)\n",
    "    \n",
    "except Exception as e:\n",
    "    print(\"Error: \",e)"
   ]
  },
  {
   "cell_type": "markdown",
   "id": "bbe2cf03-3a44-4b35-bed4-32a13a1827cc",
   "metadata": {},
   "source": [
    "## 2. Write a Python program for removing i-th character from a string?"
   ]
  },
  {
   "cell_type": "code",
   "execution_count": 14,
   "id": "e0c60805-ce5d-44ef-9a79-eddf77c1d644",
   "metadata": {},
   "outputs": [
    {
     "name": "stdin",
     "output_type": "stream",
     "text": [
      "Enter words seperated by space:  abcdefghigsfd fs\n",
      "character number to remove:  5\n"
     ]
    },
    {
     "name": "stdout",
     "output_type": "stream",
     "text": [
      "abcdfghigsfd fs\n"
     ]
    }
   ],
   "source": [
    "try:\n",
    "    string = input('Enter words seperated by space: ')\n",
    "    characterN = int(input('character number to remove: '))\n",
    "    \n",
    "    print(string.replace(string[characterN-1], ''))\n",
    "    \n",
    "except Exception as e:\n",
    "    print(\"Error: \",e)"
   ]
  },
  {
   "cell_type": "markdown",
   "id": "63ce2386-cb82-44ad-8de0-45b9f06ebd48",
   "metadata": {},
   "source": [
    "## 3. Write a Python program to split and join a string?"
   ]
  },
  {
   "cell_type": "code",
   "execution_count": 20,
   "id": "0259d182-70c3-4ca0-b68a-68adab5be278",
   "metadata": {},
   "outputs": [
    {
     "name": "stdin",
     "output_type": "stream",
     "text": [
      "String:  asfs dfg g fhfh g jghj\n"
     ]
    },
    {
     "name": "stdout",
     "output_type": "stream",
     "text": [
      "\n",
      "String split:  ['asfs', 'dfg', 'g', 'fhfh', 'g', 'jghj']\n",
      "\n",
      "String join:  asfs dfg g fhfh g jghj\n"
     ]
    }
   ],
   "source": [
    "try:\n",
    "    string = input('String: ')\n",
    "    \n",
    "    strSplit = string.split(' ')\n",
    "    print('\\nString split: ', strSplit)\n",
    "    \n",
    "    joinString = ' '.join(strSplit)\n",
    "    print('\\nString join: ', joinString)\n",
    "    \n",
    "except Exception as e:\n",
    "    print('Error: ', e)"
   ]
  },
  {
   "cell_type": "markdown",
   "id": "6a3140b4-a39a-4cd0-8024-cdfd36808184",
   "metadata": {},
   "source": [
    "## 4. Write a Python to check if a given string is binary string or not?"
   ]
  },
  {
   "cell_type": "code",
   "execution_count": 47,
   "id": "9b2ed908-d1ea-46ce-9206-1965eef09e4c",
   "metadata": {},
   "outputs": [
    {
     "name": "stdin",
     "output_type": "stream",
     "text": [
      "String:  101010122\n"
     ]
    },
    {
     "name": "stdout",
     "output_type": "stream",
     "text": [
      "Not a binary string\n"
     ]
    }
   ],
   "source": [
    "try:\n",
    "    string = input('String: ')\n",
    "    binary = True\n",
    "    for i in string:\n",
    "        if i not in {'0','1'}:\n",
    "            binary = False\n",
    "            break\n",
    "    \n",
    "    \n",
    "    if binary:\n",
    "        print(\"This is a binary string\")\n",
    "    else:\n",
    "        print(\"Not a binary string\")\n",
    "        \n",
    "except Exception as e:\n",
    "    print('Error: ', e)"
   ]
  },
  {
   "cell_type": "markdown",
   "id": "73de8067-9860-4e1b-bdeb-562a4ea38a1a",
   "metadata": {},
   "source": [
    "## 5. Write a Python program to find uncommon words from two Strings?"
   ]
  },
  {
   "cell_type": "code",
   "execution_count": 37,
   "id": "431b9de6-4e6e-4952-986d-f79b288677df",
   "metadata": {},
   "outputs": [
    {
     "name": "stdin",
     "output_type": "stream",
     "text": [
      "String 1:  787878 96969 32323 4545\n",
      "String 2:  4545 159 12222 96969 355\n"
     ]
    },
    {
     "name": "stdout",
     "output_type": "stream",
     "text": [
      "\n",
      "\n",
      "Uncommon words:  159 32323 12222 355 787878\n"
     ]
    }
   ],
   "source": [
    "str1 = input(\"String 1: \").split(' ')\n",
    "str2 = input(\"String 2: \").split(' ')\n",
    "\n",
    "\n",
    "str3 = set()\n",
    "\n",
    "for i in str1:\n",
    "    if i not in str2:\n",
    "        str3.add(i)\n",
    "\n",
    "for j in str2:\n",
    "    if j not in str1:\n",
    "        str3.add(j)\n",
    "        \n",
    "print('\\n\\nUncommon words: ', ' '.join(str3))"
   ]
  },
  {
   "cell_type": "markdown",
   "id": "f4111012-b375-4d29-83f0-880f8b3f4284",
   "metadata": {},
   "source": [
    "## 6. Write a Python to find all duplicate characters in string?"
   ]
  },
  {
   "cell_type": "code",
   "execution_count": 45,
   "id": "8f0117ca-6ffe-4fd6-8bc4-1e471b3b8168",
   "metadata": {},
   "outputs": [
    {
     "name": "stdin",
     "output_type": "stream",
     "text": [
      "String:  krishna murthy asdimulam vernakta\n"
     ]
    },
    {
     "name": "stdout",
     "output_type": "stream",
     "text": [
      "k  occurs :  2  times\n",
      "r  occurs :  3  times\n",
      "i  occurs :  2  times\n",
      "s  occurs :  2  times\n",
      "h  occurs :  2  times\n",
      "n  occurs :  2  times\n",
      "a  occurs :  5  times\n",
      "   occurs :  3  times\n",
      "m  occurs :  3  times\n",
      "u  occurs :  2  times\n",
      "t  occurs :  2  times\n"
     ]
    }
   ],
   "source": [
    "import collections\n",
    "\n",
    "string = input('String: ')\n",
    "\n",
    "dct = collections.Counter(string)\n",
    "\n",
    "for i in dct:\n",
    "    if dct[i] > 1 and dct[i] != ' ':  \n",
    "        print( i, ' occurs : ', dct[i], ' times')\n"
   ]
  },
  {
   "cell_type": "markdown",
   "id": "8acff69d-69f7-420c-8d68-bcd8efa14bbd",
   "metadata": {},
   "source": [
    "## 7. Write a Python Program to check if a string contains any special character?"
   ]
  },
  {
   "cell_type": "code",
   "execution_count": 69,
   "id": "210dc23b-69c6-46a1-be73-82cfd869f09d",
   "metadata": {},
   "outputs": [
    {
     "name": "stdin",
     "output_type": "stream",
     "text": [
      "Ente name:  sdf d   9( sdfs sdf  s[ ]\n"
     ]
    },
    {
     "name": "stdout",
     "output_type": "stream",
     "text": [
      "The string has special characters\n"
     ]
    }
   ],
   "source": [
    "\n",
    "string = str(input(\"Ente name: \"))\n",
    "\n",
    "specialChars = '@_!$%^&*()\\'<>?/\\|}{~:'\n",
    "special = 0\n",
    "\n",
    "for i in string:\n",
    "    for j in specialChars:\n",
    "        if j == i:\n",
    "            special = 1\n",
    "            break\n",
    "\n",
    "if special == 0:\n",
    "    print('The string has NO special characters')\n",
    "\n",
    "if special == 1:\n",
    "    print('The string has special characters')\n",
    "\n",
    "    "
   ]
  },
  {
   "cell_type": "code",
   "execution_count": null,
   "id": "66cc2482-32d5-42a5-a735-027eeee120d1",
   "metadata": {},
   "outputs": [],
   "source": []
  }
 ],
 "metadata": {
  "kernelspec": {
   "display_name": "Python 3 (ipykernel)",
   "language": "python",
   "name": "python3"
  },
  "language_info": {
   "codemirror_mode": {
    "name": "ipython",
    "version": 3
   },
   "file_extension": ".py",
   "mimetype": "text/x-python",
   "name": "python",
   "nbconvert_exporter": "python",
   "pygments_lexer": "ipython3",
   "version": "3.10.6"
  }
 },
 "nbformat": 4,
 "nbformat_minor": 5
}
