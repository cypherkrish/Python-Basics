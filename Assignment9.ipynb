{
 "cells": [
  {
   "cell_type": "markdown",
   "id": "0b02fcbe-cd1f-483d-adfd-f5512fcea5b5",
   "metadata": {},
   "source": [
    "## Q: 1. To what does a relative path refer?"
   ]
  },
  {
   "cell_type": "markdown",
   "id": "6f67a619-9fbb-4409-97db-1120962c902a",
   "metadata": {},
   "source": [
    "Alternatively referred to as a partial path or non-absolute path, a relative path is a URL that only contains a portion of the full path. Its complete location is based on its relation to the directory where it is linking."
   ]
  },
  {
   "cell_type": "markdown",
   "id": "69c02325-46ee-4b44-aebd-5f62c037865c",
   "metadata": {},
   "source": [
    "## Q: 2. What does an absolute path start with your operating system?"
   ]
  },
  {
   "cell_type": "markdown",
   "id": "a5defd28-575b-419f-a6fb-a3c3031a23a8",
   "metadata": {},
   "source": [
    "An absolute path is defined as the specifying the location of a file or directory from the root directory(/). In other words we can say absolute path is a complete path from start of actual filesystem from / directory."
   ]
  },
  {
   "cell_type": "markdown",
   "id": "52db2d25-b3ed-4de8-bce0-197bfa1ca888",
   "metadata": {},
   "source": [
    "## Q: 3. What do the functions os.getcwd() and os.chdir() do?\n"
   ]
  },
  {
   "cell_type": "markdown",
   "id": "f8466173-c61a-4104-8c04-0b647bf2dfd7",
   "metadata": {},
   "source": [
    "### Ans:\n",
    "\n",
    "os.getcwd() => This method returns a string which represents the current working directory.\n",
    "\n",
    "os.chdir() or os.chdir(path) => Python method chdir() changes the current working directory to the given path.It returns None in all the cases\n"
   ]
  },
  {
   "cell_type": "markdown",
   "id": "647c5096-fa96-460c-9ae3-55e84641e28e",
   "metadata": {},
   "source": [
    "## Q: 4. What are the . and .. folders?"
   ]
  },
  {
   "cell_type": "markdown",
   "id": "549ce0fd-840e-440e-a73b-05c323c76eba",
   "metadata": {},
   "source": [
    "#### Ans:\n",
    "The . folder is the current folder, and .. is the parent folder.\n",
    "\n"
   ]
  },
  {
   "cell_type": "markdown",
   "id": "67c5d5ba-33c9-4f74-b15a-30e94582645e",
   "metadata": {},
   "source": [
    "## Q: 5. In C:\\bacon\\eggs\\spam.txt, which part is the dir name, and which part is the base name?"
   ]
  },
  {
   "cell_type": "markdown",
   "id": "fd6e1d2c-2d3c-4310-8e2c-3a009e3a4f36",
   "metadata": {},
   "source": [
    "#### ANs: \n",
    "C:\\bacon\\eggs is the dir name,\n",
    "\n",
    "and spam.txt is the base name."
   ]
  },
  {
   "cell_type": "markdown",
   "id": "927482c2-6e9c-422f-bdfe-9881dfb96938",
   "metadata": {},
   "source": [
    "## Q: 6. What are the three “mode” arguments that can be passed to the open() function?"
   ]
  },
  {
   "cell_type": "markdown",
   "id": "2e9271dd-7abb-40a1-af65-cffaa0bccc03",
   "metadata": {},
   "source": [
    "#### Ans: \n",
    "\n",
    "'r' for read mode, \n",
    "\n",
    "'w' for write mode, and \n",
    "\n",
    "'a' for append mode"
   ]
  },
  {
   "cell_type": "markdown",
   "id": "119d0a9d-df8f-4f4b-8775-4da8b9f34978",
   "metadata": {},
   "source": [
    "#### Q: 7. What happens if an existing file is opened in write mode?"
   ]
  },
  {
   "cell_type": "markdown",
   "id": "aa3e5bb5-2c8c-4ded-afca-bc3171da4f54",
   "metadata": {},
   "source": [
    "#### Ans: \n",
    "The operatio overwrites the content of the file opened."
   ]
  },
  {
   "cell_type": "markdown",
   "id": "e4a0429d-50d9-487b-9651-f1995eb0a20c",
   "metadata": {},
   "source": [
    "## Q: 8. How do you tell the difference between read() and readlines()?"
   ]
  },
  {
   "cell_type": "markdown",
   "id": "bf7605a4-c93a-46b5-a0e3-e2416ef4fc5a",
   "metadata": {},
   "source": [
    "#### Ans:\n",
    "\n",
    "The read() method returns the file's entire contents as a single string value.\n",
    "\n",
    "The readlines() method returns a list of strings, where each string is a line from the file's contents."
   ]
  },
  {
   "cell_type": "markdown",
   "id": "37013d95-34fe-4fda-9789-fa0e28b58479",
   "metadata": {},
   "source": [
    "## Q: 9. What data structure does a shelf value resemble?\n"
   ]
  },
  {
   "cell_type": "markdown",
   "id": "ce74876f-be6d-4230-a09f-64e12a065d23",
   "metadata": {},
   "source": [
    "A shelf value resembles a dictionary value; it has keys and values, along with keys() and values() methods that work similarly to the dictionary methods of the same names."
   ]
  },
  {
   "cell_type": "code",
   "execution_count": null,
   "id": "439e1392-81b6-4aff-bacd-1eda42a57747",
   "metadata": {},
   "outputs": [],
   "source": []
  }
 ],
 "metadata": {
  "kernelspec": {
   "display_name": "Python 3 (ipykernel)",
   "language": "python",
   "name": "python3"
  },
  "language_info": {
   "codemirror_mode": {
    "name": "ipython",
    "version": 3
   },
   "file_extension": ".py",
   "mimetype": "text/x-python",
   "name": "python",
   "nbconvert_exporter": "python",
   "pygments_lexer": "ipython3",
   "version": "3.10.6"
  }
 },
 "nbformat": 4,
 "nbformat_minor": 5
}
