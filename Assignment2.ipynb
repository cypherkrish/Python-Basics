{
 "cells": [
  {
   "cell_type": "markdown",
   "id": "2eb6a79f-e4fd-4a50-b9ca-3d11216de400",
   "metadata": {},
   "source": [
    "## Q: 1.What are the two values of the Boolean data type? How do you write them?"
   ]
  },
  {
   "cell_type": "markdown",
   "id": "036288c3-6868-4965-91d3-8154bb0f9fa0",
   "metadata": {},
   "source": [
    "### ANSWER: True and False are the two values of boolean data type\n",
    "\n",
    "value1 = True\n",
    "\n",
    "Value2 = False\n",
    "\n",
    "we can print them as below\n",
    "\n"
   ]
  },
  {
   "cell_type": "code",
   "execution_count": 1,
   "id": "76c1d69c-10ba-4956-8dfb-da9491f6ad4d",
   "metadata": {},
   "outputs": [
    {
     "name": "stdout",
     "output_type": "stream",
     "text": [
      "True\n"
     ]
    }
   ],
   "source": [
    "print(True)"
   ]
  },
  {
   "cell_type": "code",
   "execution_count": 2,
   "id": "3f300661-0328-40f4-81f8-69914c7b1cc6",
   "metadata": {},
   "outputs": [
    {
     "name": "stdout",
     "output_type": "stream",
     "text": [
      "False\n"
     ]
    }
   ],
   "source": [
    "print(False)"
   ]
  },
  {
   "cell_type": "markdown",
   "id": "15c1f3d6-61ee-4159-aa55-7259da50ebc1",
   "metadata": {},
   "source": [
    "### Q: 3. Make a list of each Boolean operator&#39;s truth tables (i.e. every possible combination of Boolean values for the operator and what it evaluate )."
   ]
  },
  {
   "cell_type": "markdown",
   "id": "bfb72c65-0a7b-41b2-a7cf-aa88d5089422",
   "metadata": {},
   "source": [
    "#### Boolean operatiors\n",
    "or\n",
    "\n",
    "and\n",
    "\n",
    "not\n",
    "\n",
    "== (equivalent)\n",
    "\n",
    "!= (not equivalent)"
   ]
  },
  {
   "cell_type": "code",
   "execution_count": 4,
   "id": "d0af35e5-f485-4264-b01d-03a904e66a0b",
   "metadata": {},
   "outputs": [
    {
     "name": "stdout",
     "output_type": "stream",
     "text": [
      "Truth table for OR bool operator: \n",
      "True  or  True  =  True\n",
      "True  or  False  =  True\n",
      "False  or  True  =  True\n",
      "False  or  False  =  False\n"
     ]
    }
   ],
   "source": [
    "print('Truth table for OR bool operator: ')\n",
    "print (True,' or ', True,' = ', True or True)\n",
    "print (True,' or ', False,' = ', True or False)\n",
    "print (False,' or ', True,' = ', False or True)\n",
    "print (False,' or ', False,' = ', False or False)"
   ]
  },
  {
   "cell_type": "code",
   "execution_count": 11,
   "id": "dbf2dc55-3923-4cac-9fa8-122d6f132078",
   "metadata": {},
   "outputs": [
    {
     "name": "stdout",
     "output_type": "stream",
     "text": [
      "Truth table for AND bool operator: \n",
      "True  and  True  =  True\n",
      "True  and  False  =  False\n",
      "False  and  True  =  False\n",
      "False  and  False  =  False\n"
     ]
    }
   ],
   "source": [
    "print('Truth table for AND bool operator: ')\n",
    "print (True,' and ', True,' = ', True and True)\n",
    "print (True,' and ', False,' = ', True and False)\n",
    "print (False,' and ', True,' = ', False and True)\n",
    "print (False,' and ', False,' = ', False and False)"
   ]
  },
  {
   "cell_type": "code",
   "execution_count": 15,
   "id": "4ea8ac0a-ae92-4be9-9e64-ad064f10ce68",
   "metadata": {},
   "outputs": [
    {
     "name": "stdout",
     "output_type": "stream",
     "text": [
      "Truth table for Not bool operator: \n",
      "not True  =  False\n",
      "not False  =  True\n"
     ]
    }
   ],
   "source": [
    "print('Truth table for Not bool operator: ')\n",
    "print('not', True, ' = ', not True)\n",
    "print('not', False, ' = ', not False)"
   ]
  },
  {
   "cell_type": "code",
   "execution_count": 5,
   "id": "0f3dfd79-cd92-42e8-835a-702bf475c78f",
   "metadata": {},
   "outputs": [
    {
     "name": "stdout",
     "output_type": "stream",
     "text": [
      "Truth table for == operator: \n",
      "True\n",
      "False\n"
     ]
    }
   ],
   "source": [
    "print('Truth table for == operator: ')\n",
    "print('a' == 'a')\n",
    "print('a' == 'b')"
   ]
  },
  {
   "cell_type": "code",
   "execution_count": 6,
   "id": "d17c5ea8-1636-491c-b3ea-18e62860e1f5",
   "metadata": {},
   "outputs": [
    {
     "name": "stdout",
     "output_type": "stream",
     "text": [
      "Truth table for != operator: \n",
      "False\n",
      "True\n"
     ]
    }
   ],
   "source": [
    "print('Truth table for != operator: ')\n",
    "print('a' != 'a')\n",
    "print('a' != 'b')"
   ]
  },
  {
   "cell_type": "markdown",
   "id": "89232749-e8fe-42ab-a1d9-ab386b29db80",
   "metadata": {},
   "source": [
    "### Q: 4. What are the values of the following expressions?"
   ]
  },
  {
   "cell_type": "code",
   "execution_count": 8,
   "id": "7ff8400d-1b4a-4241-872a-c74e31023f7d",
   "metadata": {},
   "outputs": [
    {
     "data": {
      "text/plain": [
       "False"
      ]
     },
     "execution_count": 8,
     "metadata": {},
     "output_type": "execute_result"
    }
   ],
   "source": [
    "(5 > 4) and (3 == 5)"
   ]
  },
  {
   "cell_type": "code",
   "execution_count": 10,
   "id": "1ac47fed-cc91-4e7d-add7-9e264a4dc624",
   "metadata": {},
   "outputs": [
    {
     "data": {
      "text/plain": [
       "False"
      ]
     },
     "execution_count": 10,
     "metadata": {},
     "output_type": "execute_result"
    }
   ],
   "source": [
    "not (5 > 4)"
   ]
  },
  {
   "cell_type": "code",
   "execution_count": 11,
   "id": "9ec75d23-dd57-49c0-a27e-5cf54ff3203a",
   "metadata": {},
   "outputs": [
    {
     "data": {
      "text/plain": [
       "True"
      ]
     },
     "execution_count": 11,
     "metadata": {},
     "output_type": "execute_result"
    }
   ],
   "source": [
    "(5 > 4) or (3 == 5)"
   ]
  },
  {
   "cell_type": "code",
   "execution_count": 12,
   "id": "a9e56a61-f9aa-4d26-a32e-c28a511427ed",
   "metadata": {},
   "outputs": [
    {
     "data": {
      "text/plain": [
       "False"
      ]
     },
     "execution_count": 12,
     "metadata": {},
     "output_type": "execute_result"
    }
   ],
   "source": [
    "not((5 > 4) or (3 == 5))"
   ]
  },
  {
   "cell_type": "code",
   "execution_count": 13,
   "id": "69f36f5f-9914-484f-b388-bc6e8134bf76",
   "metadata": {},
   "outputs": [
    {
     "data": {
      "text/plain": [
       "False"
      ]
     },
     "execution_count": 13,
     "metadata": {},
     "output_type": "execute_result"
    }
   ],
   "source": [
    "(True and True) and (True == False)"
   ]
  },
  {
   "cell_type": "code",
   "execution_count": 14,
   "id": "7ab7ffcf-6aff-48d8-b75d-258e75c16115",
   "metadata": {},
   "outputs": [
    {
     "data": {
      "text/plain": [
       "True"
      ]
     },
     "execution_count": 14,
     "metadata": {},
     "output_type": "execute_result"
    }
   ],
   "source": [
    "(not False) or (not True)"
   ]
  },
  {
   "cell_type": "markdown",
   "id": "bf233ee5-eb2a-48b0-8afa-34aba76e0e79",
   "metadata": {},
   "source": [
    "### Q: 5. What are the six comparison operators?"
   ]
  },
  {
   "cell_type": "markdown",
   "id": "b1f996b7-b106-405f-b970-ed548a6ccda4",
   "metadata": {},
   "source": [
    "### Answer:\n",
    "##### Less than ( < )\n",
    "##### Less than or equal to (<=)\n",
    "##### Greater than (>)\n",
    "##### Greater than or equal to (>=)\n",
    "##### Equal to ( == )\n",
    "##### Not equal to ( != )"
   ]
  },
  {
   "cell_type": "markdown",
   "id": "5b6b611c-c526-49d1-a014-b98acbea71ac",
   "metadata": {},
   "source": [
    "### Q:  6. How do you tell the difference between the equal to and assignment operators?Describe a condition and when you would use one.\n",
    "\n",
    "### Answer:\n",
    "\n",
    "##### = AND == are the operators."
   ]
  },
  {
   "cell_type": "markdown",
   "id": "e87f7a06-143a-4c97-a1fe-02e8f3c13505",
   "metadata": {},
   "source": [
    "##### = is the assignement operator\n",
    "\n",
    "######  This will be used to assign a value to a variable,\n",
    "###### Ex: \n",
    "###### a = 20\n",
    "###### pi = 3.14\n",
    "###### ch = 'krishna'\n",
    "###### c =  4 + j6\n",
    "\n",
    "\n",
    "##### == is the equal to operator\n",
    "######  This will be used to compare two calues or variables and returnes a boolean value in return (either True or False as the result)\n",
    "###### Ex: \n",
    "###### a == a => Give True\n",
    "###### a == c => Give False\n",
    "###### 'krishna' == 'krishna' => Gives True\n",
    "###### 'krishna' == 'Venkat' => Gives False\n"
   ]
  },
  {
   "cell_type": "code",
   "execution_count": 16,
   "id": "41a07da8-494a-4a6b-87fc-d5e9fc1744cc",
   "metadata": {},
   "outputs": [
    {
     "name": "stdout",
     "output_type": "stream",
     "text": [
      "ham\n",
      "spam\n",
      "spam\n"
     ]
    }
   ],
   "source": [
    "# 7. Identify the three blocks in this code:\n",
    "spam = 0\n",
    "if spam == 10:\n",
    "    print(\"eggs\") # Blok 1\n",
    "if spam > 5:\n",
    "    print(\"bacon\") # Block 2\n",
    "else:\n",
    "    print(\"ham\") # Block 3\n",
    "print(\"spam\")\n",
    "print(\"spam\")"
   ]
  },
  {
   "cell_type": "markdown",
   "id": "1832cc1a-0451-4913-a709-4a28581d3bb6",
   "metadata": {},
   "source": [
    "## Q: 8. Write code that prints Hello if 1 is stored in spam, prints Howdy if 2 is stored in spam, and prints Greetings! if anything else is stored in spam."
   ]
  },
  {
   "cell_type": "code",
   "execution_count": 21,
   "id": "820911f7-947d-4827-b0a6-6186ab14ba88",
   "metadata": {},
   "outputs": [
    {
     "name": "stdin",
     "output_type": "stream",
     "text": [
      " 23\n"
     ]
    },
    {
     "name": "stdout",
     "output_type": "stream",
     "text": [
      "Greetings!\n"
     ]
    }
   ],
   "source": [
    "spam = input()\n",
    "\n",
    "if spam == 1:\n",
    "    print('Hello')\n",
    "elif spam == 2:\n",
    "    print('Howdy')\n",
    "else:\n",
    "    print('Greetings!')"
   ]
  },
  {
   "cell_type": "markdown",
   "id": "2da383c2-7792-46ae-8c43-2d70473fa901",
   "metadata": {},
   "source": [
    "## Q: 9.If your programme is stuck in an endless loop, what keys you’ll press?"
   ]
  },
  {
   "cell_type": "markdown",
   "id": "5e415606-eb21-4d41-b6db-8c5b831b7909",
   "metadata": {},
   "source": [
    "#### CTRL + C "
   ]
  },
  {
   "cell_type": "markdown",
   "id": "fd145fef-20d0-4cf9-a002-5b0b1e0b98ac",
   "metadata": {},
   "source": [
    "## Q: 10. How can you tell the difference between break and continue?"
   ]
  },
  {
   "cell_type": "markdown",
   "id": "89a69d2d-3850-4cc2-9026-3eab302aa7dc",
   "metadata": {},
   "source": [
    "\n",
    "The main difference between both the statements is that when break keyword comes, it terminates the execution of the current loop and passes the control over the next loop or main body, whereas when continue keyword is encountered, it skips the current iteration and executes the very next iteration in the loop."
   ]
  },
  {
   "cell_type": "markdown",
   "id": "4663be05-9666-4190-8c39-41f8d493c094",
   "metadata": {},
   "source": [
    "## q:  11. In a for loop, what is the difference between range(10), range(0, 10), and range(0, 10, 1)?"
   ]
  },
  {
   "cell_type": "markdown",
   "id": "97889173-ebe0-4f6e-8c59-fa707a15c2b3",
   "metadata": {},
   "source": [
    "range(10), \n",
    "range(0, 10) , \n",
    "range(0, 10 ,1)\n",
    "\n",
    "In a loop all these three statements are same."
   ]
  },
  {
   "cell_type": "markdown",
   "id": "1ba9a4b0-2f70-417f-8517-23d5a5369005",
   "metadata": {},
   "source": [
    "## Q: 12. Write a short program that prints the numbers 1 to 10 using a for loop. Then write an equivalent program that prints the numbers 1 to 10 using a while loop."
   ]
  },
  {
   "cell_type": "code",
   "execution_count": 27,
   "id": "d25d358a-1742-4a7d-a101-fe2479d9b138",
   "metadata": {},
   "outputs": [
    {
     "name": "stdout",
     "output_type": "stream",
     "text": [
      "1\n",
      "2\n",
      "3\n",
      "4\n",
      "5\n",
      "6\n",
      "7\n",
      "8\n",
      "9\n",
      "10\n"
     ]
    }
   ],
   "source": [
    "# using for loop\n",
    "for i in range(10):\n",
    "    print(i+1)"
   ]
  },
  {
   "cell_type": "code",
   "execution_count": 30,
   "id": "aa63d5c3-b575-4852-a77e-da2e7513f990",
   "metadata": {},
   "outputs": [
    {
     "name": "stdout",
     "output_type": "stream",
     "text": [
      "1\n",
      "2\n",
      "3\n",
      "4\n",
      "5\n",
      "6\n",
      "7\n",
      "8\n",
      "9\n",
      "10\n"
     ]
    }
   ],
   "source": [
    "# Using while loop:\n",
    "i = 0\n",
    "while i < 10:\n",
    "    print(i + 1)\n",
    "    i += 1"
   ]
  },
  {
   "cell_type": "markdown",
   "id": "c66a3464-fc00-4362-9e3a-1a3f10f8b045",
   "metadata": {},
   "source": [
    "## Q: 13. If you had a function named bacon() inside a module named spam, how would you call it after importing spam?"
   ]
  },
  {
   "cell_type": "markdown",
   "id": "89767410-6a47-42f9-bff8-257459c83006",
   "metadata": {},
   "source": [
    "#### import spam as sp\n",
    "\n",
    "#### sp.bacon()"
   ]
  },
  {
   "cell_type": "code",
   "execution_count": null,
   "id": "6c9611b6-0608-46d5-ad1b-83eb8f916bfb",
   "metadata": {},
   "outputs": [],
   "source": []
  }
 ],
 "metadata": {
  "kernelspec": {
   "display_name": "Python 3 (ipykernel)",
   "language": "python",
   "name": "python3"
  },
  "language_info": {
   "codemirror_mode": {
    "name": "ipython",
    "version": 3
   },
   "file_extension": ".py",
   "mimetype": "text/x-python",
   "name": "python",
   "nbconvert_exporter": "python",
   "pygments_lexer": "ipython3",
   "version": "3.10.6"
  }
 },
 "nbformat": 4,
 "nbformat_minor": 5
}
