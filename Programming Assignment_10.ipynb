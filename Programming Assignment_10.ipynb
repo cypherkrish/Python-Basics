{
 "cells": [
  {
   "cell_type": "markdown",
   "id": "1d289628-1678-42f7-876d-d41aa25f8761",
   "metadata": {},
   "source": [
    "## 1. Write a Python program to find sum of elements in list?"
   ]
  },
  {
   "cell_type": "code",
   "execution_count": 7,
   "id": "7c8d2df2-546c-4d36-a4eb-f6113d7e5388",
   "metadata": {},
   "outputs": [
    {
     "name": "stdin",
     "output_type": "stream",
     "text": [
      "No.of elements in the list:  53sdf\n"
     ]
    },
    {
     "name": "stdout",
     "output_type": "stream",
     "text": [
      "Error:  invalid literal for int() with base 10: '53sdf'\n"
     ]
    }
   ],
   "source": [
    "try:\n",
    "    ipnumber = int(input(\"No.of elements in the list: \"))\n",
    "    lst = []\n",
    "    listsum = 0\n",
    "    \n",
    "    for i in range(ipnumber):\n",
    "        lst.append(int(input(f'{i+1} th element: ')))\n",
    "\n",
    "    for j in lst:\n",
    "        listsum = listsum + j\n",
    "\n",
    "    print(f'\\nGiven list: {lst}')\n",
    "    print(f'\\n\\rSum of elements in list: {listsum}')\n",
    "    \n",
    "except Exception as e:\n",
    "    print('Error: ', e)"
   ]
  },
  {
   "cell_type": "markdown",
   "id": "de58df5e-8189-444a-b9eb-44ebea8c4c35",
   "metadata": {},
   "source": [
    "## 2. Write a Python program to Multiply all numbers in the list?"
   ]
  },
  {
   "cell_type": "code",
   "execution_count": 14,
   "id": "540697eb-50be-488e-bbf1-b6e19159b2ec",
   "metadata": {},
   "outputs": [
    {
     "name": "stdin",
     "output_type": "stream",
     "text": [
      "No.of elements in the list:  1\n",
      "1 th element:  2\n"
     ]
    },
    {
     "name": "stdout",
     "output_type": "stream",
     "text": [
      "\n",
      "Given list: [2]\n",
      "\n",
      "Multiplied value of all the elements in list: 2\n"
     ]
    }
   ],
   "source": [
    "try:\n",
    "    ipnumber = int(input(\"No.of elements in the list: \"))\n",
    "    lst = []\n",
    "    mult = 1\n",
    "    \n",
    "    for i in range(ipnumber):\n",
    "        lst.append(int(input(f'{i+1} th element: ')))\n",
    "\n",
    "    for j in lst:\n",
    "        mult = mult * j\n",
    "\n",
    "    print(f'\\nGiven list: {lst}')\n",
    "    print(f'\\n\\rMultiplied value of all the elements in list: {mult}')\n",
    "    \n",
    "except Exception as e:\n",
    "    print('Error: ', e)"
   ]
  },
  {
   "cell_type": "markdown",
   "id": "73b01186-cf6a-47f6-98b6-0d75ec7b7cd8",
   "metadata": {},
   "source": [
    "## 3. Write a Python program to find smallest number in a list?"
   ]
  },
  {
   "cell_type": "code",
   "execution_count": 16,
   "id": "bd893ffd-be5a-43f6-8b16-ccd59e7683fe",
   "metadata": {},
   "outputs": [
    {
     "name": "stdin",
     "output_type": "stream",
     "text": [
      "No.of elements in the list:  10\n",
      "1 th element:  78\n",
      "2 th element:  256\n",
      "3 th element:  98\n",
      "4 th element:  21\n",
      "5 th element:  48\n",
      "6 th element:  65\n",
      "7 th element:  88\n",
      "8 th element:  123\n",
      "9 th element:  55\n",
      "10 th element:  5565\n"
     ]
    },
    {
     "name": "stdout",
     "output_type": "stream",
     "text": [
      "\n",
      "Given list: [78, 256, 98, 21, 48, 65, 88, 123, 55, 5565]\n",
      "\n",
      "Smallest number in the list: 21\n"
     ]
    }
   ],
   "source": [
    "try:\n",
    "    ipnumber = int(input(\"No.of elements in the list: \"))\n",
    "    lst = []\n",
    "    \n",
    "    \n",
    "    for i in range(ipnumber):\n",
    "        lst.append(int(input(f'{i+1} th element: ')))\n",
    "\n",
    "    smallest = lst[0]\n",
    "    for j in lst:\n",
    "        if j < smallest:\n",
    "            smallest = j\n",
    "\n",
    "    print(f'\\nGiven list: {lst}')\n",
    "    print(f'\\n\\rSmallest number in the list: {smallest}')\n",
    "    \n",
    "except Exception as e:\n",
    "    print('Error: ', e)"
   ]
  },
  {
   "cell_type": "markdown",
   "id": "031b1e70-7f7f-4f29-a24d-02abd9e1b5cb",
   "metadata": {},
   "source": [
    "## 4. Write a Python program to find largest number in a list?"
   ]
  },
  {
   "cell_type": "code",
   "execution_count": 17,
   "id": "db9adb79-a5e6-4547-a515-d0dae22f7947",
   "metadata": {},
   "outputs": [
    {
     "name": "stdin",
     "output_type": "stream",
     "text": [
      "No.of elements in the list:  5\n",
      "1 th element:  9\n",
      "2 th element:  84\n",
      "3 th element:  256\n",
      "4 th element:  122\n",
      "5 th element:  125\n"
     ]
    },
    {
     "name": "stdout",
     "output_type": "stream",
     "text": [
      "\n",
      "Given list: [9, 84, 256, 122, 125]\n",
      "\n",
      "Largest number in the list: 256\n"
     ]
    }
   ],
   "source": [
    "try:\n",
    "    ipnumber = int(input(\"No.of elements in the list: \"))\n",
    "    lst = []\n",
    "    \n",
    "    \n",
    "    for i in range(ipnumber):\n",
    "        lst.append(int(input(f'{i+1} th element: ')))\n",
    "\n",
    "    largest = lst[0]\n",
    "    for j in lst:\n",
    "        if j > largest:\n",
    "            largest = j\n",
    "\n",
    "    print(f'\\nGiven list: {lst}')\n",
    "    print(f'\\n\\rLargest number in the list: {largest}')\n",
    "    \n",
    "except Exception as e:\n",
    "    print('Error: ', e)"
   ]
  },
  {
   "cell_type": "markdown",
   "id": "6b0ee262-5e41-48f1-8c8e-1684f7fc8523",
   "metadata": {},
   "source": [
    "## 5. Write a Python program to find second largest number in a list?"
   ]
  },
  {
   "cell_type": "code",
   "execution_count": 38,
   "id": "a1cbc95d-ebb3-40df-916e-5ba337624ca7",
   "metadata": {},
   "outputs": [],
   "source": [
    "def largestN(lst):\n",
    "    largest = lst[0]\n",
    "    for j in lst:\n",
    "        if j > largest:\n",
    "            largest = j\n",
    "            \n",
    "    return largest"
   ]
  },
  {
   "cell_type": "code",
   "execution_count": 40,
   "id": "f85aaf7d-f5ed-4101-9b49-5aff72e6b8b3",
   "metadata": {},
   "outputs": [
    {
     "name": "stdin",
     "output_type": "stream",
     "text": [
      "No.of elements in the list:  10\n",
      "1 th element:  5\n",
      "2 th element:  893\n",
      "3 th element:  45\n",
      "4 th element:  17\n",
      "5 th element:  55\n",
      "6 th element:  986\n",
      "7 th element:  158\n",
      "8 th element:  22\n",
      "9 th element:  325\n",
      "10 th element:  486\n"
     ]
    },
    {
     "name": "stdout",
     "output_type": "stream",
     "text": [
      "\n",
      "Given list: [5, 893, 45, 17, 55, 986, 158, 22, 325, 486]\n",
      "\n",
      "Largest number 1: 986\n",
      "Largest number 2: 893\n"
     ]
    }
   ],
   "source": [
    "try:\n",
    "    ipnumber = int(input(\"No.of elements in the list: \"))\n",
    "    lst = []\n",
    "    \n",
    "    \n",
    "    for i in range(ipnumber):\n",
    "        lst.append(int(input(f'{i+1} th element: ')))\n",
    "    print(f'\\nGiven list: {lst}\\n')\n",
    "    \n",
    "    lstlocal = lst\n",
    "    for i in range(2):\n",
    "        print (f'Largest number {i+1}: {largestN(lstlocal)}')\n",
    "        lstlocal.remove(largestN(lstlocal))\n",
    "        \n",
    "    \n",
    "except Exception as e:\n",
    "    print('Error: ', e)"
   ]
  },
  {
   "cell_type": "markdown",
   "id": "432637a3-6c76-4dd7-b5fb-f21b40d5292c",
   "metadata": {},
   "source": [
    "## 6. Write a Python program to find N largest elements from a list?"
   ]
  },
  {
   "cell_type": "code",
   "execution_count": 41,
   "id": "74c091b1-1e81-4334-bd0d-96a332497750",
   "metadata": {},
   "outputs": [],
   "source": [
    "def largestN(lst):\n",
    "    largest = lst[0]\n",
    "    for j in lst:\n",
    "        if j > largest:\n",
    "            largest = j\n",
    "            \n",
    "    return largest"
   ]
  },
  {
   "cell_type": "code",
   "execution_count": 42,
   "id": "c12427f4-47c5-4da3-8f76-919c6e37eb55",
   "metadata": {},
   "outputs": [
    {
     "name": "stdin",
     "output_type": "stream",
     "text": [
      "No.of elements in the list:  12\n",
      "1 th element:  15\n",
      "2 th element:  12\n",
      "3 th element:  36\n",
      "4 th element:  85\n",
      "5 th element:  98\n",
      "6 th element:  45\n",
      "7 th element:  852\n",
      "8 th element:  486\n",
      "9 th element:  215\n",
      "10 th element:  985\n",
      "11 th element:  25\n",
      "12 th element:  54\n"
     ]
    },
    {
     "name": "stdout",
     "output_type": "stream",
     "text": [
      "\n",
      "Given list: [15, 12, 36, 85, 98, 45, 852, 486, 215, 985, 25, 54]\n",
      "\n"
     ]
    },
    {
     "name": "stdin",
     "output_type": "stream",
     "text": [
      "Ente number of largest numners from the list:  6\n"
     ]
    },
    {
     "name": "stdout",
     "output_type": "stream",
     "text": [
      "Largest number 1: 985\n",
      "Largest number 2: 852\n",
      "Largest number 3: 486\n",
      "Largest number 4: 215\n",
      "Largest number 5: 98\n",
      "Largest number 6: 85\n"
     ]
    }
   ],
   "source": [
    "try:\n",
    "    ipnumber = int(input(\"No.of elements in the list: \"))\n",
    "    lst = []\n",
    "    \n",
    "    \n",
    "    for i in range(ipnumber):\n",
    "        lst.append(int(input(f'{i+1} th element: ')))\n",
    "    print(f'\\nGiven list: {lst}\\n')\n",
    "    \n",
    "    n = int(input('Ente number of largest numners from the list: '))\n",
    "    \n",
    "    lstlocal = lst\n",
    "    for i in range(n):\n",
    "        print (f'Largest number {i+1}: {largestN(lstlocal)}')\n",
    "        lstlocal.remove(largestN(lstlocal))\n",
    "        \n",
    "    \n",
    "except Exception as e:\n",
    "    print('Error: ', e)"
   ]
  },
  {
   "cell_type": "markdown",
   "id": "41aa99f6-35ac-4973-9e70-647e25a9558d",
   "metadata": {},
   "source": [
    "## 7. Write a Python program to print even numbers in a list?"
   ]
  },
  {
   "cell_type": "code",
   "execution_count": 52,
   "id": "d462891a-0130-4bba-b567-1d73fcbc85a7",
   "metadata": {},
   "outputs": [
    {
     "name": "stdin",
     "output_type": "stream",
     "text": [
      "No.of elements in the list:  5\n",
      "1 th element:  14\n",
      "2 th element:  25\n",
      "3 th element:  36\n",
      "4 th element:  89\n",
      "5 th element:  88\n"
     ]
    },
    {
     "name": "stdout",
     "output_type": "stream",
     "text": [
      "\n",
      "Given list: [14, 25, 36, 89, 88]\n",
      "\n",
      "Even numbers in the list:  [14, 36, 88]\n"
     ]
    }
   ],
   "source": [
    "try:\n",
    "    ipnumber = int(input(\"No.of elements in the list: \"))\n",
    "    lst = []\n",
    "    \n",
    "    for i in range(ipnumber):\n",
    "        lst.append(int(input(f'{i+1} th element: ')))\n",
    "    print(f'\\nGiven list: {lst}\\n')\n",
    "    \n",
    "    even = lambda x: x%2 == 0 \n",
    "    print('Even numbers in the list: ', list(filter(even, lst)))\n",
    "    \n",
    "except Exception as e:\n",
    "    print('Error: ', e)"
   ]
  },
  {
   "cell_type": "markdown",
   "id": "86d34dbf-4f4e-4b6a-86b9-7e5baeae0a6b",
   "metadata": {},
   "source": [
    "## 8. Write a Python program to print odd numbers in a List?"
   ]
  },
  {
   "cell_type": "code",
   "execution_count": 53,
   "id": "4021410c-e25f-46c4-8c96-bd04d4da4262",
   "metadata": {},
   "outputs": [
    {
     "name": "stdin",
     "output_type": "stream",
     "text": [
      "No.of elements in the list:  8\n",
      "1 th element:  159\n",
      "2 th element:  8753\n",
      "3 th element:  147\n",
      "4 th element:  369\n",
      "5 th element:  852\n",
      "6 th element:  1365\n",
      "7 th element:  475\n",
      "8 th element:  952\n"
     ]
    },
    {
     "name": "stdout",
     "output_type": "stream",
     "text": [
      "\n",
      "Given list: [159, 8753, 147, 369, 852, 1365, 475, 952]\n",
      "\n",
      "Odd numbers in the list:  [159, 8753, 147, 369, 1365, 475]\n"
     ]
    }
   ],
   "source": [
    "try:\n",
    "    ipnumber = int(input(\"No.of elements in the list: \"))\n",
    "    lst = []\n",
    "    \n",
    "    for i in range(ipnumber):\n",
    "        lst.append(int(input(f'{i+1} th element: ')))\n",
    "    print(f'\\nGiven list: {lst}\\n')\n",
    "    \n",
    "    odds = lambda x: x%2 != 0 \n",
    "    print('Odd numbers in the list: ', list(filter(odds, lst)))\n",
    "    \n",
    "except Exception as e:\n",
    "    print('Error: ', e)"
   ]
  },
  {
   "cell_type": "markdown",
   "id": "4b59556d-f700-4c8a-bf6e-e9e130a3c9d8",
   "metadata": {},
   "source": [
    "## 9. Write a Python program to Remove empty List from List?"
   ]
  },
  {
   "cell_type": "code",
   "execution_count": 30,
   "id": "428f0880-9951-414b-8d79-d1aa0cc54ca2",
   "metadata": {},
   "outputs": [
    {
     "name": "stdout",
     "output_type": "stream",
     "text": [
      "Given  lst: [1, 2, 3, 4, [], 67, [], 7956, 225, [], 26, 88, []]\n",
      "\n",
      "Final list: [1, 2, 3, 4, 67, 7956, 225, 26, 88]\n"
     ]
    }
   ],
   "source": [
    "try:\n",
    "    lst = [1, 2, 3, 4, [], 67, [], 7956, 225, [], 26, 88, []]\n",
    "    \n",
    "    print(f'Given  lst: {lst}')\n",
    "    for i in lst:\n",
    "        if i == []:\n",
    "            lst.remove(i)\n",
    "    print(f'\\n\\rFinal list: {lst}')\n",
    "    \n",
    "except Exception as e:\n",
    "    print('Error: ', e)"
   ]
  },
  {
   "cell_type": "markdown",
   "id": "2d24a201-55d7-4a48-82d1-4f9b65fcf9a6",
   "metadata": {},
   "source": [
    "## 10. Write a Python program to Cloning or Copying a list?"
   ]
  },
  {
   "cell_type": "code",
   "execution_count": 33,
   "id": "1c9b0522-7497-4173-acc4-532c8ef04146",
   "metadata": {},
   "outputs": [],
   "source": [
    "def clonelist(lst):\n",
    "    return lst"
   ]
  },
  {
   "cell_type": "code",
   "execution_count": 34,
   "id": "31fa65bf-b0ec-4198-9850-4b6ff717388f",
   "metadata": {},
   "outputs": [
    {
     "name": "stdin",
     "output_type": "stream",
     "text": [
      "No.of elements in the list:  5\n",
      "1 th element:  1\n",
      "2 th element:  2\n",
      "3 th element:  3\n",
      "4 th element:  4\n",
      "5 th element:  5\n"
     ]
    },
    {
     "name": "stdout",
     "output_type": "stream",
     "text": [
      "\n",
      "Given list: [1, 2, 3, 4, 5]\n",
      "\n",
      "Cloned list: [1, 2, 3, 4, 5]\n"
     ]
    }
   ],
   "source": [
    "try:\n",
    "    ipnumber = int(input(\"No.of elements in the list: \"))\n",
    "    lst = []\n",
    "    \n",
    "    for i in range(ipnumber):\n",
    "        lst.append(int(input(f'{i+1} th element: ')))\n",
    "    print(f'\\nGiven list: {lst}\\n')\n",
    "    \n",
    "    lst_copy = clonelist(lst)\n",
    "    \n",
    "    print(f'Cloned list: {lst_copy}')\n",
    "            \n",
    "except Exception as e:\n",
    "    print('Error: ', e)"
   ]
  },
  {
   "cell_type": "markdown",
   "id": "ef0a4eb6-ba91-48fa-897c-e69d70c10871",
   "metadata": {},
   "source": [
    "## 11. Write a Python program to Count occurrences of an element in a list?"
   ]
  },
  {
   "cell_type": "code",
   "execution_count": 52,
   "id": "feba2591-fe00-4439-bf9c-564a1dffc7cb",
   "metadata": {},
   "outputs": [
    {
     "name": "stdin",
     "output_type": "stream",
     "text": [
      "No.of elements in the list:  10\n",
      "1 th element:  1\n",
      "2 th element:  2\n",
      "3 th element:  2\n",
      "4 th element:  3\n",
      "5 th element:  3\n",
      "6 th element:  5\n",
      "7 th element:  5\n",
      "8 th element:  6\n",
      "9 th element:  9\n",
      "10 th element:  44\n"
     ]
    },
    {
     "name": "stdout",
     "output_type": "stream",
     "text": [
      "\n",
      "Given list: [1, 2, 2, 3, 3, 5, 5, 6, 9, 44]\n",
      "\n",
      "1 has occurred 1 times\n",
      "2 has occurred 2 times\n",
      "2 has occurred 2 times\n",
      "3 has occurred 2 times\n",
      "3 has occurred 2 times\n",
      "5 has occurred 2 times\n",
      "5 has occurred 2 times\n",
      "6 has occurred 1 times\n",
      "9 has occurred 1 times\n",
      "44 has occurred 1 times\n"
     ]
    }
   ],
   "source": [
    "import collections\n",
    "\n",
    "\n",
    "try:\n",
    "    \n",
    "    ipnumber = int(input(\"No.of elements in the list: \"))\n",
    "    lstA = []\n",
    "    \n",
    "    for i in range(ipnumber):\n",
    "        lstA.append(int(input(f'{i+1} th element: ')))\n",
    "    print(f'\\nGiven list: {lstA}\\n')\n",
    "\n",
    "    dt = collections.Counter(lstA)\n",
    "\n",
    "    for i in lstA:\n",
    "        print('{} has occurred {} times'.format(i, dt[i]))\n",
    "\n",
    "except Exception as e:\n",
    "    print('Error : ', e)"
   ]
  },
  {
   "cell_type": "code",
   "execution_count": null,
   "id": "1e6f3ac8-abaa-4543-ac5e-4f1c35f1b30b",
   "metadata": {},
   "outputs": [],
   "source": []
  }
 ],
 "metadata": {
  "kernelspec": {
   "display_name": "Python 3 (ipykernel)",
   "language": "python",
   "name": "python3"
  },
  "language_info": {
   "codemirror_mode": {
    "name": "ipython",
    "version": 3
   },
   "file_extension": ".py",
   "mimetype": "text/x-python",
   "name": "python",
   "nbconvert_exporter": "python",
   "pygments_lexer": "ipython3",
   "version": "3.10.6"
  }
 },
 "nbformat": 4,
 "nbformat_minor": 5
}
