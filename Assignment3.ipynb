{
 "cells": [
  {
   "cell_type": "markdown",
   "id": "802a55a4-c889-4ad7-95e4-1bcf09513f8e",
   "metadata": {},
   "source": [
    "# Q: 1. Why are functions advantageous to have in your programs?"
   ]
  },
  {
   "cell_type": "markdown",
   "id": "ac804ead-fe22-4241-9683-91a2ba7759eb",
   "metadata": {},
   "source": [
    "## Answer"
   ]
  },
  {
   "cell_type": "markdown",
   "id": "2c357aa0-0916-4715-b4f9-8f57c978efc4",
   "metadata": {},
   "source": [
    "1. Deelopers can divide the large programs into small groups so that it is easy to read the code and debug the program faster and better.\n",
    "2. Functions stop us from writing the same logic various times. We can bind the logic in one def and then call the same over and over.\n",
    "3. Many developers can work on the same program by assigning different methods to each of them.\n",
    "4. It allows us to call the same method with different inputs multiple times."
   ]
  },
  {
   "cell_type": "markdown",
   "id": "e8cf9a7f-8e49-4d21-98ef-a76896b9113c",
   "metadata": {},
   "source": [
    "## Q: 2. When does the code in a function run: when it&#39;s specified or when it&#39;s called?"
   ]
  },
  {
   "cell_type": "markdown",
   "id": "b5a942b5-d477-4afe-8543-6cb1a15f4075",
   "metadata": {},
   "source": [
    "## Ans:"
   ]
  },
  {
   "cell_type": "markdown",
   "id": "c2a18f6c-03be-4011-853b-7d6d38d666d1",
   "metadata": {},
   "source": [
    "Only when the function is called, the code defined in the function will be executed."
   ]
  },
  {
   "cell_type": "markdown",
   "id": "c51f899f-9470-4f6d-8ff3-5e3b752396eb",
   "metadata": {},
   "source": [
    "## Q: 3. What statement creates a function?"
   ]
  },
  {
   "cell_type": "markdown",
   "id": "234ebb51-26a7-4872-bd80-f8182843f903",
   "metadata": {},
   "source": [
    "## Ans:"
   ]
  },
  {
   "cell_type": "markdown",
   "id": "f184cb3f-80d9-4573-857e-e140b1bcc95e",
   "metadata": {},
   "source": [
    "When we define a function wit def statement the function will be created."
   ]
  },
  {
   "cell_type": "markdown",
   "id": "fbfa6dac-59b4-47d5-9f10-6121911d293b",
   "metadata": {},
   "source": [
    "## Q: 4. What is the difference between a function and a function call?"
   ]
  },
  {
   "cell_type": "markdown",
   "id": "f12c3c6b-7c03-436a-bb1d-d2da96345e0d",
   "metadata": {},
   "source": [
    "## Ans:"
   ]
  },
  {
   "cell_type": "markdown",
   "id": "0049ae02-05b3-4d67-bb1a-4d955dd0e2d1",
   "metadata": {},
   "source": [
    "A function is a block of code that does a particular operation and returns a result. It usually accepts inputs as parameters and returns a result. The parameters are not mandatory.\n"
   ]
  },
  {
   "cell_type": "markdown",
   "id": "1fe885d8-3f17-445e-8723-2788c9ce7d6c",
   "metadata": {},
   "source": [
    "A function call is the code used to pass control to a function. At this stage the code in the function will be execued."
   ]
  },
  {
   "cell_type": "markdown",
   "id": "1db593b1-3d14-446f-b8df-e65abd7530df",
   "metadata": {},
   "source": [
    "## Q: 5. How many global scopes are there in a Python program? How many local scopes?"
   ]
  },
  {
   "cell_type": "markdown",
   "id": "d56027e4-24c4-4939-a700-59f154dbeb08",
   "metadata": {},
   "source": [
    "### Ans:"
   ]
  },
  {
   "cell_type": "markdown",
   "id": "94cf0010-c436-40a8-93e1-4f79f2746a5e",
   "metadata": {},
   "source": [
    "There will be one local and one global scope variables will be available."
   ]
  },
  {
   "cell_type": "markdown",
   "id": "19d026cd-82d2-44f0-8c79-32537d197608",
   "metadata": {},
   "source": [
    "## Q: 6. What happens to variables in a local scope when the function call returns?"
   ]
  },
  {
   "cell_type": "markdown",
   "id": "6799e044-5f79-4c60-bad0-5bf66d600d56",
   "metadata": {},
   "source": [
    "### Ans:"
   ]
  },
  {
   "cell_type": "markdown",
   "id": "052e81ba-0ef6-4dd0-83e0-2f9f2c96a735",
   "metadata": {},
   "source": [
    "The local variables will be subsequently destroyed as the function returns"
   ]
  },
  {
   "cell_type": "markdown",
   "id": "50493267-aa7e-4fda-b51c-486fa02e048f",
   "metadata": {},
   "source": [
    "## Q: 7. What is the concept of a return value? Is it possible to have a return value in an expression?"
   ]
  },
  {
   "cell_type": "markdown",
   "id": "3ea09d10-c634-404e-a892-e519c794e458",
   "metadata": {},
   "source": [
    "### Ans:"
   ]
  },
  {
   "cell_type": "markdown",
   "id": "424bddae-fbe7-4871-a96f-483a61690b10",
   "metadata": {},
   "source": [
    "A return value is the value that a function call evaluates to. Like any value, a return value can be used as part of an expression."
   ]
  },
  {
   "cell_type": "markdown",
   "id": "46e41de0-424b-4ac5-8dc9-b1695910807c",
   "metadata": {},
   "source": [
    "## Q: 8. If a function does not have a return statement, what is the return value of a call to that function?"
   ]
  },
  {
   "cell_type": "markdown",
   "id": "4a51478a-e358-436d-a7db-785d11c4d75e",
   "metadata": {},
   "source": [
    "### Ans:"
   ]
  },
  {
   "cell_type": "markdown",
   "id": "a2fe43ae-52ce-46a8-9c2b-f88562751fb8",
   "metadata": {},
   "source": [
    "The finction returns None type by default if the funcion is not returning."
   ]
  },
  {
   "cell_type": "markdown",
   "id": "4616d781-254d-4386-a929-0adaa95a1a4a",
   "metadata": {},
   "source": [
    "## Q: 9. How do you make a function variable refer to the global variable?"
   ]
  },
  {
   "cell_type": "markdown",
   "id": "4a416c2e-d863-4f8f-b139-1b03e3f9b4a2",
   "metadata": {},
   "source": [
    "### Ans:"
   ]
  },
  {
   "cell_type": "markdown",
   "id": "ee23dac9-4ee7-48b4-8ccd-bbb47e5ade6a",
   "metadata": {},
   "source": [
    "If we use the key-word - 'global' for variable with in the local function block."
   ]
  },
  {
   "cell_type": "markdown",
   "id": "b363732b-e7fa-4d77-b220-358d02248a85",
   "metadata": {},
   "source": [
    "## Q: 10. What is the data type of None?"
   ]
  },
  {
   "cell_type": "markdown",
   "id": "f44bd684-0663-435d-ac36-b51eb4e7ad7c",
   "metadata": {},
   "source": [
    "### Ans:"
   ]
  },
  {
   "cell_type": "code",
   "execution_count": 3,
   "id": "d4b7b625-5d64-442e-87fe-fcf3540696ef",
   "metadata": {},
   "outputs": [
    {
     "data": {
      "text/plain": [
       "NoneType"
      ]
     },
     "execution_count": 3,
     "metadata": {},
     "output_type": "execute_result"
    }
   ],
   "source": [
    "type(None)"
   ]
  },
  {
   "cell_type": "markdown",
   "id": "806949a4-e7f7-469b-a1b6-5a592d0de7a3",
   "metadata": {},
   "source": [
    "The data type of  none is 'NoneType'"
   ]
  },
  {
   "cell_type": "markdown",
   "id": "2bf7e6b2-195f-47c4-a7ce-15c843306af6",
   "metadata": {},
   "source": [
    "## Q: 11. What does the sentence import areallyourpetsnamederic do?"
   ]
  },
  {
   "cell_type": "markdown",
   "id": "29e499e7-dc50-49ef-a5be-7a8d660459af",
   "metadata": {},
   "source": [
    "### Ans:"
   ]
  },
  {
   "cell_type": "markdown",
   "id": "989b3af0-b6ee-43c8-8310-b27ef4d4639c",
   "metadata": {},
   "source": [
    "import statement\n",
    "\n",
    "eaample: import areallyourpetsnamederic"
   ]
  },
  {
   "cell_type": "markdown",
   "id": "fb1b6c0f-e02e-4199-bb0c-dc0be39fd4cb",
   "metadata": {},
   "source": [
    "## Q: 12. If you had a bacon() feature in a spam module, what would you call it after importing spam?"
   ]
  },
  {
   "cell_type": "markdown",
   "id": "0f1cb18a-2315-44b3-959e-26cb291c2e7e",
   "metadata": {},
   "source": [
    "### Ans:"
   ]
  },
  {
   "cell_type": "markdown",
   "id": "3a573fac-6950-493e-82b7-7708810d3e93",
   "metadata": {},
   "source": [
    "import spam as sp\n",
    "\n",
    "sp.bacon()"
   ]
  },
  {
   "cell_type": "markdown",
   "id": "3012f6d8-4b25-41dd-b081-76aa67a06187",
   "metadata": {},
   "source": [
    "## Q: 13. What can you do to save a programme from crashing if it encounters an error?"
   ]
  },
  {
   "cell_type": "markdown",
   "id": "25732de3-55b3-4501-bff7-e5df229e72ad",
   "metadata": {},
   "source": [
    "### Ans:"
   ]
  },
  {
   "cell_type": "markdown",
   "id": "1c63db1e-6eb0-46f3-9276-3c5df58eb452",
   "metadata": {},
   "source": [
    "Use the try block.\n",
    "\n",
    "Example:\n",
    "\n",
    "try:\n",
    "\n",
    "      print(x)\n",
    "  \n",
    "except:\n",
    "\n",
    "      print(\"An exception \")"
   ]
  },
  {
   "cell_type": "markdown",
   "id": "57c6118f-d87d-4cca-a389-6e4d4d1909e1",
   "metadata": {},
   "source": [
    "## Q: 14. What is the purpose of the try clause? What is the purpose of the except clause?"
   ]
  },
  {
   "cell_type": "markdown",
   "id": "493719df-e266-461c-97b9-137509d40a1c",
   "metadata": {},
   "source": [
    "### Ans: "
   ]
  },
  {
   "cell_type": "markdown",
   "id": "04deb733-3d2f-4873-b025-3f7600a7361a",
   "metadata": {},
   "source": [
    "The 'try' block lets you test a block of code for errors.\n",
    "\n",
    "The 'except' block lets you handle the error."
   ]
  }
 ],
 "metadata": {
  "kernelspec": {
   "display_name": "Python 3 (ipykernel)",
   "language": "python",
   "name": "python3"
  },
  "language_info": {
   "codemirror_mode": {
    "name": "ipython",
    "version": 3
   },
   "file_extension": ".py",
   "mimetype": "text/x-python",
   "name": "python",
   "nbconvert_exporter": "python",
   "pygments_lexer": "ipython3",
   "version": "3.10.6"
  }
 },
 "nbformat": 4,
 "nbformat_minor": 5
}
