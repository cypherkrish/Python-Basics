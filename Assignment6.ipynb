{
 "cells": [
  {
   "cell_type": "markdown",
   "id": "63232fda-874d-456d-8e0c-0e6dd48d0dba",
   "metadata": {},
   "source": [
    "## Q: 1. What are escape characters, and how do you use them?"
   ]
  },
  {
   "cell_type": "markdown",
   "id": "eb0d5e0a-f918-4baf-ba56-bde8c64d1b86",
   "metadata": {},
   "source": [
    "### Ans:\n",
    "\n",
    "Escape characters represent characters in string values that would otherwise be difficult or impossible to type into code.\n",
    "\n",
    "An escape character is a backslash \\ followed by the character you want to insert.\n",
    "\n"
   ]
  },
  {
   "cell_type": "markdown",
   "id": "5b90ce30-d52d-4990-aef5-e835dae12f3c",
   "metadata": {},
   "source": [
    "## Q: 2. What do the escape characters n and t stand for?"
   ]
  },
  {
   "cell_type": "markdown",
   "id": "53e9be3e-ce8a-45a8-8b8e-5d95e7a4c6d9",
   "metadata": {},
   "source": [
    "### Ans:\n",
    "\n",
    "\\n\t=> New Line\n",
    "\n",
    "\\t\t=> Tab"
   ]
  },
  {
   "cell_type": "markdown",
   "id": "22b1b2f6-b6c8-4051-b196-518d9486201c",
   "metadata": {},
   "source": [
    "## Q: 3. What is the way to include backslash characters in a string?"
   ]
  },
  {
   "cell_type": "markdown",
   "id": "b3ecf910-b583-462e-8b3a-79ca58dc3e02",
   "metadata": {},
   "source": [
    "### Ans:\n",
    "\n",
    "The \\\\ escape character will represent a backslash character.\n",
    "\n",
    "Example:\n",
    "\n",
    "\"We are the \\\\ so-called \\\"Vikings\\\" from the north.\"\n",
    "\n",
    "\"We are the so-called \\t from \\n the north.\"\n",
    "\n",
    "\n"
   ]
  },
  {
   "cell_type": "markdown",
   "id": "ba82d5aa-3881-49c0-8818-175ee1fc5808",
   "metadata": {},
   "source": [
    "## Q: 4. The string &quot;Howl&#39;s Moving Castle&quot; is a correct value. Why isn&#39;t the single quote character in the word Howl&#39;s not escaped a problem?"
   ]
  },
  {
   "cell_type": "markdown",
   "id": "53b36aeb-eab6-450d-b22b-af4b99e2854e",
   "metadata": {},
   "source": [
    "\"Howl\\'s\"\n",
    "\n",
    "The single quote in Howl's is fine because you've used double quotes to mark the beginning and end of the string."
   ]
  },
  {
   "cell_type": "markdown",
   "id": "cd3222ee-293b-4ad3-a9cc-0a63d02dcbbb",
   "metadata": {},
   "source": [
    "## Q: 5. How do you write a string of newlines if you don&#39;t want to use the n character?"
   ]
  },
  {
   "cell_type": "markdown",
   "id": "77967660-f441-4fc3-bcc6-d934913cc6fc",
   "metadata": {},
   "source": [
    "### Ans:\n",
    "\n",
    "We can use multi line string"
   ]
  },
  {
   "cell_type": "code",
   "execution_count": 5,
   "id": "e1d2cbbb-adbf-4261-9948-214571c626f1",
   "metadata": {},
   "outputs": [
    {
     "name": "stdout",
     "output_type": "stream",
     "text": [
      "Lorem ipsum dolor sit amet,\n",
      "consectetur adipiscing elit,\n",
      "sed do eiusmod tempor incididunt\n",
      "ut labore et dolore magna aliqua.\n"
     ]
    }
   ],
   "source": [
    "# example:\n",
    "    \n",
    "a = \"\"\"Lorem ipsum dolor sit amet,\n",
    "consectetur adipiscing elit,\n",
    "sed do eiusmod tempor incididunt\n",
    "ut labore et dolore magna aliqua.\"\"\"\n",
    "print(a)"
   ]
  },
  {
   "cell_type": "markdown",
   "id": "31b5e00f-9f68-4564-b98e-2263092d6a80",
   "metadata": {},
   "source": [
    "## Q  :  6. What are the values of the given expressions?\n",
    "\n",
    "&#39;Hello, world!&#39;[1]\n",
    "\n",
    "&#39;Hello, world!&#39;[0:5]\n",
    "\n",
    "&#39;Hello, world!&#39;[:5]\n",
    "\n",
    "&#39;Hello, world!&#39;[3:]"
   ]
  },
  {
   "cell_type": "markdown",
   "id": "4a1d3401-5aa2-488d-b6f9-6f8ed32c096e",
   "metadata": {},
   "source": [
    "### Ans:"
   ]
  },
  {
   "cell_type": "code",
   "execution_count": 6,
   "id": "57ec7912-f76b-4c7a-b914-4c2affd1a5c8",
   "metadata": {},
   "outputs": [
    {
     "data": {
      "text/plain": [
       "'e'"
      ]
     },
     "execution_count": 6,
     "metadata": {},
     "output_type": "execute_result"
    }
   ],
   "source": [
    "'Hello, world!'[1]"
   ]
  },
  {
   "cell_type": "code",
   "execution_count": 7,
   "id": "82e16cfd-ec54-4358-bfcf-9e107ed55853",
   "metadata": {},
   "outputs": [
    {
     "data": {
      "text/plain": [
       "'Hello'"
      ]
     },
     "execution_count": 7,
     "metadata": {},
     "output_type": "execute_result"
    }
   ],
   "source": [
    "'Hello, world!'[0:5]"
   ]
  },
  {
   "cell_type": "code",
   "execution_count": 8,
   "id": "d6b47675-48a4-4329-bdd5-cd2d54200652",
   "metadata": {},
   "outputs": [
    {
     "data": {
      "text/plain": [
       "'Hello'"
      ]
     },
     "execution_count": 8,
     "metadata": {},
     "output_type": "execute_result"
    }
   ],
   "source": [
    "'Hello, world!'[:5]"
   ]
  },
  {
   "cell_type": "code",
   "execution_count": 9,
   "id": "81ef1a47-b6cb-42a6-97c2-b1fae2d6a30e",
   "metadata": {},
   "outputs": [
    {
     "data": {
      "text/plain": [
       "'lo, world!'"
      ]
     },
     "execution_count": 9,
     "metadata": {},
     "output_type": "execute_result"
    }
   ],
   "source": [
    "'Hello, world!'[3:]"
   ]
  },
  {
   "cell_type": "markdown",
   "id": "127f4dcc-f977-4973-a45c-64a68160bdb0",
   "metadata": {},
   "source": [
    "## Q: 7. What are the values of the following expressions?\n",
    "\n",
    "&#39;Hello&#39;.upper()\n",
    "\n",
    "&#39;Hello&#39;.upper().isupper()\n",
    "\n",
    "&#39;Hello&#39;.upper().lower()"
   ]
  },
  {
   "cell_type": "markdown",
   "id": "fea0176b-3c84-4ef3-9a00-9c043875e838",
   "metadata": {},
   "source": [
    "### Ans:"
   ]
  },
  {
   "cell_type": "code",
   "execution_count": 11,
   "id": "e24dbeb3-1f3c-4768-9afb-cba01dcb8277",
   "metadata": {},
   "outputs": [
    {
     "data": {
      "text/plain": [
       "'HELLO'"
      ]
     },
     "execution_count": 11,
     "metadata": {},
     "output_type": "execute_result"
    }
   ],
   "source": [
    "'Hello'.upper()"
   ]
  },
  {
   "cell_type": "code",
   "execution_count": 12,
   "id": "97c8c826-d29e-4463-8826-a4cdf729b21b",
   "metadata": {},
   "outputs": [
    {
     "data": {
      "text/plain": [
       "True"
      ]
     },
     "execution_count": 12,
     "metadata": {},
     "output_type": "execute_result"
    }
   ],
   "source": [
    "'Hello'.upper().isupper()"
   ]
  },
  {
   "cell_type": "code",
   "execution_count": 13,
   "id": "12f6f824-a3a3-49e4-b3b2-28d5086415ad",
   "metadata": {},
   "outputs": [
    {
     "data": {
      "text/plain": [
       "'hello'"
      ]
     },
     "execution_count": 13,
     "metadata": {},
     "output_type": "execute_result"
    }
   ],
   "source": [
    "'Hello'.upper().lower()"
   ]
  },
  {
   "cell_type": "markdown",
   "id": "d0e7b37a-46d3-4f16-b2a8-b3c3fc2e64f2",
   "metadata": {},
   "source": [
    "## Q: 8. What are the values of the following expressions?\n",
    "\n",
    "&#39;Remember, remember, the fifth of July.&#39;.split()\n",
    "\n",
    "&#39;-&#39;.join(&#39;There can only one.&#39;.split())"
   ]
  },
  {
   "cell_type": "code",
   "execution_count": 14,
   "id": "be8682c2-3579-4a0d-bf12-ac465c40c49e",
   "metadata": {},
   "outputs": [
    {
     "data": {
      "text/plain": [
       "['Remember,', 'remember,', 'the', 'fifth', 'of', 'July.']"
      ]
     },
     "execution_count": 14,
     "metadata": {},
     "output_type": "execute_result"
    }
   ],
   "source": [
    "'Remember, remember, the fifth of July.'.split()"
   ]
  },
  {
   "cell_type": "code",
   "execution_count": 15,
   "id": "17c59b75-90fb-4be3-9525-0e279dff3818",
   "metadata": {},
   "outputs": [
    {
     "data": {
      "text/plain": [
       "'There-can-only-one.'"
      ]
     },
     "execution_count": 15,
     "metadata": {},
     "output_type": "execute_result"
    }
   ],
   "source": [
    "'-'.join('There can only one.'.split())"
   ]
  },
  {
   "cell_type": "markdown",
   "id": "253f7e26-1e98-4e47-9432-032c3d0a61d0",
   "metadata": {},
   "source": [
    "## Q: 9. What are the methods for right-justifying, left-justifying, and centering a string?"
   ]
  },
  {
   "cell_type": "markdown",
   "id": "da4cea4f-9749-4dfb-8ca7-7df30d8666a3",
   "metadata": {},
   "source": [
    "### Ans:\n",
    "\n",
    "#### right-justifying\n",
    "\n",
    "rjust(): This function right aligns the string according to the width specified and fills remaining space of line with blank space if ‘ fillchr ‘ argument is not passed.\n",
    "\n",
    "#### left-justifying\n",
    "\n",
    "ljust() : This function left aligns the string according to the width specified and fills remaining space of line with blank space if ‘ fillchr ‘ argument is not passed\n",
    "\n",
    "#### centering\n",
    "\n",
    "center(): This function center aligns the string according to the width specified and fills remaining space of line with blank space if ‘ fillchr ‘ argument is not passed.\n"
   ]
  },
  {
   "cell_type": "markdown",
   "id": "2af20f2d-7a3e-4032-801b-d14ba0619137",
   "metadata": {},
   "source": [
    "## Q:  10. What is the best way to remove whitespace characters from the start or end?"
   ]
  },
  {
   "cell_type": "markdown",
   "id": "00522707-a26b-45d6-8833-acfe6b158266",
   "metadata": {},
   "source": [
    "### Ans:\n",
    "\n",
    "Use the .strip() method to remove whitespace and characters from the beginning and the end of a string."
   ]
  },
  {
   "cell_type": "code",
   "execution_count": null,
   "id": "e35800f5-a7aa-4757-86e5-21f2ca7c6a48",
   "metadata": {},
   "outputs": [],
   "source": []
  }
 ],
 "metadata": {
  "kernelspec": {
   "display_name": "Python 3 (ipykernel)",
   "language": "python",
   "name": "python3"
  },
  "language_info": {
   "codemirror_mode": {
    "name": "ipython",
    "version": 3
   },
   "file_extension": ".py",
   "mimetype": "text/x-python",
   "name": "python",
   "nbconvert_exporter": "python",
   "pygments_lexer": "ipython3",
   "version": "3.10.6"
  }
 },
 "nbformat": 4,
 "nbformat_minor": 5
}
