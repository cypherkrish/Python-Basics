{
 "cells": [
  {
   "cell_type": "markdown",
   "id": "1492f82a-99fd-4b0d-be64-2fe0371ec1dc",
   "metadata": {},
   "source": [
    "## Q: 1. What exactly is []?"
   ]
  },
  {
   "cell_type": "markdown",
   "id": "91cfc4ca-5bd9-4093-ad48-04ccb46fe3c9",
   "metadata": {},
   "source": [
    "### Ans:"
   ]
  },
  {
   "cell_type": "markdown",
   "id": "7ee9186c-17dd-4f9f-9368-5e60a597e9d0",
   "metadata": {},
   "source": [
    "[ ] is an empty list. It will have no items in it."
   ]
  },
  {
   "cell_type": "markdown",
   "id": "4a8b3cdd-affc-4dcd-b0ab-8d7b8da63699",
   "metadata": {},
   "source": [
    "## Q: 2. In a list of values stored in a variable called spam, how would you assign the value &#39;hello&#39; as the third value? (Assume [2, 4, 6, 8, 10] are in spam.)"
   ]
  },
  {
   "cell_type": "markdown",
   "id": "d3c6b164-87af-46ba-8548-01adec983848",
   "metadata": {},
   "source": [
    "### Ans:"
   ]
  },
  {
   "cell_type": "code",
   "execution_count": 1,
   "id": "b2a1d1f3-5917-4822-a773-8a71fd6886c8",
   "metadata": {},
   "outputs": [],
   "source": [
    "spam = [2, 4, 6, 8, 10]"
   ]
  },
  {
   "cell_type": "code",
   "execution_count": 2,
   "id": "c2144ff8-0af1-4763-87ea-2a39a4de0cba",
   "metadata": {},
   "outputs": [
    {
     "data": {
      "text/plain": [
       "6"
      ]
     },
     "execution_count": 2,
     "metadata": {},
     "output_type": "execute_result"
    }
   ],
   "source": [
    "spam[2]"
   ]
  },
  {
   "cell_type": "code",
   "execution_count": 3,
   "id": "17623950-40b0-4eed-83ba-27caa805a27e",
   "metadata": {},
   "outputs": [],
   "source": [
    "spam[2] = 'hello'"
   ]
  },
  {
   "cell_type": "code",
   "execution_count": 4,
   "id": "156120a9-7195-4099-a899-9546022fa3fd",
   "metadata": {},
   "outputs": [
    {
     "data": {
      "text/plain": [
       "[2, 4, 'hello', 8, 10]"
      ]
     },
     "execution_count": 4,
     "metadata": {},
     "output_type": "execute_result"
    }
   ],
   "source": [
    "spam"
   ]
  },
  {
   "cell_type": "markdown",
   "id": "f360f1c4-8e25-4353-8a62-91e9d1375dab",
   "metadata": {},
   "source": [
    "# Let&#39;s pretend the spam includes the list [&#39;a&#39;, &#39;b&#39;, &#39;c&#39;, &#39;d&#39;] for the next three queries."
   ]
  },
  {
   "cell_type": "code",
   "execution_count": 6,
   "id": "be164e36-87ea-4dbc-ad72-0fd4a294b18e",
   "metadata": {},
   "outputs": [],
   "source": [
    "spam = ['a', 'b', 'c', 'd']"
   ]
  },
  {
   "cell_type": "markdown",
   "id": "cccae6e8-3cb1-493c-88ca-af342aad7e69",
   "metadata": {},
   "source": [
    "## Q: 3. What is the value of spam[int(int(&#39;3&#39; * 2) / 11)]?"
   ]
  },
  {
   "cell_type": "code",
   "execution_count": 7,
   "id": "fb9e1c32-dee4-429e-a624-7acfa5003129",
   "metadata": {},
   "outputs": [
    {
     "data": {
      "text/plain": [
       "'d'"
      ]
     },
     "execution_count": 7,
     "metadata": {},
     "output_type": "execute_result"
    }
   ],
   "source": [
    "spam[int(int('3' * 2 ) /11)]"
   ]
  },
  {
   "cell_type": "markdown",
   "id": "3819940b-cd40-419b-8455-3f77c7646412",
   "metadata": {},
   "source": [
    "## Q: 4. What is the value of spam[-1]?"
   ]
  },
  {
   "cell_type": "code",
   "execution_count": 12,
   "id": "d12e56b3-6e75-475c-a4c9-fe3c48520014",
   "metadata": {},
   "outputs": [
    {
     "data": {
      "text/plain": [
       "'d'"
      ]
     },
     "execution_count": 12,
     "metadata": {},
     "output_type": "execute_result"
    }
   ],
   "source": [
    "spam[-1]"
   ]
  },
  {
   "cell_type": "markdown",
   "id": "b96d3093-7581-4bea-a6c9-a86793ff8667",
   "metadata": {},
   "source": [
    "## 5. What is the value of spam[:2]?"
   ]
  },
  {
   "cell_type": "code",
   "execution_count": 13,
   "id": "87b569d8-5ef6-4cf0-9135-d80d5ade2b65",
   "metadata": {},
   "outputs": [
    {
     "data": {
      "text/plain": [
       "['a', 'b']"
      ]
     },
     "execution_count": 13,
     "metadata": {},
     "output_type": "execute_result"
    }
   ],
   "source": [
    "spam[:2]"
   ]
  },
  {
   "cell_type": "markdown",
   "id": "a5bfd458-b715-4710-8625-cdc445fa89a7",
   "metadata": {},
   "source": [
    "# Let&#39;s pretend bacon has the list [3.14, &#39;cat,&#39; 11, &#39;cat,&#39; True] for the next three questions."
   ]
  },
  {
   "cell_type": "code",
   "execution_count": 15,
   "id": "53966b08-8679-493c-aa46-ca9e70610ed6",
   "metadata": {},
   "outputs": [],
   "source": [
    "bacon = [3.14, 'cat', 11, 'cat',True] "
   ]
  },
  {
   "cell_type": "markdown",
   "id": "099dbe84-170f-4c8e-bd87-1305c4f7aaae",
   "metadata": {},
   "source": [
    "## Q: 6. What is the value of bacon.index(&#39;cat&#39;)?"
   ]
  },
  {
   "cell_type": "markdown",
   "id": "be67803b-e62e-4e82-b42d-aa8c34ba10b6",
   "metadata": {},
   "source": [
    "bacon.index('cat')"
   ]
  },
  {
   "cell_type": "markdown",
   "id": "4df6b0fc-8811-4647-b698-084fe2e2f83a",
   "metadata": {},
   "source": [
    "## Q: 7. How does bacon.append(99) change the look of the list value in bacon?"
   ]
  },
  {
   "cell_type": "code",
   "execution_count": 17,
   "id": "1b8e958e-2d07-4f8b-848d-1ca8a0085347",
   "metadata": {},
   "outputs": [],
   "source": [
    "bacon.append(99)"
   ]
  },
  {
   "cell_type": "code",
   "execution_count": 19,
   "id": "fa6e0b26-9f0d-49ba-81ff-21bd537308c0",
   "metadata": {},
   "outputs": [
    {
     "data": {
      "text/plain": [
       "[3.14, 'cat', 11, 'cat', True, 99]"
      ]
     },
     "execution_count": 19,
     "metadata": {},
     "output_type": "execute_result"
    }
   ],
   "source": [
    "bacon"
   ]
  },
  {
   "cell_type": "markdown",
   "id": "8740db8a-84d2-46ba-8320-afe24ff55f1f",
   "metadata": {},
   "source": [
    "## Q: 8. How does bacon.remove(&#39;cat&#39;) change the look of the list in bacon?"
   ]
  },
  {
   "cell_type": "code",
   "execution_count": 21,
   "id": "4a94407e-318c-4f09-96be-7bcf7c043714",
   "metadata": {},
   "outputs": [],
   "source": [
    "bacon.remove('cat')"
   ]
  },
  {
   "cell_type": "code",
   "execution_count": 22,
   "id": "55934c17-e876-48be-b3ba-f3af5cdbd3f0",
   "metadata": {},
   "outputs": [
    {
     "data": {
      "text/plain": [
       "[3.14, 11, 'cat', True, 99]"
      ]
     },
     "execution_count": 22,
     "metadata": {},
     "output_type": "execute_result"
    }
   ],
   "source": [
    "bacon"
   ]
  },
  {
   "cell_type": "markdown",
   "id": "3f0841f3-43e5-4a1c-b8bf-f88861dd7a96",
   "metadata": {},
   "source": [
    "## Q: 9. What are the list concatenation and list replication operators?"
   ]
  },
  {
   "cell_type": "markdown",
   "id": "bd633555-8c38-437f-ae06-c30e6f136fab",
   "metadata": {},
   "source": [
    "#### + is called list concatenation operator and \n",
    "#### * is called list replication operator"
   ]
  },
  {
   "cell_type": "code",
   "execution_count": 29,
   "id": "3e3b178b-ac16-4f36-9327-cae9f5f09ace",
   "metadata": {},
   "outputs": [],
   "source": [
    "## Example\n",
    "lst = [1, 3, 4, 5]\n",
    "lst1 = [3, 55, 44]"
   ]
  },
  {
   "cell_type": "code",
   "execution_count": 30,
   "id": "05782477-7f65-4421-82e2-191f473f5949",
   "metadata": {},
   "outputs": [
    {
     "data": {
      "text/plain": [
       "[1, 3, 4, 5, 3, 55, 44]"
      ]
     },
     "execution_count": 30,
     "metadata": {},
     "output_type": "execute_result"
    }
   ],
   "source": [
    "lst + lst1  # Comcatenation operator"
   ]
  },
  {
   "cell_type": "code",
   "execution_count": 31,
   "id": "d37177f9-2ebb-41b8-a362-45abe3dfd0ab",
   "metadata": {},
   "outputs": [
    {
     "data": {
      "text/plain": [
       "[1, 3, 4, 5, 1, 3, 4, 5]"
      ]
     },
     "execution_count": 31,
     "metadata": {},
     "output_type": "execute_result"
    }
   ],
   "source": [
    "lst * 2 # REplication operator"
   ]
  },
  {
   "cell_type": "markdown",
   "id": "205e93ef-44d6-4b61-9d30-81db311547b8",
   "metadata": {},
   "source": [
    "## Q: 10. What is difference between the list methods append() and insert()?"
   ]
  },
  {
   "cell_type": "markdown",
   "id": "2ec593f3-1635-4bf1-9ff1-bcc430b317fb",
   "metadata": {},
   "source": [
    "Insert function allows us to add a specific element at a specified index of the list unlike append() where we can add the element only at end of the list."
   ]
  },
  {
   "cell_type": "markdown",
   "id": "236a6326-1524-4ad9-adde-2acde3cd916f",
   "metadata": {},
   "source": [
    "## Q: 11. What are the two methods for removing items from a list?"
   ]
  },
  {
   "cell_type": "markdown",
   "id": "ce8cb2a5-154e-4c6c-a3bb-5e7570d7db31",
   "metadata": {},
   "source": [
    "remove(element) =>\tIt helps to remove the very first given element matching from the list.\n",
    "\n",
    "pop(index) =>\tThe pop() method removes an element from the list based on the index given.\n",
    "\n",
    "clear()\tThe clear() method will remove all the elements present in the list.\n",
    "\n",
    "del list[index] => To remove an element from the list, you can use the del keyword followed by a list. You have to pass the index of the element to the list. The index starts at 0."
   ]
  },
  {
   "cell_type": "markdown",
   "id": "10fa06eb-6018-4fd6-9fbb-6ebd35974c97",
   "metadata": {},
   "source": [
    "## Q: 12. Describe how list values and string values are identical."
   ]
  },
  {
   "cell_type": "markdown",
   "id": "8fbfb5e4-4648-4587-9dee-e4a6363dd1a0",
   "metadata": {},
   "source": [
    "Both lists and strings can be passed to len(), have indexes and slices, be used in for loops, be concatenated or replicated, and be used with the in and not in operators."
   ]
  },
  {
   "cell_type": "markdown",
   "id": "e63b20bd-089e-4c4e-aed7-6392c8f92cfc",
   "metadata": {},
   "source": [
    "## Q: 13. What&#39;s the difference between tuples and lists?"
   ]
  },
  {
   "cell_type": "markdown",
   "id": "503f9aa8-0b78-4a6a-8f29-2f09450f6e2c",
   "metadata": {},
   "source": [
    "Lists are mutable; they can have values added, removed, or changed. \n",
    "\n",
    "Tuples are immutable; they cannot be changed at all.\n",
    "\n",
    "Also, tuples are written using parentheses, ( and ), while lists use the square brackets, [ and ]."
   ]
  },
  {
   "cell_type": "markdown",
   "id": "d06cd578-1395-4834-a0d9-200f7e19cd4d",
   "metadata": {},
   "source": [
    "### Q: 14. How do you type a tuple value that only contains the integer 42?"
   ]
  },
  {
   "cell_type": "markdown",
   "id": "b7a0aa64-2d91-4a75-a5d9-ec7f1b91317e",
   "metadata": {},
   "source": [
    "(42)"
   ]
  },
  {
   "cell_type": "markdown",
   "id": "a46ee3b0-8774-4d70-8e2a-1d918acce3ec",
   "metadata": {},
   "source": [
    "## Q: 15. How do you get a list value&#39;s tuple form? How do you get a tuple value&#39;s list form?"
   ]
  },
  {
   "cell_type": "markdown",
   "id": "30b77fab-97cf-4168-ace5-12e2c3093c89",
   "metadata": {},
   "source": [
    "To get a list values from a tupe => convert list into tuple by using tuple()\n",
    "\n",
    "example:\n",
    "\n",
    "sample_list = ['Compile', 'With', 'Favtutor']\n",
    "\n",
    "tuple1 = tuple(sample_list)"
   ]
  },
  {
   "cell_type": "markdown",
   "id": "6fdc92a6-1c5a-4245-9da0-66140ecf4df9",
   "metadata": {},
   "source": [
    "To get a tuple values's list form: => convert tuple into list by using list()\n",
    "\n",
    "vowel_tuple = ('a', 'e', 'i', 'o', 'u')\n",
    "\n",
    "list(vowel_tuple)"
   ]
  },
  {
   "cell_type": "markdown",
   "id": "acc167fc-c965-4c7b-b203-204001a20fc4",
   "metadata": {},
   "source": [
    "## Q: 16. Variables that &quot;contain&quot; list values are not necessarily lists themselves. Instead, what do they contain?"
   ]
  },
  {
   "cell_type": "markdown",
   "id": "1eddd634-5dcb-4995-810f-e322eda2a53e",
   "metadata": {},
   "source": [
    "References"
   ]
  },
  {
   "cell_type": "markdown",
   "id": "207c702a-2c9a-4183-8a43-676002c60d5a",
   "metadata": {},
   "source": [
    "## Q: 17. How do you distinguish between copy.copy() and copy.deepcopy()?"
   ]
  },
  {
   "cell_type": "markdown",
   "id": "5253fffb-41b5-45cb-8884-fc4d40ff6c06",
   "metadata": {},
   "source": [
    "Deep copy is related to nested structures. If you have list of lists, then deepcopy copies the nested lists also, so it is a recursive copy. With just copy, you have a new outer list, but inner lists are references.\n",
    "\n",
    "i.e., The copy.copy() function will do a shallow copy of a list, while the copy.deepcopy() function will do a deep copy of a list. That is, only copy.deepcopy() will duplicate any lists inside the list."
   ]
  },
  {
   "cell_type": "code",
   "execution_count": null,
   "id": "4d7392ff-e5b8-43ae-94c0-a350c2196ee5",
   "metadata": {},
   "outputs": [],
   "source": []
  }
 ],
 "metadata": {
  "kernelspec": {
   "display_name": "Python 3 (ipykernel)",
   "language": "python",
   "name": "python3"
  },
  "language_info": {
   "codemirror_mode": {
    "name": "ipython",
    "version": 3
   },
   "file_extension": ".py",
   "mimetype": "text/x-python",
   "name": "python",
   "nbconvert_exporter": "python",
   "pygments_lexer": "ipython3",
   "version": "3.10.6"
  }
 },
 "nbformat": 4,
 "nbformat_minor": 5
}
