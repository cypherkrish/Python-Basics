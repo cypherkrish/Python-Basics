{
 "cells": [
  {
   "cell_type": "markdown",
   "id": "8ab84152-ad19-4c05-899c-90bc316e894a",
   "metadata": {},
   "source": [
    "## Q: 1. Create an assert statement that throws an AssertionError if the variable spam is a negative integer."
   ]
  },
  {
   "cell_type": "code",
   "execution_count": 3,
   "id": "944558d3-1f14-4c70-807e-4b5aeb8ef70d",
   "metadata": {},
   "outputs": [
    {
     "name": "stdin",
     "output_type": "stream",
     "text": [
      "Spam integer:  -92\n"
     ]
    },
    {
     "ename": "AssertionError",
     "evalue": "spam should be positive",
     "output_type": "error",
     "traceback": [
      "\u001b[0;31m---------------------------------------------------------------------------\u001b[0m",
      "\u001b[0;31mAssertionError\u001b[0m                            Traceback (most recent call last)",
      "Cell \u001b[0;32mIn [3], line 3\u001b[0m\n\u001b[1;32m      1\u001b[0m spam \u001b[38;5;241m=\u001b[39m \u001b[38;5;28mint\u001b[39m(\u001b[38;5;28minput\u001b[39m(\u001b[38;5;124m'\u001b[39m\u001b[38;5;124mSpam integer: \u001b[39m\u001b[38;5;124m'\u001b[39m))\n\u001b[0;32m----> 3\u001b[0m \u001b[38;5;28;01massert\u001b[39;00m spam \u001b[38;5;241m>\u001b[39m\u001b[38;5;241m=\u001b[39m \u001b[38;5;241m0\u001b[39m, \u001b[38;5;124m'\u001b[39m\u001b[38;5;124mspam should be positive\u001b[39m\u001b[38;5;124m'\u001b[39m\n",
      "\u001b[0;31mAssertionError\u001b[0m: spam should be positive"
     ]
    }
   ],
   "source": [
    "spam = int(input('Spam integer: '))\n",
    "\n",
    "assert spam >= 0, 'spam should be positive'"
   ]
  },
  {
   "cell_type": "markdown",
   "id": "8a0b716f-07b7-4ba7-bdd3-c75d431ea377",
   "metadata": {},
   "source": [
    "## Q: 2. Write an assert statement that triggers an AssertionError if the variables eggs and bacon contain strings that are the same as each other, even if their cases are different (that is, &#39;hello&#39; and &#39;hello&#39; are considered the same, and &#39;goodbye&#39; and &#39;GOODbye&#39; are also considered the same)."
   ]
  },
  {
   "cell_type": "code",
   "execution_count": 9,
   "id": "a48181ef-9aa7-4830-9052-23b7b13c8a84",
   "metadata": {},
   "outputs": [
    {
     "name": "stdin",
     "output_type": "stream",
     "text": [
      "Eggs:  goodbye\n",
      "Bacon:  goodbyesdsd\n"
     ]
    },
    {
     "ename": "AssertionError",
     "evalue": "Both eggs and bacon are NOT same",
     "output_type": "error",
     "traceback": [
      "\u001b[0;31m---------------------------------------------------------------------------\u001b[0m",
      "\u001b[0;31mAssertionError\u001b[0m                            Traceback (most recent call last)",
      "Cell \u001b[0;32mIn [9], line 5\u001b[0m\n\u001b[1;32m      1\u001b[0m eggs \u001b[38;5;241m=\u001b[39m \u001b[38;5;28minput\u001b[39m(\u001b[38;5;124m'\u001b[39m\u001b[38;5;124mEggs: \u001b[39m\u001b[38;5;124m'\u001b[39m)\n\u001b[1;32m      2\u001b[0m bacon \u001b[38;5;241m=\u001b[39m \u001b[38;5;28minput\u001b[39m(\u001b[38;5;124m'\u001b[39m\u001b[38;5;124mBacon: \u001b[39m\u001b[38;5;124m'\u001b[39m)\n\u001b[0;32m----> 5\u001b[0m \u001b[38;5;28;01massert\u001b[39;00m eggs\u001b[38;5;241m.\u001b[39mlower() \u001b[38;5;241m==\u001b[39m bacon\u001b[38;5;241m.\u001b[39mlower(), \u001b[38;5;124m'\u001b[39m\u001b[38;5;124mBoth eggs and bacon are NOT same\u001b[39m\u001b[38;5;124m'\u001b[39m\n",
      "\u001b[0;31mAssertionError\u001b[0m: Both eggs and bacon are NOT same"
     ]
    }
   ],
   "source": [
    "eggs = input('Eggs: ')\n",
    "bacon = input('Bacon: ')\n",
    "\n",
    "\n",
    "assert eggs.lower() == bacon.lower(), 'Both eggs and bacon are NOT same'"
   ]
  },
  {
   "cell_type": "markdown",
   "id": "a3d51027-5752-4b3d-802b-9177c1a8f409",
   "metadata": {},
   "source": [
    "## Q: 3. Create an assert statement that throws an AssertionError every time."
   ]
  },
  {
   "cell_type": "code",
   "execution_count": 13,
   "id": "553cf1d7-c351-4060-b0c8-19158a0285b8",
   "metadata": {},
   "outputs": [
    {
     "ename": "AssertionError",
     "evalue": "This assertion always triggers.",
     "output_type": "error",
     "traceback": [
      "\u001b[0;31m---------------------------------------------------------------------------\u001b[0m",
      "\u001b[0;31mAssertionError\u001b[0m                            Traceback (most recent call last)",
      "Cell \u001b[0;32mIn [13], line 1\u001b[0m\n\u001b[0;32m----> 1\u001b[0m \u001b[38;5;28;01massert\u001b[39;00m \u001b[38;5;28;01mFalse\u001b[39;00m, \u001b[38;5;124m'\u001b[39m\u001b[38;5;124mThis assertion always triggers.\u001b[39m\u001b[38;5;124m'\u001b[39m\n",
      "\u001b[0;31mAssertionError\u001b[0m: This assertion always triggers."
     ]
    }
   ],
   "source": [
    "assert False, 'This assertion always triggers.'"
   ]
  },
  {
   "cell_type": "markdown",
   "id": "fb3a3c24-1ce1-4032-bb64-93bffdd8b3cc",
   "metadata": {},
   "source": [
    "## Q: 4. What are the two lines that must be present in your software in order to call logging.debug()?"
   ]
  },
  {
   "cell_type": "code",
   "execution_count": 16,
   "id": "f7b52b0f-49c4-4472-a0e7-b063fd7b9d2f",
   "metadata": {},
   "outputs": [],
   "source": [
    "import logging\n",
    "logging.basicConfig(level=logging.DEBUG, format=' %(asctime)s - %(levelname)s - %(message)s')"
   ]
  },
  {
   "cell_type": "markdown",
   "id": "3fccf853-ca86-45b2-95e4-900f916c0ffa",
   "metadata": {},
   "source": [
    "## Q: 5. What are the two lines that your program must have in order to have logging.debug() send a logging message to a file named programLog.txt?"
   ]
  },
  {
   "cell_type": "code",
   "execution_count": 18,
   "id": "fd222490-f279-4b11-b57c-cac21a1f6a39",
   "metadata": {},
   "outputs": [],
   "source": [
    "import logging\n",
    "\n",
    "logging.basicConfig(filename='programLog.txt', level=logging.DEBUG, format=' %(asctime)s - %(levelname)s - %(message)s')"
   ]
  },
  {
   "cell_type": "markdown",
   "id": "e510db4b-6254-4c36-b15d-f47a9c28604c",
   "metadata": {},
   "source": [
    "## Q: 6. What are the five levels of logging?"
   ]
  },
  {
   "cell_type": "markdown",
   "id": "a80cfa27-a3d1-436d-b8be-a7175fce1261",
   "metadata": {},
   "source": [
    "1. DEBUG, \n",
    "2. INFO, \n",
    "3. WARNING, \n",
    "4. ERROR, and \n",
    "5. CRITICAL"
   ]
  },
  {
   "cell_type": "markdown",
   "id": "5f78a28a-3c34-45ae-a090-128ea2c919b8",
   "metadata": {},
   "source": [
    "## Q: 7. What line of code would you add to your software to disable all logging messages?"
   ]
  },
  {
   "cell_type": "code",
   "execution_count": 20,
   "id": "9ba5dcdf-7232-457c-8f5b-88d6fd980b3c",
   "metadata": {},
   "outputs": [],
   "source": [
    "logging.disable(logging.CRITICAL)"
   ]
  },
  {
   "cell_type": "markdown",
   "id": "f43e8a21-4b7d-468c-81e7-eca7c373823c",
   "metadata": {},
   "source": [
    "## Q: 8.Why is using logging messages better than using print() to display the same message?"
   ]
  },
  {
   "cell_type": "markdown",
   "id": "e88ed7d9-3557-4299-a377-5b8365377573",
   "metadata": {},
   "source": [
    "Unlike print(), the logging module makes it easy to switch between showing and hiding log messages."
   ]
  },
  {
   "cell_type": "markdown",
   "id": "4fe67b58-7b39-4cc5-a81b-0fceee8a9868",
   "metadata": {},
   "source": [
    "## Q: 9. What are the differences between the Step Over, Step In, and Step Out buttons in the debugger?"
   ]
  },
  {
   "cell_type": "markdown",
   "id": "03b0af25-2844-42dd-93d5-a44aba9008bd",
   "metadata": {},
   "source": [
    "The Step button => will move the debugger into a function call.\n",
    "\n",
    "The Step Over button => will quickly execute the function call without stepping into it. \n",
    "\n",
    "The Step Out button => will quickly execute the rest of the code until it steps out of the function it currently is in"
   ]
  },
  {
   "cell_type": "markdown",
   "id": "819e9104-1bbf-4a41-8b29-29b869f35154",
   "metadata": {},
   "source": [
    "## Q: 10.After you click Continue, when will the debugger stop ?"
   ]
  },
  {
   "cell_type": "markdown",
   "id": "4f60a62a-02f3-4413-bfeb-42464ee915e1",
   "metadata": {},
   "source": [
    "After you click Go, the debugger will stop when it has reached the end \n",
    "of the program or a line with a breakpoint."
   ]
  },
  {
   "cell_type": "markdown",
   "id": "cce3b425-7294-4e94-a66b-32318cd654f6",
   "metadata": {},
   "source": [
    "## Q:  11. What is the concept of a breakpoint?"
   ]
  },
  {
   "cell_type": "markdown",
   "id": "674574c5-9fad-4bdc-ab1e-095db9ea1050",
   "metadata": {},
   "source": [
    "A breakpoint is a setting on a line of code that causes the debugger to \n",
    "pause when the program execution reaches the line."
   ]
  },
  {
   "cell_type": "code",
   "execution_count": null,
   "id": "c3348cea-30d7-4aba-af46-0b25016a1ad5",
   "metadata": {},
   "outputs": [],
   "source": []
  }
 ],
 "metadata": {
  "kernelspec": {
   "display_name": "Python 3 (ipykernel)",
   "language": "python",
   "name": "python3"
  },
  "language_info": {
   "codemirror_mode": {
    "name": "ipython",
    "version": 3
   },
   "file_extension": ".py",
   "mimetype": "text/x-python",
   "name": "python",
   "nbconvert_exporter": "python",
   "pygments_lexer": "ipython3",
   "version": "3.10.6"
  }
 },
 "nbformat": 4,
 "nbformat_minor": 5
}
