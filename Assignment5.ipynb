{
 "cells": [
  {
   "cell_type": "markdown",
   "id": "b323d446-f247-43f0-b45e-e4a21e936cdc",
   "metadata": {},
   "source": [
    "## Q: 1. What does an empty dictionary&#39;s code look like?"
   ]
  },
  {
   "cell_type": "markdown",
   "id": "9d2adad0-9398-451c-92a4-4efb3c28df98",
   "metadata": {},
   "source": [
    "### Ans: {}"
   ]
  },
  {
   "cell_type": "markdown",
   "id": "604a834c-f6a5-4403-84a4-dedd0ce15b63",
   "metadata": {},
   "source": [
    "## Q: 2. What is the value of a dictionary value with the key &#39;foo&#39; and the value 42?"
   ]
  },
  {
   "cell_type": "code",
   "execution_count": 2,
   "id": "abbeb97b-a24e-40bc-94ef-33a2d0cee2db",
   "metadata": {},
   "outputs": [
    {
     "data": {
      "text/plain": [
       "{'foo': 42}"
      ]
     },
     "execution_count": 2,
     "metadata": {},
     "output_type": "execute_result"
    }
   ],
   "source": [
    "{'foo': 42}"
   ]
  },
  {
   "cell_type": "code",
   "execution_count": 3,
   "id": "16a3664b-d2ab-47f3-8ff4-e270fbdb0759",
   "metadata": {},
   "outputs": [
    {
     "data": {
      "text/plain": [
       "dict"
      ]
     },
     "execution_count": 3,
     "metadata": {},
     "output_type": "execute_result"
    }
   ],
   "source": [
    "type({'foo': 42})"
   ]
  },
  {
   "cell_type": "markdown",
   "id": "0e605e25-40bd-4336-97a4-76e4b3da8a3b",
   "metadata": {},
   "source": [
    "## Q: 3. What is the most significant distinction between a dictionary and a list?"
   ]
  },
  {
   "cell_type": "markdown",
   "id": "d64a00ad-bad9-4847-823b-0502a5c9ef2f",
   "metadata": {},
   "source": [
    "List as the values with predefined indices and dict will have key and vlues pairs\n",
    "\n",
    "The items in a list are ordered items, while the items stored in a dictionary are unordered"
   ]
  },
  {
   "cell_type": "markdown",
   "id": "2bc24f4b-6df5-476d-912e-8efb3253ab19",
   "metadata": {},
   "source": [
    "## q: 4. What happens if you try to access spam[&#39;foo&#39;] if spam is {&#39;bar&#39;: 100}?"
   ]
  },
  {
   "cell_type": "code",
   "execution_count": 4,
   "id": "2fe63eec-8fb9-4c3a-9080-661b475e8d77",
   "metadata": {},
   "outputs": [
    {
     "ename": "KeyError",
     "evalue": "'foo'",
     "output_type": "error",
     "traceback": [
      "\u001b[0;31m---------------------------------------------------------------------------\u001b[0m",
      "\u001b[0;31mKeyError\u001b[0m                                  Traceback (most recent call last)",
      "Cell \u001b[0;32mIn [4], line 3\u001b[0m\n\u001b[1;32m      1\u001b[0m spam \u001b[38;5;241m=\u001b[39m {\u001b[38;5;124m'\u001b[39m\u001b[38;5;124mbar\u001b[39m\u001b[38;5;124m'\u001b[39m: \u001b[38;5;241m100\u001b[39m}\n\u001b[0;32m----> 3\u001b[0m \u001b[43mspam\u001b[49m\u001b[43m[\u001b[49m\u001b[38;5;124;43m'\u001b[39;49m\u001b[38;5;124;43mfoo\u001b[39;49m\u001b[38;5;124;43m'\u001b[39;49m\u001b[43m]\u001b[49m\n",
      "\u001b[0;31mKeyError\u001b[0m: 'foo'"
     ]
    }
   ],
   "source": [
    "spam = {'bar': 100}\n",
    "\n",
    "spam['foo']"
   ]
  },
  {
   "cell_type": "markdown",
   "id": "bf1038d7-a165-47f6-b521-d18be318d9ac",
   "metadata": {},
   "source": [
    "The result is a KeyError"
   ]
  },
  {
   "cell_type": "markdown",
   "id": "405bd0ec-8199-4619-8f7d-6b3f9e1c6b55",
   "metadata": {},
   "source": [
    "## Q: 5. If a dictionary is stored in spam, what is the difference between the expressions &#39;cat&#39; in spam and &#39;cat&#39; in spam.keys()?"
   ]
  },
  {
   "cell_type": "markdown",
   "id": "f3c475f6-c7b9-46ff-bb71-f4c761d18701",
   "metadata": {},
   "source": [
    "There is no difference. The in operator checks whether a value exists as a key in the dictionary."
   ]
  },
  {
   "cell_type": "markdown",
   "id": "fcf2022c-7e40-4bcc-b441-97e64b18b685",
   "metadata": {},
   "source": [
    "## Q: 6. If a dictionary is stored in spam, what is the difference between the expressions &#39;cat&#39; in spam and &#39;cat&#39; in spam.values()?"
   ]
  },
  {
   "cell_type": "markdown",
   "id": "b0090e4f-2d57-4ba9-bc15-bfff8816a252",
   "metadata": {},
   "source": [
    "'cat' in spam checks whether'cat' exists as a key in spam. \n",
    "\n",
    "'cat' in spam.values() checks whether 'cat' is a value in spam."
   ]
  },
  {
   "cell_type": "markdown",
   "id": "14ac03ae-42c6-40ff-b84c-4ecc13f359c2",
   "metadata": {},
   "source": [
    "## 7. What is a shortcut for the following code?\n",
    "#### if &#39;color&#39; not in spam:\n",
    "#### spam[&#39;color&#39;] = &#39;black&#39;"
   ]
  },
  {
   "cell_type": "markdown",
   "id": "ff913db5-26db-4bf5-9aa9-227fe87143a1",
   "metadata": {},
   "source": [
    "Answer: \n",
    "\n",
    "spam.setdefault('color', 'black')"
   ]
  },
  {
   "cell_type": "markdown",
   "id": "e06c2795-b31d-4d9f-a0d2-fab60c2f09ab",
   "metadata": {},
   "source": [
    "## Q: 8. How do you &quot;pretty print&quot; dictionary values using which module and function?"
   ]
  },
  {
   "cell_type": "markdown",
   "id": "d20c09dc-2169-4b66-9ffb-8c7b7d735ef0",
   "metadata": {},
   "source": [
    "### Using pprint module and pprint() function as below"
   ]
  },
  {
   "cell_type": "code",
   "execution_count": 5,
   "id": "e53fd807-7547-4e4c-8608-7da3682a0863",
   "metadata": {},
   "outputs": [
    {
     "name": "stdout",
     "output_type": "stream",
     "text": [
      "{'age': 31,\n",
      " 'books': ['Harry Potter', 'Lord of the Rings'],\n",
      " 'gender': 'male',\n",
      " 'name': 'Nik'}\n"
     ]
    }
   ],
   "source": [
    "import pprint\n",
    "sample_dict = {'name': 'Nik', 'age': 31, 'gender': 'male', 'books': ['Harry Potter', 'Lord of the Rings']}\n",
    "pprint.pprint(sample_dict)"
   ]
  }
 ],
 "metadata": {
  "kernelspec": {
   "display_name": "Python 3 (ipykernel)",
   "language": "python",
   "name": "python3"
  },
  "language_info": {
   "codemirror_mode": {
    "name": "ipython",
    "version": 3
   },
   "file_extension": ".py",
   "mimetype": "text/x-python",
   "name": "python",
   "nbconvert_exporter": "python",
   "pygments_lexer": "ipython3",
   "version": "3.10.6"
  }
 },
 "nbformat": 4,
 "nbformat_minor": 5
}
