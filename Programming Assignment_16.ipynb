{
 "cells": [
  {
   "cell_type": "markdown",
   "id": "7e993486-5cd8-46c8-a41a-d7f209906ab6",
   "metadata": {},
   "source": [
    "## Question1. \n",
    "Write a function that stutters a word as if someone is struggling to read it. The\n",
    "first two letters are repeated twice with an ellipsis ... and space after each, and then the word is pronounced with a question mark ?.\n",
    "\n",
    "Examples\n",
    "\n",
    "stutter(&quot;incredible&quot;) ➞ &quot;in... in... incredible?&quot;\n",
    "\n",
    "stutter(&quot;enthusiastic&quot;) ➞ &quot;en... en... enthusiastic?&quot;\n",
    "\n",
    "stutter(&quot;outstanding&quot;) ➞ &quot;ou... ou... outstanding?&quot;\n",
    "\n",
    "\n",
    "Hint :- Assume all input is in lower case and at least two characters long."
   ]
  },
  {
   "cell_type": "code",
   "execution_count": 12,
   "id": "e08d5d08-867b-4994-8e15-5ac634c816ca",
   "metadata": {},
   "outputs": [
    {
     "name": "stdin",
     "output_type": "stream",
     "text": [
      "Enter the string:  incredible\n"
     ]
    }
   ],
   "source": [
    "text = str(input('Enter the string: '))"
   ]
  },
  {
   "cell_type": "code",
   "execution_count": 13,
   "id": "e1164f60-1afb-41fa-afa5-c6dac927df03",
   "metadata": {},
   "outputs": [
    {
     "data": {
      "text/plain": [
       "'in... in... incredible'"
      ]
     },
     "execution_count": 13,
     "metadata": {},
     "output_type": "execute_result"
    }
   ],
   "source": [
    "def stutter(text):\n",
    "    return (text[:2]+'... ')*2+text\n",
    "\n",
    "stutter(text)"
   ]
  },
  {
   "cell_type": "code",
   "execution_count": 9,
   "id": "62a7bd57-9c71-4398-9461-fcd390bacd44",
   "metadata": {},
   "outputs": [
    {
     "data": {
      "text/plain": [
       "'in... in... incredible'"
      ]
     },
     "execution_count": 9,
     "metadata": {},
     "output_type": "execute_result"
    }
   ],
   "source": [
    "stutter('incredible')"
   ]
  },
  {
   "cell_type": "code",
   "execution_count": 10,
   "id": "6af19047-44b4-4b92-9061-43751be96856",
   "metadata": {},
   "outputs": [
    {
     "data": {
      "text/plain": [
       "'en... en... enthusiastic'"
      ]
     },
     "execution_count": 10,
     "metadata": {},
     "output_type": "execute_result"
    }
   ],
   "source": [
    "stutter('enthusiastic')"
   ]
  },
  {
   "cell_type": "code",
   "execution_count": 11,
   "id": "bb4799ad-5f45-4302-a0c1-6cb66e084490",
   "metadata": {},
   "outputs": [
    {
     "data": {
      "text/plain": [
       "'ou... ou... outstanding'"
      ]
     },
     "execution_count": 11,
     "metadata": {},
     "output_type": "execute_result"
    }
   ],
   "source": [
    "stutter('outstanding')"
   ]
  },
  {
   "cell_type": "markdown",
   "id": "080d711e-6368-44ef-a19e-cf82f504bc0d",
   "metadata": {},
   "source": [
    "## Question 2.\n",
    "Create a function that takes an angle in radians and returns the corresponding\n",
    "angle in degrees rounded to one decimal place.\n",
    "\n",
    "Examples\n",
    "\n",
    "radians_to_degrees(1) ➞ 57.3\n",
    "\n",
    "radians_to_degrees(20) ➞ 1145.9\n",
    "\n",
    "radians_to_degrees(50) ➞ 2864.8"
   ]
  },
  {
   "cell_type": "code",
   "execution_count": 17,
   "id": "f55c51af-95fa-47c0-990c-79b702aabf79",
   "metadata": {},
   "outputs": [
    {
     "name": "stdin",
     "output_type": "stream",
     "text": [
      "Enter the angles in radians:  20\n"
     ]
    },
    {
     "name": "stdout",
     "output_type": "stream",
     "text": [
      "\n",
      "Angle in degress:  1145.45\n"
     ]
    }
   ],
   "source": [
    "radian = float(input('Enter the angles in radians: '))\n",
    "\n",
    "pi = 22/7\n",
    "\n",
    "degree = radian * (180/pi)\n",
    "\n",
    "print('\\nAngle in degress: ', round(degree, 2))"
   ]
  },
  {
   "cell_type": "markdown",
   "id": "1459df22-93c1-4ca9-81d6-482b02678061",
   "metadata": {},
   "source": [
    "## Question 3. \n",
    "In this challenge, establish if a given integer num is a Curzon number. If 1 plus\n",
    "2 elevated to num is exactly divisible by 1 plus 2 multiplied by num, then num is a Curzon number.\n",
    "\n",
    "Given a non-negative integer num, implement a function that returns True if num is a Curzon number, or False otherwise.\n",
    "\n",
    "Examples\n",
    "\n",
    "is_curzon(5) ➞ True\n",
    "\n",
    "2 ** 5 + 1 = 33\n",
    "\n",
    "2 * 5 + 1 = 11\n",
    "\n",
    "33 is a multiple of 11\n",
    "\n",
    "is_curzon(10) ➞ False\n",
    "\n",
    "2 ** 10 + 1 = 1025\n",
    "\n",
    "2 * 10 + 1 = 21\n",
    "\n",
    "1025 is not a multiple of 21\n",
    "\n",
    "is_curzon(14) ➞ True\n",
    "\n",
    "2 ** 14 + 1 = 16385\n",
    "\n",
    "2 * 14 + 1 = 29\n",
    "\n",
    "16385 is a multiple of 29\n"
   ]
  },
  {
   "cell_type": "code",
   "execution_count": 23,
   "id": "0845db53-252b-4e70-b41c-9624f4d74e67",
   "metadata": {},
   "outputs": [],
   "source": [
    "def is_curzon(number):\n",
    "    if ( 2 ** number + 1) % (2 *  number + 1) == 0:\n",
    "        return True\n",
    "    else:\n",
    "        return False\n"
   ]
  },
  {
   "cell_type": "code",
   "execution_count": 26,
   "id": "25cfe134-b574-4001-9bad-0a8cf6c9a551",
   "metadata": {},
   "outputs": [
    {
     "name": "stdin",
     "output_type": "stream",
     "text": [
      "Enter your number:  10\n"
     ]
    },
    {
     "name": "stdout",
     "output_type": "stream",
     "text": [
      "The numer: 10 is NOT a Curzon Number\n"
     ]
    }
   ],
   "source": [
    "number = int(input('Enter your number: '))\n",
    "\n",
    "if is_curzon(number):\n",
    "    print(f'The numer: {number} is a Curzon Number')\n",
    "else:\n",
    "    print(f'The numer: {number} is NOT a Curzon Number')"
   ]
  },
  {
   "cell_type": "markdown",
   "id": "3130739e-c227-469b-b394-b0fa286f9212",
   "metadata": {},
   "source": [
    "## Question 4.Given the side length x find the area of a hexagon.\n",
    "\n",
    "Examples\n",
    "\n",
    "area_of_hexagon(1) ➞ 2.6\n",
    "\n",
    "area_of_hexagon(2) ➞ 10.4\n",
    "\n",
    "area_of_hexagon(3) ➞ 23.4"
   ]
  },
  {
   "cell_type": "code",
   "execution_count": 2,
   "id": "6d38f973-0650-4b8d-995d-b61f30913990",
   "metadata": {},
   "outputs": [],
   "source": [
    "import math\n",
    "def area_of_hexagon(side):\n",
    "    A = 3 * math.sqrt(3) * side ** 2 / 2\n",
    "    return round(A, 1)"
   ]
  },
  {
   "cell_type": "code",
   "execution_count": 3,
   "id": "b602c36a-9061-4a2d-9fa9-690edbfe1e9d",
   "metadata": {},
   "outputs": [
    {
     "data": {
      "text/plain": [
       "2.6"
      ]
     },
     "execution_count": 3,
     "metadata": {},
     "output_type": "execute_result"
    }
   ],
   "source": [
    "area_of_hexagon(1)"
   ]
  },
  {
   "cell_type": "code",
   "execution_count": 4,
   "id": "bf30306b-966d-45df-a3ef-b43982bce262",
   "metadata": {},
   "outputs": [
    {
     "data": {
      "text/plain": [
       "10.4"
      ]
     },
     "execution_count": 4,
     "metadata": {},
     "output_type": "execute_result"
    }
   ],
   "source": [
    "area_of_hexagon(2)"
   ]
  },
  {
   "cell_type": "code",
   "execution_count": 5,
   "id": "da6c2fed-036b-45e5-9fa9-8693bd7ff30f",
   "metadata": {},
   "outputs": [
    {
     "data": {
      "text/plain": [
       "23.4"
      ]
     },
     "execution_count": 5,
     "metadata": {},
     "output_type": "execute_result"
    }
   ],
   "source": [
    "area_of_hexagon(3)"
   ]
  },
  {
   "cell_type": "markdown",
   "id": "afd4cf9e-929e-44ed-9beb-bdafab368c93",
   "metadata": {},
   "source": [
    "##  Question 5. \n",
    "Create a function that returns a base-2 (binary) representation of a base-10\n",
    "(decimal) string number. To convert is simple: ((2) means base-2 and (10) means base-10)\n",
    "010101001(2) = 1 + 8 + 32 + 128.\n",
    "\n",
    "Going from right to left, the value of the most right bit is 1, now from that every bit to the left\n",
    "will be x2 the value, value of an 8 bit binary numbers are (256, 128, 64, 32, 16, 8, 4, 2, 1).\n",
    "\n",
    "Examples\n",
    "\n",
    "binary(1) ➞ &quot;1&quot;\n",
    "\n",
    "1* 1 = 1\n",
    "\n",
    "binary(5) ➞ &quot;101&quot;\n",
    "\n",
    "1* 1 + 1* 4 = 5\n",
    "\n",
    "binary(10) ➞ &quot;1010&quot;\n",
    "\n",
    "1* 2 + 1* 8 = 10"
   ]
  },
  {
   "cell_type": "code",
   "execution_count": 36,
   "id": "9875834c-be91-4bf6-94c0-4f16df725b2d",
   "metadata": {},
   "outputs": [],
   "source": [
    "def binary(n):\n",
    "    num = n\n",
    "    binstr = []\n",
    "    try: \n",
    "        while (num > 0):\n",
    "            binstr.append(str(num % 2))\n",
    "            num = num // 2\n",
    "        return ''.join(binstr[::-1])\n",
    "    except Exception as e:\n",
    "        return e"
   ]
  },
  {
   "cell_type": "code",
   "execution_count": 29,
   "id": "ab908ed6-0ca1-4ea1-9978-a136bb85c8c5",
   "metadata": {},
   "outputs": [
    {
     "data": {
      "text/plain": [
       "'1'"
      ]
     },
     "execution_count": 29,
     "metadata": {},
     "output_type": "execute_result"
    }
   ],
   "source": [
    "binary(1)"
   ]
  },
  {
   "cell_type": "code",
   "execution_count": 30,
   "id": "a8d3f4d7-7df5-4ff7-833e-42c01f0c073f",
   "metadata": {},
   "outputs": [
    {
     "data": {
      "text/plain": [
       "'101'"
      ]
     },
     "execution_count": 30,
     "metadata": {},
     "output_type": "execute_result"
    }
   ],
   "source": [
    "binary(5)"
   ]
  },
  {
   "cell_type": "code",
   "execution_count": 31,
   "id": "de9398e7-0046-43fd-98bd-907ef900b82d",
   "metadata": {},
   "outputs": [
    {
     "data": {
      "text/plain": [
       "'1010'"
      ]
     },
     "execution_count": 31,
     "metadata": {},
     "output_type": "execute_result"
    }
   ],
   "source": [
    "binary(10)"
   ]
  },
  {
   "cell_type": "code",
   "execution_count": 37,
   "id": "d66859b8-a2f5-447d-ad83-3bafea7de24d",
   "metadata": {},
   "outputs": [
    {
     "data": {
      "text/plain": [
       "TypeError(\"'>' not supported between instances of 'str' and 'int'\")"
      ]
     },
     "execution_count": 37,
     "metadata": {},
     "output_type": "execute_result"
    }
   ],
   "source": [
    "binary('k')"
   ]
  },
  {
   "cell_type": "code",
   "execution_count": null,
   "id": "ab293334-3113-48a1-b029-393047c3703f",
   "metadata": {},
   "outputs": [],
   "source": []
  }
 ],
 "metadata": {
  "kernelspec": {
   "display_name": "Python 3 (ipykernel)",
   "language": "python",
   "name": "python3"
  },
  "language_info": {
   "codemirror_mode": {
    "name": "ipython",
    "version": 3
   },
   "file_extension": ".py",
   "mimetype": "text/x-python",
   "name": "python",
   "nbconvert_exporter": "python",
   "pygments_lexer": "ipython3",
   "version": "3.10.6"
  }
 },
 "nbformat": 4,
 "nbformat_minor": 5
}
