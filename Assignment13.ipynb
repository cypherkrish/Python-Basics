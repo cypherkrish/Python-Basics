{
 "cells": [
  {
   "cell_type": "markdown",
   "id": "0f63534c-a71b-4364-93b9-a53a3316a760",
   "metadata": {},
   "source": [
    "## Q: 1. What advantages do Excel spreadsheets have over CSV spreadsheets?"
   ]
  },
  {
   "cell_type": "markdown",
   "id": "23cdcfea-b4ef-4e3d-99da-481be2a1a20c",
   "metadata": {},
   "source": [
    "In Excel, spreadsheets can have values of data types other than strings; \n",
    "cells can have different fonts, sizes, or color settings; cells can have \n",
    "varying widths and heights; adjacent cells can be merged; and you can \n",
    "embed images and charts."
   ]
  },
  {
   "cell_type": "markdown",
   "id": "31968689-5e7a-4073-bfbb-b934970cc4f9",
   "metadata": {},
   "source": [
    "## Q: 2.What do you pass to csv.reader() and csv.writer() to create reader and writer objects?"
   ]
  },
  {
   "cell_type": "markdown",
   "id": "c2b69e40-ba30-4a9f-b309-1ccd0947f860",
   "metadata": {},
   "source": [
    "pass a File object, obtained from a call to open()"
   ]
  },
  {
   "cell_type": "markdown",
   "id": "6eb6e755-29bf-4e54-9099-5203927ed4df",
   "metadata": {},
   "source": [
    "## Q: 3. What modes do File objects for reader and writer objects need to be opened in?"
   ]
  },
  {
   "cell_type": "markdown",
   "id": "9701ecce-8b8b-4aee-81fa-a7753eb98815",
   "metadata": {},
   "source": [
    "File objects need to be opened in read-binary ('rb') for Reader objects \n",
    "and write-binary ('wb') for Writer objects."
   ]
  },
  {
   "cell_type": "markdown",
   "id": "d7382b85-6a11-4f8b-87d7-07bda33cf43f",
   "metadata": {},
   "source": [
    "## Q: 4. What method takes a list argument and writes it to a CSV file?"
   ]
  },
  {
   "cell_type": "markdown",
   "id": "87404498-65ed-48b0-95ce-13df5bfa8c9f",
   "metadata": {},
   "source": [
    "The writerow() method"
   ]
  },
  {
   "cell_type": "markdown",
   "id": "903a3601-f000-4b6a-a149-ba883daa34e8",
   "metadata": {},
   "source": [
    "## Q: 5. What do the keyword arguments delimiter and line terminator do?"
   ]
  },
  {
   "cell_type": "markdown",
   "id": "2ae19040-cf3f-4f65-a48f-c1467bc2bd1f",
   "metadata": {},
   "source": [
    "The delimiter argument changes the string used to separate cells \n",
    "in a row. The lineterminator argument changes the string used to \n",
    "separate rows."
   ]
  },
  {
   "cell_type": "markdown",
   "id": "2749a4b8-77fd-487a-9138-c3f8a66c948f",
   "metadata": {},
   "source": [
    "## q: 6. What function takes a string of JSON data and returns a Python data structure?"
   ]
  },
  {
   "cell_type": "markdown",
   "id": "23472a60-bb71-45e5-863e-6a81b0cce0dd",
   "metadata": {},
   "source": [
    "json.loads()"
   ]
  },
  {
   "cell_type": "markdown",
   "id": "d5e9d247-ddd2-4428-b3e2-7d16aacf2c5a",
   "metadata": {},
   "source": [
    "## Q: 7. What function takes a Python data structure and returns a string of JSON data?"
   ]
  },
  {
   "cell_type": "markdown",
   "id": "df1f5023-7d45-4956-8a5e-6180bc6e9e72",
   "metadata": {},
   "source": [
    "json.dumps()"
   ]
  },
  {
   "cell_type": "code",
   "execution_count": null,
   "id": "4ebd5d02-df70-488b-a606-d0ede2599ac7",
   "metadata": {},
   "outputs": [],
   "source": []
  }
 ],
 "metadata": {
  "kernelspec": {
   "display_name": "Python 3 (ipykernel)",
   "language": "python",
   "name": "python3"
  },
  "language_info": {
   "codemirror_mode": {
    "name": "ipython",
    "version": 3
   },
   "file_extension": ".py",
   "mimetype": "text/x-python",
   "name": "python",
   "nbconvert_exporter": "python",
   "pygments_lexer": "ipython3",
   "version": "3.10.6"
  }
 },
 "nbformat": 4,
 "nbformat_minor": 5
}
