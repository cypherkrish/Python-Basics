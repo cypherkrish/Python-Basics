{
 "cells": [
  {
   "cell_type": "markdown",
   "id": "8287c736-5074-48b7-98dc-fecc885b908b",
   "metadata": {},
   "source": [
    "## 1. Write a Python program to Extract Unique values dictionary values?"
   ]
  },
  {
   "cell_type": "code",
   "execution_count": 22,
   "id": "f93b5561-1c20-4b68-b376-dd4ff8909e03",
   "metadata": {},
   "outputs": [],
   "source": [
    "# initializing dictionary\n",
    "test_dict = {'gfg': [5, 6, 7, 8],\n",
    "             'is': [10, 11, 7, 5],\n",
    "             'best': [6, 12, 10, 8],\n",
    "             'for': [1, 2, 5]}"
   ]
  },
  {
   "cell_type": "code",
   "execution_count": 23,
   "id": "073f7dbc-5090-4997-94bb-96f9d0a54dd1",
   "metadata": {},
   "outputs": [
    {
     "data": {
      "text/plain": [
       "list[dict_values([[5, 6, 7, 8], [10, 11, 7, 5], [6, 12, 10, 8], [1, 2, 5]])]"
      ]
     },
     "execution_count": 23,
     "metadata": {},
     "output_type": "execute_result"
    }
   ],
   "source": [
    "list[test_dict.values()]"
   ]
  },
  {
   "cell_type": "code",
   "execution_count": 24,
   "id": "79cd822b-69b1-47b3-9ed2-f48fea0be9d1",
   "metadata": {},
   "outputs": [],
   "source": [
    "x = []\n",
    "\n",
    "for i in test_dict.keys():\n",
    "    x.extend(test_dict[i])"
   ]
  },
  {
   "cell_type": "code",
   "execution_count": 25,
   "id": "a9940a34-b423-4391-8341-12813ae493f5",
   "metadata": {},
   "outputs": [
    {
     "name": "stdout",
     "output_type": "stream",
     "text": [
      "[5, 6, 7, 8, 10, 11, 7, 5, 6, 12, 10, 8, 1, 2, 5]\n"
     ]
    }
   ],
   "source": [
    "print(x)"
   ]
  },
  {
   "cell_type": "code",
   "execution_count": 26,
   "id": "25852d83-24f8-4abd-a3c3-4a9aa5b44db1",
   "metadata": {},
   "outputs": [],
   "source": [
    "s = set()\n",
    "for i in x:\n",
    "    s.add(i)"
   ]
  },
  {
   "cell_type": "code",
   "execution_count": 29,
   "id": "b73fd012-e889-4207-b176-42956c03a43e",
   "metadata": {},
   "outputs": [
    {
     "name": "stdout",
     "output_type": "stream",
     "text": [
      "\n",
      "Unique values dictionary values:  [1, 2, 5, 6, 7, 8, 10, 11, 12]\n"
     ]
    }
   ],
   "source": [
    "print('\\nUnique values dictionary values: ', list(s))"
   ]
  },
  {
   "cell_type": "markdown",
   "id": "3f9c915a-af70-4713-b8ef-d0c2fe33e6fa",
   "metadata": {},
   "source": [
    "## 2. Write a Python program to find the sum of all items in a dictionary?"
   ]
  },
  {
   "cell_type": "code",
   "execution_count": 41,
   "id": "24a8918a-cb29-47f1-9bed-d99e3c6e446a",
   "metadata": {},
   "outputs": [],
   "source": [
    "# initializing dictionary\n",
    "myDict = {'x': 250, 'y': 500, 'z':410}"
   ]
  },
  {
   "cell_type": "code",
   "execution_count": 47,
   "id": "067f9874-4478-4b11-a05a-90f154cc132a",
   "metadata": {},
   "outputs": [],
   "source": [
    "summ = 0\n",
    "\n",
    "for i in myDict.values():\n",
    "    summ = summ + i"
   ]
  },
  {
   "cell_type": "code",
   "execution_count": 48,
   "id": "7c4b736e-75e8-472e-9e91-bfffa6acd425",
   "metadata": {},
   "outputs": [
    {
     "name": "stdout",
     "output_type": "stream",
     "text": [
      "Sum of all items in the dictionary:  1160\n"
     ]
    }
   ],
   "source": [
    "print('Sum of all items in the dictionary: ', summ)"
   ]
  },
  {
   "cell_type": "markdown",
   "id": "a30bd477-f79d-4635-af0a-876cf7fbac6c",
   "metadata": {},
   "source": [
    "## 3. Write a Python program to Merging two Dictionaries?"
   ]
  },
  {
   "cell_type": "code",
   "execution_count": 56,
   "id": "e736bda0-c4be-46ab-a0aa-94e042dffca0",
   "metadata": {},
   "outputs": [],
   "source": [
    "def mergeDict(dict1, dict2):\n",
    "    return dict1.update(dict2)"
   ]
  },
  {
   "cell_type": "code",
   "execution_count": 54,
   "id": "e8a0fb2b-eff5-4309-baf0-12d61dc13c9a",
   "metadata": {},
   "outputs": [],
   "source": [
    "test_dict = {'gfg': [5, 6, 7, 8],\n",
    "             'is': [10, 11, 7, 5],\n",
    "             'best': [6, 12, 10, 8],\n",
    "             'for': [1, 2, 5]}"
   ]
  },
  {
   "cell_type": "code",
   "execution_count": 55,
   "id": "f1e00a73-2d50-473b-a671-74a7e8c6fdcc",
   "metadata": {},
   "outputs": [],
   "source": [
    "myDict = {'x': 250, 'y': 500, 'z':410}"
   ]
  },
  {
   "cell_type": "code",
   "execution_count": 57,
   "id": "410fb2e9-0f78-4b7b-81af-f44017a4d2a7",
   "metadata": {},
   "outputs": [],
   "source": [
    "mergeDict(test_dict, myDict)"
   ]
  },
  {
   "cell_type": "code",
   "execution_count": 53,
   "id": "aaba767c-f879-4ed0-bb94-5532196e3cda",
   "metadata": {},
   "outputs": [
    {
     "data": {
      "text/plain": [
       "{'gfg': [5, 6, 7, 8],\n",
       " 'is': [10, 11, 7, 5],\n",
       " 'best': [6, 12, 10, 8],\n",
       " 'for': [1, 2, 5],\n",
       " 'x': 250,\n",
       " 'y': 500,\n",
       " 'z': 410}"
      ]
     },
     "execution_count": 53,
     "metadata": {},
     "output_type": "execute_result"
    }
   ],
   "source": [
    "test_dict"
   ]
  },
  {
   "cell_type": "markdown",
   "id": "1478ab35-49cb-44ae-b865-580137153782",
   "metadata": {},
   "source": [
    "## 4. Write a Python program to convert key-values list to flat dictionary?"
   ]
  },
  {
   "cell_type": "code",
   "execution_count": 59,
   "id": "9a3c3579-b02d-4bf8-b62d-d9903c4eecf6",
   "metadata": {},
   "outputs": [],
   "source": [
    "dict1 = { 'num' : [1, 2, 3, 4, 5, 6, 7, 8, 9],\n",
    "         'month' : ['Jan', 'feb', 'mar', 'Apr', 'May', 'Jun', 'Jul', 'Aug', 'Sep', 'Oct' ]}\n"
   ]
  },
  {
   "cell_type": "code",
   "execution_count": 61,
   "id": "3ef9f7e9-6910-4c45-adb9-db0c4ae9d4f3",
   "metadata": {},
   "outputs": [
    {
     "name": "stdout",
     "output_type": "stream",
     "text": [
      "[1, 2, 3, 4, 5, 6, 7, 8, 9]\n"
     ]
    }
   ],
   "source": [
    "print(dict1['num'])"
   ]
  },
  {
   "cell_type": "code",
   "execution_count": 62,
   "id": "0c7bf587-4e71-49f9-919a-453f27bede1c",
   "metadata": {},
   "outputs": [
    {
     "name": "stdout",
     "output_type": "stream",
     "text": [
      "['Jan', 'feb', 'mar', 'Apr', 'May', 'Jun', 'Jul', 'Aug', 'Sep', 'Oct']\n"
     ]
    }
   ],
   "source": [
    "print(dict1['month'])"
   ]
  },
  {
   "cell_type": "code",
   "execution_count": 67,
   "id": "22f1db40-fd92-42bf-a190-9db1f66615f2",
   "metadata": {},
   "outputs": [],
   "source": [
    "flat_dict = dict(zip(dict1['num'], dict1['month']))"
   ]
  },
  {
   "cell_type": "code",
   "execution_count": 71,
   "id": "57b4f739-7378-4efa-8400-24d54473503e",
   "metadata": {},
   "outputs": [
    {
     "name": "stdout",
     "output_type": "stream",
     "text": [
      "Flat dictionary:  {1: 'Jan', 2: 'feb', 3: 'mar', 4: 'Apr', 5: 'May', 6: 'Jun', 7: 'Jul', 8: 'Aug', 9: 'Sep'}\n"
     ]
    }
   ],
   "source": [
    "print('Flat dictionary: ', flat_dict)"
   ]
  },
  {
   "cell_type": "markdown",
   "id": "138367a0-6074-4cbf-845b-1c8232984c38",
   "metadata": {},
   "source": [
    "## 5. Write a Python program to insertion at the beginning in OrderedDict?"
   ]
  },
  {
   "cell_type": "code",
   "execution_count": 72,
   "id": "70f1be70-b90d-4589-8cf7-dd751ea25697",
   "metadata": {},
   "outputs": [],
   "source": [
    "from collections import OrderedDict"
   ]
  },
  {
   "cell_type": "code",
   "execution_count": 73,
   "id": "e5f8f74a-3899-4772-8583-43d9b4723121",
   "metadata": {},
   "outputs": [],
   "source": [
    "iniordered_dict = OrderedDict([('akshat', '1'), ('nikhil', '2')])"
   ]
  },
  {
   "cell_type": "code",
   "execution_count": 74,
   "id": "c01340f5-8f50-45ed-891b-99585dc9b043",
   "metadata": {},
   "outputs": [
    {
     "data": {
      "text/plain": [
       "OrderedDict([('akshat', '1'), ('nikhil', '2')])"
      ]
     },
     "execution_count": 74,
     "metadata": {},
     "output_type": "execute_result"
    }
   ],
   "source": [
    "iniordered_dict"
   ]
  },
  {
   "cell_type": "code",
   "execution_count": 75,
   "id": "1f1857b6-d7fd-4d1a-b81f-82f10e049a54",
   "metadata": {},
   "outputs": [],
   "source": [
    "iniordered_dict.update({'manjeet':'3'})"
   ]
  },
  {
   "cell_type": "code",
   "execution_count": 76,
   "id": "fc6544a8-a909-4984-99d0-c0946546ab4e",
   "metadata": {},
   "outputs": [
    {
     "data": {
      "text/plain": [
       "OrderedDict([('akshat', '1'), ('nikhil', '2'), ('manjeet', '3')])"
      ]
     },
     "execution_count": 76,
     "metadata": {},
     "output_type": "execute_result"
    }
   ],
   "source": [
    "iniordered_dict"
   ]
  },
  {
   "cell_type": "code",
   "execution_count": 83,
   "id": "7a3afcde-7a18-457a-ade3-e22cdf075aa4",
   "metadata": {},
   "outputs": [],
   "source": [
    "iniordered_dict.move_to_end('manjeet', last = False)"
   ]
  },
  {
   "cell_type": "code",
   "execution_count": 84,
   "id": "87e7d093-01f7-4da5-8ac9-771699ef7f44",
   "metadata": {},
   "outputs": [
    {
     "data": {
      "text/plain": [
       "OrderedDict([('manjeet', '3'), ('akshat', '1'), ('nikhil', '2')])"
      ]
     },
     "execution_count": 84,
     "metadata": {},
     "output_type": "execute_result"
    }
   ],
   "source": [
    "iniordered_dict"
   ]
  },
  {
   "cell_type": "code",
   "execution_count": 80,
   "id": "cd0b022b-782d-4321-ba43-1aa9be46bf84",
   "metadata": {},
   "outputs": [
    {
     "name": "stdout",
     "output_type": "stream",
     "text": [
      "Resultant Dictionary : OrderedDict([('manjeet', '3'), ('akshat', '1'), ('nikhil', '2')])\n"
     ]
    }
   ],
   "source": [
    "print (\"Resultant Dictionary : \"+str(iniordered_dict))"
   ]
  },
  {
   "cell_type": "markdown",
   "id": "6209dacd-e2d5-4f28-8e7c-e15d934e91c9",
   "metadata": {},
   "source": [
    "## 6. Write a Python program to mcheck order of character in string using OrderedDict()?"
   ]
  },
  {
   "cell_type": "code",
   "execution_count": 90,
   "id": "a0e28ccf-8c0f-4dd5-bc83-d8519faaac1c",
   "metadata": {},
   "outputs": [],
   "source": [
    "from collections import OrderedDict \n"
   ]
  },
  {
   "cell_type": "code",
   "execution_count": 95,
   "id": "1bec35c2-ebf6-48e5-9561-7a050c4c60eb",
   "metadata": {},
   "outputs": [],
   "source": [
    "def checkOrder(inputstring, pattern):\n",
    "    \n",
    "    dic = OrderedDict.fromkeys(inputstring)\n",
    "    \n",
    "    ptrlen = 0\n",
    "    \n",
    "    for key, value in dic.items():\n",
    "        if (key == pattern[ptrlen]):\n",
    "            ptrlen = ptrlen + 1\n",
    "            \n",
    "        if ptrlen == len(pattern):\n",
    "            return True\n",
    "    return False"
   ]
  },
  {
   "cell_type": "code",
   "execution_count": 96,
   "id": "1b278280-eda3-4675-a708-b024d4db753a",
   "metadata": {},
   "outputs": [
    {
     "data": {
      "text/plain": [
       "True"
      ]
     },
     "execution_count": 96,
     "metadata": {},
     "output_type": "execute_result"
    }
   ],
   "source": [
    "checkOrder('engineers rock', 'er')"
   ]
  },
  {
   "cell_type": "code",
   "execution_count": 97,
   "id": "21d0cbb9-9cc4-4c9d-8669-3d7bfef96f48",
   "metadata": {},
   "outputs": [
    {
     "data": {
      "text/plain": [
       "True"
      ]
     },
     "execution_count": 97,
     "metadata": {},
     "output_type": "execute_result"
    }
   ],
   "source": [
    "checkOrder('venkata krishna murthy', 'ari')"
   ]
  },
  {
   "cell_type": "code",
   "execution_count": 98,
   "id": "cb0716c4-d3df-43e3-af0f-3446b789f58a",
   "metadata": {},
   "outputs": [
    {
     "data": {
      "text/plain": [
       "False"
      ]
     },
     "execution_count": 98,
     "metadata": {},
     "output_type": "execute_result"
    }
   ],
   "source": [
    "checkOrder('venkata krishna murthy', 'ia')"
   ]
  },
  {
   "cell_type": "markdown",
   "id": "80790f4b-4a4d-4afa-a441-c95f45741e7d",
   "metadata": {},
   "source": [
    "## 7. Write a Python program to sort Python Dictionaries by Key or Value?"
   ]
  },
  {
   "cell_type": "code",
   "execution_count": 110,
   "id": "ab960fb5-a4eb-4ef7-ae2f-0c4baeb4d6b0",
   "metadata": {},
   "outputs": [],
   "source": [
    "def keyvalue(dictionary):\n",
    "    sorted(dictionary.keys())\n",
    "    for i in sorted(dictionary.keys()):\n",
    "        print(i, ' ')\n",
    "    "
   ]
  },
  {
   "cell_type": "code",
   "execution_count": 112,
   "id": "a8d5a405-f5e1-4542-a0be-e220683cebc7",
   "metadata": {},
   "outputs": [
    {
     "name": "stdin",
     "output_type": "stream",
     "text": [
      "No.of dict elements:  5\n",
      "1 th key 15\n",
      "1 the value 15\n",
      "2 th key 36\n",
      "2 the value 36\n",
      "3 th key 48\n",
      "3 the value 48\n",
      "4 th key 95\n",
      "4 the value 95\n",
      "5 th key 55\n",
      "5 the value 55\n"
     ]
    },
    {
     "name": "stdout",
     "output_type": "stream",
     "text": [
      "Given dict:  {'15': '15', '36': '36', '48': '48', '95': '95', '55': '55'}\n",
      "15  \n",
      "36  \n",
      "48  \n",
      "55  \n",
      "95  \n"
     ]
    }
   ],
   "source": [
    "ip = int(input('No.of dict elements: '))\n",
    "\n",
    "dic = {}\n",
    "for i in range(ip):\n",
    "    k = input(f'{i+1} th key')\n",
    "    v = input(f'{i+1} the value')\n",
    "    dic[k] = v \n",
    "\n",
    "print('Given dict: ', dic)\n",
    "\n",
    "keyvalue(dic)"
   ]
  },
  {
   "cell_type": "code",
   "execution_count": null,
   "id": "2604822d-ab51-45d4-ae82-553b211f6acf",
   "metadata": {},
   "outputs": [],
   "source": []
  }
 ],
 "metadata": {
  "kernelspec": {
   "display_name": "Python 3 (ipykernel)",
   "language": "python",
   "name": "python3"
  },
  "language_info": {
   "codemirror_mode": {
    "name": "ipython",
    "version": 3
   },
   "file_extension": ".py",
   "mimetype": "text/x-python",
   "name": "python",
   "nbconvert_exporter": "python",
   "pygments_lexer": "ipython3",
   "version": "3.10.6"
  }
 },
 "nbformat": 4,
 "nbformat_minor": 5
}
