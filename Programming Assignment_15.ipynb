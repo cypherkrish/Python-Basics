{
 "cells": [
  {
   "cell_type": "markdown",
   "id": "023e6029-2079-4f60-9379-7bac0b6aa2c4",
   "metadata": {},
   "source": [
    "## Question 1:\n",
    "Please write a program using generator to print the numbers which can be divisible by 5 and\n",
    "7 between 0 and n in comma separated form while n is input by console.\n",
    "\n",
    "Example:\n",
    "\n",
    "If the following n is given as input to the program:\n",
    "\n",
    "100\n",
    "\n",
    "Then, the output of the program should be:\n",
    "\n",
    "0,35,70"
   ]
  },
  {
   "cell_type": "code",
   "execution_count": 17,
   "id": "a85b27cc-0a16-458a-9e0a-a01977a1e20a",
   "metadata": {},
   "outputs": [
    {
     "name": "stdin",
     "output_type": "stream",
     "text": [
      "Enter the number:  100\n"
     ]
    }
   ],
   "source": [
    "n =int (input(\"Enter the number: \"))"
   ]
  },
  {
   "cell_type": "code",
   "execution_count": 18,
   "id": "947c7129-6e7a-488a-8db7-8b4298629e70",
   "metadata": {},
   "outputs": [],
   "source": [
    "def func(n):\n",
    "    for i in range(n):\n",
    "        if i % 5 == 0 and i % 7 == 0:\n",
    "            yield i\n",
    "    "
   ]
  },
  {
   "cell_type": "code",
   "execution_count": 19,
   "id": "418a45d7-8f0b-47e6-8ecf-afc6b30c97f6",
   "metadata": {},
   "outputs": [],
   "source": [
    "f = func(n)"
   ]
  },
  {
   "cell_type": "code",
   "execution_count": 20,
   "id": "fca1ea1b-f537-4e38-b74e-08b10e5abd30",
   "metadata": {},
   "outputs": [
    {
     "name": "stdout",
     "output_type": "stream",
     "text": [
      "0 35 70 "
     ]
    }
   ],
   "source": [
    "for i in f:\n",
    "    print(i, end = ' ')"
   ]
  },
  {
   "cell_type": "markdown",
   "id": "6aa87e16-0736-4e08-bdb4-25d0742edd5a",
   "metadata": {},
   "source": [
    "## Question 2:\n",
    "Please write a program using generator to print the even numbers between 0 and n in comma\n",
    "separated form while n is input by console.\n",
    "\n",
    "Example:\n",
    "\n",
    "If the following n is given as input to the program:\n",
    "\n",
    "10\n",
    "\n",
    "Then, the output of the program should be:\n",
    "\n",
    "0,2,4,6,8,10"
   ]
  },
  {
   "cell_type": "code",
   "execution_count": 51,
   "id": "60912b3f-fd48-4e1a-ba3e-8d9fed38b00e",
   "metadata": {},
   "outputs": [
    {
     "name": "stdin",
     "output_type": "stream",
     "text": [
      "Enter then number:  10\n"
     ]
    },
    {
     "name": "stdout",
     "output_type": "stream",
     "text": [
      "0,2,4,6,8,"
     ]
    }
   ],
   "source": [
    "n1 = int(input('Enter then number: '))\n",
    "\n",
    "def evenfunc(n1):\n",
    "    lst = []\n",
    "    for i in range(n1):\n",
    "        if i % 2 == 0:\n",
    "            yield i\n",
    "\n",
    "n2 = evenfunc(n1)\n",
    "\n",
    "for i in n2:\n",
    "    print(i, end=',')"
   ]
  },
  {
   "cell_type": "markdown",
   "id": "578add14-805d-4a02-aa16-7f5ed2581f0b",
   "metadata": {},
   "source": [
    "## Question 3:\n",
    "The Fibonacci Sequence is computed based on the following formula:\n",
    "\n",
    "f(n)=0 if n=0\n",
    "\n",
    "f(n)=1 if n=1\n",
    "\n",
    "f(n)=f(n-1)+f(n-2) if n&gt;1\n",
    "\n",
    "Please write a program using list comprehension to print the Fibonacci Sequence in comma\n",
    "separated form with a given n input by console.\n",
    "\n",
    "Example:\n",
    "\n",
    "If the following n is given as input to the program:\n",
    "\n",
    "7\n",
    "\n",
    "Then, the output of the program should be:\n",
    "\n",
    "0,1,1,2,3,5,8,13"
   ]
  },
  {
   "cell_type": "code",
   "execution_count": 90,
   "id": "b3cff79d-6dd4-4b5c-a836-6f3b4b72ec16",
   "metadata": {},
   "outputs": [
    {
     "name": "stdin",
     "output_type": "stream",
     "text": [
      "n:  7\n"
     ]
    },
    {
     "name": "stdout",
     "output_type": "stream",
     "text": [
      "[0, 1, 1, 2, 3, 5, 8, 13]\n"
     ]
    }
   ],
   "source": [
    "n = int(input('n: '))\n",
    "\n",
    "fib = [0, 1]\n",
    "\n",
    "lst = [fib.append(fib[i] + fib[i+1]) for i in range(0, n-1)]\n",
    "\n",
    "print(fib)"
   ]
  },
  {
   "cell_type": "markdown",
   "id": "d2c4c13c-32b7-4c5e-ad03-2ae235d3a28b",
   "metadata": {},
   "source": [
    "## Question 4:\n",
    "Assuming that we have some email addresses in the &quot;username@companyname.com&quot; format,\n",
    "please write program to print the user name of a given email address. Both user names and\n",
    "company names are composed of letters only.\n",
    "\n",
    "Example:\n",
    "\n",
    "If the following email address is given as input to the program:\n",
    "\n",
    "john@google.com\n",
    "\n",
    "Then, the output of the program should be:\n",
    "\n",
    "john"
   ]
  },
  {
   "cell_type": "code",
   "execution_count": 93,
   "id": "b50663c6-83ca-434c-a4e8-98d72bb6be06",
   "metadata": {},
   "outputs": [
    {
     "name": "stdin",
     "output_type": "stream",
     "text": [
      "Enter your email:  john@google.com\n"
     ]
    },
    {
     "name": "stdout",
     "output_type": "stream",
     "text": [
      "The user name is: john\n"
     ]
    }
   ],
   "source": [
    "email = input('Enter your email: ').split('@')\n",
    "\n",
    "print(f'The user name is: {email[0]}')"
   ]
  },
  {
   "cell_type": "markdown",
   "id": "da76dfc9-88a0-4ac1-8e22-50e1bae5d646",
   "metadata": {},
   "source": [
    "## Question 5:\n",
    "Define a class named Shape and its subclass Square. The Square class has an init function\n",
    "which takes a length as argument. Both classes have a area function which can print the area\n",
    "of the shape where Shape&#39;s area is 0 by default."
   ]
  },
  {
   "cell_type": "code",
   "execution_count": 104,
   "id": "c11baff6-2d6e-4371-a0c5-c91dedcafef1",
   "metadata": {},
   "outputs": [],
   "source": [
    "class Shape(object):\n",
    "    \n",
    "    def __init__(self):\n",
    "        pass\n",
    "    \n",
    "    def area(self):\n",
    "        return 0\n",
    "    \n",
    "class Square(Shape):\n",
    "    def __init__(self, length):\n",
    "        Shape.__init__(self)\n",
    "        self.length = length\n",
    "        \n",
    "    def area (self):\n",
    "        return self.length ** 2\n",
    "        "
   ]
  },
  {
   "cell_type": "code",
   "execution_count": 105,
   "id": "62f7a6f9-24b7-446c-af21-2bf6acf684ef",
   "metadata": {},
   "outputs": [
    {
     "data": {
      "text/plain": [
       "400"
      ]
     },
     "execution_count": 105,
     "metadata": {},
     "output_type": "execute_result"
    }
   ],
   "source": [
    "square = Square(20)\n",
    "\n",
    "square.area()"
   ]
  },
  {
   "cell_type": "code",
   "execution_count": null,
   "id": "6525a0c9-8b00-46c6-b11c-f898457e4023",
   "metadata": {},
   "outputs": [],
   "source": []
  }
 ],
 "metadata": {
  "kernelspec": {
   "display_name": "Python 3 (ipykernel)",
   "language": "python",
   "name": "python3"
  },
  "language_info": {
   "codemirror_mode": {
    "name": "ipython",
    "version": 3
   },
   "file_extension": ".py",
   "mimetype": "text/x-python",
   "name": "python",
   "nbconvert_exporter": "python",
   "pygments_lexer": "ipython3",
   "version": "3.10.6"
  }
 },
 "nbformat": 4,
 "nbformat_minor": 5
}
